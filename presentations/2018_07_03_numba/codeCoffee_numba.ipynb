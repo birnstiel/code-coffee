{
 "cells": [
  {
   "cell_type": "code",
   "execution_count": null,
   "metadata": {},
   "outputs": [],
   "source": [
    "%%html\n",
    "<style>\n",
    "table {float:left}\n",
    "</style>"
   ]
  },
  {
   "cell_type": "markdown",
   "metadata": {},
   "source": [
    "# Code Coffee: Speeding up Python with Numba\n",
    "**Sebastian Stammler (stammler@usm.lmu.de)**  \n",
    "3rd, July 2018"
   ]
  },
  {
   "cell_type": "markdown",
   "metadata": {},
   "source": [
    "## Sources\n",
    "\n",
    "* [**Website** (latest version: 0.38.0)](https://numba.pydata.org/)\n",
    "* [**Documentation**](http://numba.pydata.org/numba-doc/latest/index.html)"
   ]
  },
  {
   "cell_type": "markdown",
   "metadata": {},
   "source": [
    "## Introduction & Tutorial on YouTube"
   ]
  },
  {
   "cell_type": "markdown",
   "metadata": {},
   "source": [
    "* [**Github repository**](https://github.com/gforsyth/numba_tutorial_scipy2017)  \n",
    "* [**YouTube video**](https://www.youtube.com/watch?v=1AwG0T4gaO0)\n",
    "\n",
    "[![Numba Tutorial](img/numba_tutorial.jpg)](https://www.youtube.com/watch?v=1AwG0T4gaO0 \"Numba Tutorial\")"
   ]
  },
  {
   "cell_type": "markdown",
   "metadata": {},
   "source": [
    "## Requirements\n",
    "\n",
    "To follow the examples in this notebook you need to install a few modules.  \n",
    "I recommend you to install the requirements from above tutorial, which are in the file `environment.yml`."
   ]
  },
  {
   "cell_type": "code",
   "execution_count": null,
   "metadata": {},
   "outputs": [],
   "source": [
    "%%file environment.yml\n",
    "name: numbatutorial\n",
    "dependencies:\n",
    "    - python=3.6\n",
    "    - numpy\n",
    "    - matplotlib\n",
    "    - numba\n",
    "    - jupyter\n",
    "    - ipython\n",
    "    - line_profiler\n",
    "    - cython\n",
    "    - scipy"
   ]
  },
  {
   "cell_type": "markdown",
   "metadata": {},
   "source": [
    "### Loading the environment\n",
    "\n",
    "```\n",
    "conda env create -f environment.yml\n",
    "source activate numbatutorial\n",
    "```"
   ]
  },
  {
   "cell_type": "markdown",
   "metadata": {},
   "source": [
    "## Why Python?\n",
    "\n",
    "### Pros:\n",
    "* easy to read / understand / use\n",
    "* dynamic typing\n",
    "* easy to install new packages\n",
    "* ...\n",
    "\n",
    "### Cons:\n",
    "* interpreted language\n",
    "* dynamic typing\n",
    "* ..."
   ]
  },
  {
   "cell_type": "markdown",
   "metadata": {},
   "source": [
    "# Example 1: Matrix-vector multiplication (basics)\n",
    "\n",
    "As an example on what `Numba` actually does we look at a simple matrix-vector multiplication.\n",
    "\n",
    "$\n",
    "\\begin{align*}\n",
    " \\vec{x} = \\mathbf{A} \\cdot \\vec{b} \\qquad \\qquad \\mathbf{A} &\\in \\mathbb{R}^{M \\times N} \\\\ \\vec{b} &\\in \\mathbb{R}^N\n",
    "\\end{align*}\n",
    "$"
   ]
  },
  {
   "cell_type": "markdown",
   "metadata": {},
   "source": [
    "### Initialization"
   ]
  },
  {
   "cell_type": "code",
   "execution_count": null,
   "metadata": {},
   "outputs": [],
   "source": [
    "import numpy as np\n",
    "\n",
    "# Dimensions\n",
    "M = 1000\n",
    "N = 2000\n",
    "\n",
    "# Initialization\n",
    "A = np.random.random((M, N))\n",
    "b = np.random.random(N)"
   ]
  },
  {
   "cell_type": "markdown",
   "metadata": {},
   "source": [
    "### Simple Python function\n",
    "\n",
    "The elements $x_i$ of vector $\\vec{x}$ are sums, such that a simple Python implementation could be realized by two `for` loops.\n",
    "\n",
    "$\n",
    "\\begin{align}\n",
    "x_i = \\sum\\limits_{j=1}^M A_{ij} b_j\n",
    "\\end{align}\n",
    "$"
   ]
  },
  {
   "cell_type": "code",
   "execution_count": null,
   "metadata": {},
   "outputs": [],
   "source": [
    "def mat_vec_mult(A, b):\n",
    "    M, N = A.shape\n",
    "    x = np.zeros(M)\n",
    "    for i in range(M):\n",
    "        for j in range(N):\n",
    "            x[i] += A[i, j] * b[j]\n",
    "    return x\n",
    "\n",
    "t_mat_vec_python = %timeit -o mat_vec_mult(A, b)"
   ]
  },
  {
   "cell_type": "markdown",
   "metadata": {},
   "source": [
    "### Simple Python function with Numba\n",
    "\n",
    "There are two methods for using the just-in-time compiler `jit` from the `numba` package. One is by using it as a decorator in front of the function that should be compiled.\n",
    "\n",
    "Functions decorated with `jit` will be compiled when they are called for the first time. In order to not measure the compilation time, we call the functions once before using `timeit`."
   ]
  },
  {
   "cell_type": "code",
   "execution_count": null,
   "metadata": {},
   "outputs": [],
   "source": [
    "from numba import jit\n",
    "\n",
    "@jit\n",
    "def mat_vec_mult_numba(A, b):\n",
    "    M, N = A.shape\n",
    "    x = np.zeros(M)\n",
    "    for i in range(M):\n",
    "        for j in range(N):\n",
    "            x[i] += A[i, j] * b[j]\n",
    "    return x\n",
    "\n",
    "mat_vec_mult_numba(A, b)\n",
    "t_mat_vec_numba = %timeit -o mat_vec_mult_numba(A, b)"
   ]
  },
  {
   "cell_type": "markdown",
   "metadata": {},
   "source": [
    "### Numpy function\n",
    "\n",
    "A simple matrix-vector multiplication is standard maths operation that is already implemented in `NumPy`, which is written in `C` and `Fortran`. How does this compare to `Numba`?"
   ]
  },
  {
   "cell_type": "code",
   "execution_count": null,
   "metadata": {},
   "outputs": [],
   "source": [
    "t_mat_vec_numpy = %timeit -o np.dot(A, b)"
   ]
  },
  {
   "cell_type": "markdown",
   "metadata": {},
   "source": [
    "### Check for consistency\n",
    "\n",
    "Just to be sure, that all three possibilities shown above actually return the same solution."
   ]
  },
  {
   "cell_type": "code",
   "execution_count": null,
   "metadata": {},
   "outputs": [],
   "source": [
    "x_mat_vec_python                = mat_vec_mult(A, b)\n",
    "x_mat_vec_python_numba          = mat_vec_mult_numba(A, b)\n",
    "x_mat_vec_numpy                 = np.dot(A, b)\n",
    "\n",
    "mat_vec_allclose =                                  np.allclose(x_mat_vec_python, x_mat_vec_python_numba)\n",
    "mat_vec_allclose = np.logical_and(mat_vec_allclose, np.allclose(x_mat_vec_python, x_mat_vec_numpy))\n",
    "\n",
    "if(mat_vec_allclose):\n",
    "    from IPython.display import Image,display\n",
    "    im = Image('img/thumbsup.jpg')\n",
    "    display(im)"
   ]
  },
  {
   "cell_type": "markdown",
   "metadata": {},
   "source": [
    "### Comparison of all methods\n",
    "\n",
    "| Method | Time | Speedup |\n",
    "|:--|--:|--:|\n",
    "| Python |{{\"{:.2e} ms\".format(1000.*t_mat_vec_python.average)}}||\n",
    "| Numba |{{\"{:.2e} ms\".format(1000.*t_mat_vec_numba.average)}}|x {{np.int(np.round(t_mat_vec_python.average/t_mat_vec_numba.average))}}|\n",
    "| NumPy |{{\"{:.2e} ms\".format(1000.*t_mat_vec_numpy.average)}}|x {{np.int(np.round(t_mat_vec_python.average/t_mat_vec_numpy.average))}}|"
   ]
  },
  {
   "cell_type": "markdown",
   "metadata": {},
   "source": [
    "## How does Numba work?\n",
    "\n",
    "To better understand how `Numba` works, we look at a simple function that adds two variables `a` and `b`."
   ]
  },
  {
   "cell_type": "code",
   "execution_count": null,
   "metadata": {},
   "outputs": [],
   "source": [
    "from numba import jit\n",
    "\n",
    "@jit\n",
    "def add(a, b):\n",
    "    return a + b"
   ]
  },
  {
   "cell_type": "markdown",
   "metadata": {},
   "source": [
    "To compile this function we call it with two integers as arguments."
   ]
  },
  {
   "cell_type": "code",
   "execution_count": null,
   "metadata": {},
   "outputs": [],
   "source": [
    "add(1, 1)"
   ]
  },
  {
   "cell_type": "markdown",
   "metadata": {},
   "source": [
    "With the method `inspect_types()` we can have a look on what types `numba` did infer for `a` and `b`."
   ]
  },
  {
   "cell_type": "code",
   "execution_count": null,
   "metadata": {},
   "outputs": [],
   "source": [
    "add.inspect_types()"
   ]
  },
  {
   "cell_type": "markdown",
   "metadata": {},
   "source": [
    "`Numba` correctly inferred integers as types of the arguments.  \n",
    "Let's call the same function now with floating point numbers."
   ]
  },
  {
   "cell_type": "code",
   "execution_count": null,
   "metadata": {},
   "outputs": [],
   "source": [
    "add(1.0, 1.0)"
   ]
  },
  {
   "cell_type": "markdown",
   "metadata": {},
   "source": [
    "Now check the types again."
   ]
  },
  {
   "cell_type": "code",
   "execution_count": null,
   "metadata": {},
   "outputs": [],
   "source": [
    "add.inspect_types()"
   ]
  },
  {
   "cell_type": "markdown",
   "metadata": {},
   "source": [
    "`Numba` compiled the function again this time with floats. The function is now overloaded.\n",
    "\n",
    "Let's do it again, but this time in reverse order."
   ]
  },
  {
   "cell_type": "code",
   "execution_count": null,
   "metadata": {},
   "outputs": [],
   "source": [
    "from numba import jit\n",
    "\n",
    "@jit\n",
    "def add2(a, b):\n",
    "    return a + b"
   ]
  },
  {
   "cell_type": "markdown",
   "metadata": {},
   "source": [
    "First call with floats."
   ]
  },
  {
   "cell_type": "code",
   "execution_count": null,
   "metadata": {},
   "outputs": [],
   "source": [
    "add2(1., 1.)"
   ]
  },
  {
   "cell_type": "markdown",
   "metadata": {},
   "source": [
    "And now with integers."
   ]
  },
  {
   "cell_type": "code",
   "execution_count": null,
   "metadata": {},
   "outputs": [],
   "source": [
    "add2(1, 1)"
   ]
  },
  {
   "cell_type": "markdown",
   "metadata": {},
   "source": [
    "The function returned a floating point number, even though it was called with integers.\n",
    "\n",
    "Let's have a look at the types."
   ]
  },
  {
   "cell_type": "code",
   "execution_count": null,
   "metadata": {},
   "outputs": [],
   "source": [
    "add2.inspect_types()"
   ]
  },
  {
   "cell_type": "markdown",
   "metadata": {},
   "source": [
    "`Numba` compiled the function only once with floats.  \n",
    "The reason for that is, that the integers in the second call could be converted to floats, such that the function did not need to be compiled again. If you want your function to have the full functionality you have to call it in the right order: `int` -> `float` -> `complex`.\n",
    "\n",
    "What happens, if we add strings, which is a valid operation (concatenation) in Python?  \n",
    "It's also a demonstration of the second method for using `Numba`. The reason for the additional `()` will come clear later."
   ]
  },
  {
   "cell_type": "code",
   "execution_count": null,
   "metadata": {},
   "outputs": [],
   "source": [
    "from numba import jit\n",
    "\n",
    "def add_strings(a, b):\n",
    "    return a + b\n",
    "\n",
    "add_strings_jit = jit()(add_strings)"
   ]
  },
  {
   "cell_type": "markdown",
   "metadata": {},
   "source": [
    "First, the standard Python function."
   ]
  },
  {
   "cell_type": "code",
   "execution_count": null,
   "metadata": {},
   "outputs": [],
   "source": [
    "add_strings('a', 'b')"
   ]
  },
  {
   "cell_type": "markdown",
   "metadata": {},
   "source": [
    "Just as we were expecting, it's concatenating the strings.\n",
    "\n",
    "What does the `jit`ted function do?"
   ]
  },
  {
   "cell_type": "code",
   "execution_count": null,
   "metadata": {},
   "outputs": [],
   "source": [
    "add_strings_jit('a', 'b')"
   ]
  },
  {
   "cell_type": "markdown",
   "metadata": {},
   "source": [
    "Surprise, surprise! It's just doing what it's supposed to do.\n",
    "\n",
    "Let's check the types."
   ]
  },
  {
   "cell_type": "code",
   "execution_count": null,
   "metadata": {},
   "outputs": [],
   "source": [
    "add_strings_jit.inspect_types()"
   ]
  },
  {
   "cell_type": "markdown",
   "metadata": {},
   "source": [
    "The arguments here are `pyobject`s.  \n",
    "`Numba` has two modes: `object` mode and `nopython` mode. Every time `Numba` fails to compile an expression it falls back to `object` mode, which is essentially Python. So in the worst case you are just left with Python code without any speed up.\n",
    "\n",
    "We can also check, which parts of a function `Numba` could compile and where it failed. For this, we have to write the code into a file. We also added some nonsensical `for` loop."
   ]
  },
  {
   "cell_type": "code",
   "execution_count": null,
   "metadata": {},
   "outputs": [],
   "source": [
    "%%file nopython_failure.py\n",
    "from numba import jit\n",
    "\n",
    "@jit\n",
    "def add_strings(a, b):\n",
    "    for i in range(100):\n",
    "        c = i\n",
    "        f = i + 7\n",
    "        l = c + f\n",
    "    return a + b\n",
    "\n",
    "add_strings('a', 'b')"
   ]
  },
  {
   "cell_type": "markdown",
   "metadata": {},
   "source": [
    "To investigate this code, we have to use the command line, which creates an `html` file."
   ]
  },
  {
   "cell_type": "code",
   "execution_count": null,
   "metadata": {},
   "outputs": [],
   "source": [
    "!numba --annotate-html fail.html nopython_failure.py"
   ]
  },
  {
   "cell_type": "markdown",
   "metadata": {},
   "source": [
    "[fail.html](fail.html)\n",
    "\n",
    "`Numba` failed in the last expression that concatenated the strings. This is highlighted in red.  \n",
    "But also note the green color of the `for` loop. This indicates that `Numba` could speed up that part. Even though `Numba` failed in compiling the whole function, it still could provide some speed up.\n",
    "\n",
    "We can also force `Numba` to compile a function in `nopython` mode. In that case `Numba` will raise an error, if it cannot compile any part of a function. The `nopython` mode can be enforced by using `nopython=True`."
   ]
  },
  {
   "cell_type": "code",
   "execution_count": null,
   "metadata": {},
   "outputs": [],
   "source": [
    "from numba import jit\n",
    "\n",
    "@jit(nopython=True)\n",
    "def add_strings_nopython(a, b):\n",
    "    return a + b"
   ]
  },
  {
   "cell_type": "markdown",
   "metadata": {},
   "source": [
    "Now it comes clear, why we needed the `()` in the example above: we can give `jit` some arguments.\n",
    "\n",
    "Let's call the function."
   ]
  },
  {
   "cell_type": "code",
   "execution_count": null,
   "metadata": {},
   "outputs": [],
   "source": [
    "#add_strings_nopython('a', 'b')"
   ]
  },
  {
   "cell_type": "markdown",
   "metadata": {},
   "source": [
    "`Numba` failed compiling this function and raises an error.\n",
    "\n",
    "Instead of using `nopython=True`, we could also use the `njit` function of `Numba`. Both methods are equivalent."
   ]
  },
  {
   "cell_type": "code",
   "execution_count": null,
   "metadata": {},
   "outputs": [],
   "source": [
    "from numba import njit\n",
    "\n",
    "@njit\n",
    "def add_strings_nopython2(a, b):\n",
    "    return a + b\n",
    "\n",
    "#add_strings_nopython2('a', 'b')"
   ]
  },
  {
   "cell_type": "markdown",
   "metadata": {},
   "source": [
    "Other useful compilation flags are\n",
    "```Python\n",
    "cache=True\n",
    "```\n",
    "which will save the compiled function in a `pyc` file in your `__pycache__` directory and\n",
    "```Python\n",
    "nogil=True\n",
    "```\n",
    "which releases the global interpreter lock."
   ]
  },
  {
   "cell_type": "markdown",
   "metadata": {},
   "source": [
    "We can also look directly at the `LLVM` code `numba` created."
   ]
  },
  {
   "cell_type": "code",
   "execution_count": null,
   "metadata": {},
   "outputs": [],
   "source": [
    "for k, v in add.inspect_llvm().items():\n",
    "    print(k, v)"
   ]
  },
  {
   "cell_type": "markdown",
   "metadata": {},
   "source": [
    "As you could see already, `Numba` is aware of certain Python and `NumPy` features.\n",
    "\n",
    "A full list of supported feature, functions, and data types can be found here:\n",
    "\n",
    "* [Python features](https://numba.pydata.org/numba-doc/dev/reference/pysupported.html)\n",
    "* [NumPy features](https://numba.pydata.org/numba-doc/dev/reference/numpysupported.html)\n",
    "* [Data types](https://numba.pydata.org/numba-doc/dev/reference/types.html)"
   ]
  },
  {
   "cell_type": "markdown",
   "metadata": {},
   "source": [
    "## Precompiling Numba modules\n",
    "\n",
    "It's possible to compile Numba modules ahead of time and make them available as Python modules. These can then be run by other users even if they do not have `Numba` installed. Only `NumPy` is required."
   ]
  },
  {
   "cell_type": "code",
   "execution_count": null,
   "metadata": {},
   "outputs": [],
   "source": [
    "import numpy as np\n",
    "from numba.pycc import CC"
   ]
  },
  {
   "cell_type": "code",
   "execution_count": null,
   "metadata": {},
   "outputs": [],
   "source": [
    "cc = CC('precompiled_module')  # Name of the module\n",
    "cc.verbose = True"
   ]
  },
  {
   "cell_type": "markdown",
   "metadata": {},
   "source": [
    "Since the compilation is done \"ahead-of-time\", we have to give the signatures of the arguments and the return value. Function overloading is not allowed. Every function compiled with a signature requires a unique name."
   ]
  },
  {
   "cell_type": "code",
   "execution_count": null,
   "metadata": {},
   "outputs": [],
   "source": [
    "@cc.export('add_int', \n",
    "           'i8(i8, i8)')\n",
    "@cc.export('add_single', \n",
    "           'f4(f4, f4)')\n",
    "@cc.export('add_double', \n",
    "           'f8(f8, f8)')\n",
    "def add_precompiled(a, b):\n",
    "    return a + b"
   ]
  },
  {
   "cell_type": "code",
   "execution_count": null,
   "metadata": {},
   "outputs": [],
   "source": [
    "cc.compile()"
   ]
  },
  {
   "cell_type": "markdown",
   "metadata": {},
   "source": [
    "# Example 2: Two-dimensional Poisson equation (loop unrolling)\n",
    "\n",
    "Let's consider the two-dimensional Poisson equation\n",
    "\n",
    "$\n",
    "\\begin{align}\n",
    "\\frac{\\partial^2}{\\partial x^2} u + \\frac{\\partial^2}{\\partial y^2} u = 0\n",
    "\\end{align}\n",
    "$\n",
    "\n",
    "which can be discretized with a second order central differences scheme to\n",
    "\n",
    "$\n",
    "\\begin{align}\n",
    "\\frac{u_{i+1, j}^{n} - 2 u_{i, j}^n + u_{i-1, j}^n}{\\Delta x^2} + \\frac{u_{i, j+1}^{n} - 2 u_{i, j}^n + u_{i, j-1}^n}{\\Delta y^2} = 0\n",
    "\\end{align}\n",
    "$\n",
    "\n",
    "Solving this for $u_{i, j}^{n+1}$ yields:\n",
    "\n",
    "$\n",
    "\\begin{align}\n",
    "u_{i, j}^{n+1} = \\frac{1}{4} \\left( u_{i+1, j}^n + u_{i-1, j}^n + u_{i, j+1}^n + u_{i, j-1}^n \\right)\n",
    "\\end{align}\n",
    "$"
   ]
  },
  {
   "cell_type": "code",
   "execution_count": null,
   "metadata": {},
   "outputs": [],
   "source": [
    "import numpy as np\n",
    "\n",
    "# Grid parameters\n",
    "Nx = 101\n",
    "Ny = 11\n",
    "# Tolerance level\n",
    "tol = 1.e-3\n",
    "\n",
    "# Boundary value\n",
    "u_bound_top    = 0.\n",
    "u_bound_right  = 1.\n",
    "u_bound_bottom = 0.\n",
    "u_bound_left   = 0.\n",
    "\n",
    "# Initial conditions\n",
    "u_ini = np.zeros((Nx, Ny))\n",
    "\n",
    "# Setting the boundaries\n",
    "u_ini[ :, -1] = u_bound_top\n",
    "u_ini[-1,  :] = u_bound_right\n",
    "u_ini[ :,  0] = u_bound_bottom\n",
    "u_ini[ 0,  :] = u_bound_left"
   ]
  },
  {
   "cell_type": "code",
   "execution_count": null,
   "metadata": {},
   "outputs": [],
   "source": [
    "def solve_poisson(u, tol):\n",
    "    \n",
    "    iter_diff = tol + 1\n",
    "    n = 0\n",
    "    while iter_diff > tol and n <= 500:\n",
    "\n",
    "        un = u.copy()\n",
    "        u[1:-1, 1:-1] = 0.25 * (un[2:  , 1:-1] +\n",
    "                                un[ :-2, 1:-1] +\n",
    "                                un[1:-1, 2:  ] +\n",
    "                                un[1:-1,  :-2])\n",
    "      \n",
    "        \n",
    "        iter_diff = np.sqrt(np.sum((u - un)**2)/np.sum(un**2))            \n",
    "        n += 1\n",
    "    return u"
   ]
  },
  {
   "cell_type": "code",
   "execution_count": null,
   "metadata": {},
   "outputs": [],
   "source": [
    "u_poisson = solve_poisson(u_ini, tol)\n",
    "t_poisson = %timeit -o solve_poisson(u_ini, tol)"
   ]
  },
  {
   "cell_type": "markdown",
   "metadata": {},
   "source": [
    "## How does the result look like?"
   ]
  },
  {
   "cell_type": "code",
   "execution_count": null,
   "metadata": {},
   "outputs": [],
   "source": [
    "%matplotlib inline\n",
    "\n",
    "f = 10. / Nx\n",
    "width  = f * Nx\n",
    "height = f * Ny\n",
    "\n",
    "fig = plt.figure(figsize=(width, height))\n",
    "ax1 = fig.add_subplot(111)\n",
    "plot = ax1.contourf(u_poisson.T)\n",
    "ax1.set_xlabel(\"$x$\", fontsize=16)\n",
    "ax1.set_ylabel(\"$y$\", fontsize=16)\n",
    "ax1.set_xticks([])\n",
    "ax1.set_yticks([])\n",
    "plt.show()"
   ]
  },
  {
   "cell_type": "markdown",
   "metadata": {},
   "source": [
    "## Jit it!"
   ]
  },
  {
   "cell_type": "code",
   "execution_count": null,
   "metadata": {},
   "outputs": [],
   "source": [
    "from numba import njit\n",
    "\n",
    "solve_poisson_numba = njit()(solve_poisson)"
   ]
  },
  {
   "cell_type": "markdown",
   "metadata": {},
   "source": [
    "## Timing"
   ]
  },
  {
   "cell_type": "code",
   "execution_count": null,
   "metadata": {},
   "outputs": [],
   "source": [
    "u_poisson_numba = solve_poisson_numba(u_ini, tol)\n",
    "t_poisson_numba = %timeit -o solve_poisson_numba(u_ini, tol)"
   ]
  },
  {
   "cell_type": "markdown",
   "metadata": {},
   "source": [
    "## Try loop unrolling"
   ]
  },
  {
   "cell_type": "code",
   "execution_count": null,
   "metadata": {},
   "outputs": [],
   "source": [
    "def solve_poisson_unroll(u, tol):\n",
    "    \n",
    "    Nx, Ny = u.shape\n",
    "    \n",
    "    iter_diff = tol + 1\n",
    "    n = 0\n",
    "    while iter_diff > tol and n <= 500:\n",
    "\n",
    "        un = u.copy()\n",
    "        \n",
    "        for ix in range(1, Nx-1):\n",
    "            for iy in range(1, Ny-1):\n",
    "                u[ix, iy] = 0.25 * (un[ix+1, iy  ] +\n",
    "                                    un[ix-1, iy  ] +\n",
    "                                    un[ix  , iy+1] +\n",
    "                                    un[ix  , iy-1])\n",
    "      \n",
    "        \n",
    "        iter_diff = np.sqrt(np.sum((u - un)**2)/np.sum(un**2))            \n",
    "        n += 1\n",
    "    return u"
   ]
  },
  {
   "cell_type": "code",
   "execution_count": null,
   "metadata": {},
   "outputs": [],
   "source": [
    "u_poisson_unroll = solve_poisson_unroll(u_ini, tol)\n",
    "t_poisson_unroll = %timeit -o solve_poisson_unroll(u_ini, tol)"
   ]
  },
  {
   "cell_type": "code",
   "execution_count": null,
   "metadata": {},
   "outputs": [],
   "source": [
    "from numba import njit\n",
    "\n",
    "solve_poisson_unroll_numba = njit()(solve_poisson_unroll)"
   ]
  },
  {
   "cell_type": "code",
   "execution_count": null,
   "metadata": {},
   "outputs": [],
   "source": [
    "u_poisson_unroll_numba = solve_poisson_unroll_numba(u_ini, tol)\n",
    "t_poisson_unroll_numba = %timeit -o solve_poisson_unroll_numba(u_ini, tol)"
   ]
  },
  {
   "cell_type": "markdown",
   "metadata": {},
   "source": [
    "## Check results"
   ]
  },
  {
   "cell_type": "code",
   "execution_count": null,
   "metadata": {},
   "outputs": [],
   "source": [
    "poisson_allclose =                                  np.allclose(u_poisson, u_poisson_numba)\n",
    "poisson_allclose = np.logical_and(poisson_allclose, np.allclose(u_poisson, u_poisson_unroll))\n",
    "poisson_allclose = np.logical_and(poisson_allclose, np.allclose(u_poisson, u_poisson_unroll_numba))\n",
    "\n",
    "if(poisson_allclose):\n",
    "    from IPython.display import Image,display\n",
    "    im = Image('img/thumbsup2.jpg')\n",
    "    display(im)"
   ]
  },
  {
   "cell_type": "markdown",
   "metadata": {},
   "source": [
    "### Comparison\n",
    "\n",
    "| Method | Time | Speedup |\n",
    "|:--|--:|--:|\n",
    "| Python |{{\"{:.2e} ms\".format(1000.*t_poisson.average)}}||\n",
    "| Numba |{{\"{:.2e} ms\".format(1000.*t_poisson_numba.average)}}|x {{\"{:.2f}\".format(np.round(t_poisson.average/t_poisson_numba.average, 2))}}|\n",
    "| Unrolled Python |{{\"{:.2e} ms\".format(1000.*t_poisson_unroll.average)}}|x {{\"{:.2f}\".format(np.round(t_poisson.average/t_poisson_unroll.average, 2))}}|\n",
    "| Unrolled Numba |{{\"{:.2e} ms\".format(1000.*t_poisson_unroll_numba.average)}}|x {{\"{:.2f}\".format(np.round(t_poisson.average/t_poisson_unroll_numba.average, 2))}}|"
   ]
  },
  {
   "cell_type": "markdown",
   "metadata": {},
   "source": [
    "# Example 3: n-body problem (classes)\n",
    "\n",
    "Let's consider an n-body problem where have to calculate the potential for every particle by summing over all other particles"
   ]
  },
  {
   "cell_type": "code",
   "execution_count": null,
   "metadata": {},
   "outputs": [],
   "source": [
    "import numpy as np\n",
    "\n",
    "class Point():\n",
    "    \n",
    "    def __init__(self, domain=1.0):\n",
    "        self.x = domain * np.random.random()\n",
    "        self.y = domain * np.random.random()\n",
    "        self.z = domain * np.random.random()\n",
    "            \n",
    "    def distance(self, other):\n",
    "        return np.sqrt((self.x - other.x)**2 + \n",
    "                       (self.y - other.y)**2 + \n",
    "                       (self.z - other.z)**2)\n",
    "    \n",
    "\n",
    "class Particle(Point):\n",
    "    \n",
    "    def __init__(self, domain=1.0, m=1.0):\n",
    "        Point.__init__(self, domain)\n",
    "        self.m = m\n",
    "        self.phi = 0."
   ]
  },
  {
   "cell_type": "code",
   "execution_count": null,
   "metadata": {},
   "outputs": [],
   "source": [
    "n = 1000\n",
    "particles = [Particle(m=1.) for i in range(n)]"
   ]
  },
  {
   "cell_type": "code",
   "execution_count": null,
   "metadata": {},
   "outputs": [],
   "source": [
    "def direct_sum(particles):\n",
    "    for i, target in enumerate(particles):\n",
    "        target.phi = 0.\n",
    "        for source in (particles[:i] + particles[i+1:]):\n",
    "            r = target.distance(source)\n",
    "            target.phi += source.m / r"
   ]
  },
  {
   "cell_type": "code",
   "execution_count": null,
   "metadata": {},
   "outputs": [],
   "source": [
    "t_nbody = %timeit -o direct_sum(particles)"
   ]
  },
  {
   "cell_type": "code",
   "execution_count": null,
   "metadata": {},
   "outputs": [],
   "source": [
    "from numba import njit\n",
    "\n",
    "direct_sum_numba = njit()(direct_sum)\n",
    "\n",
    "#direct_sum_numba(particles)"
   ]
  },
  {
   "cell_type": "markdown",
   "metadata": {},
   "source": [
    "Numba does not know how to treat classes.\n",
    "\n",
    "## Option 1: jitclass"
   ]
  },
  {
   "cell_type": "code",
   "execution_count": null,
   "metadata": {},
   "outputs": [],
   "source": [
    "from numba import jitclass, float64\n",
    "import numpy as np\n",
    "\n",
    "# Specification of the data types\n",
    "spec_particle = {}\n",
    "spec_particle['x']   = float64\n",
    "spec_particle['y']   = float64\n",
    "spec_particle['z']   = float64\n",
    "spec_particle['m']   = float64\n",
    "spec_particle['phi'] = float64\n",
    "    \n",
    "\n",
    "@jitclass(spec_particle)\n",
    "class Particle_jitclass():\n",
    "    \n",
    "    def __init__(self, domain=1.0, m=1.0):\n",
    "        self.x   = domain * np.random.random()\n",
    "        self.y   = domain * np.random.random()\n",
    "        self.z   = domain * np.random.random()\n",
    "        self.m   = m\n",
    "        self.phi = 0.\n",
    "        \n",
    "    def distance(self, other):\n",
    "        return np.sqrt((self.x - other.x)**2 + \n",
    "                       (self.y - other.y)**2 + \n",
    "                       (self.z - other.z)**2)"
   ]
  },
  {
   "cell_type": "code",
   "execution_count": null,
   "metadata": {},
   "outputs": [],
   "source": [
    "n = 1000\n",
    "particles_jitclass = [Particle_jitclass(domain=1., m=1.) for i in range(n)]"
   ]
  },
  {
   "cell_type": "code",
   "execution_count": null,
   "metadata": {},
   "outputs": [],
   "source": [
    "#direct_sum_numba(particles_jitclass)"
   ]
  },
  {
   "cell_type": "markdown",
   "metadata": {},
   "source": [
    "Nested memory-managed objects (like lists of objects) are not supported by `Numba`, yet."
   ]
  },
  {
   "cell_type": "markdown",
   "metadata": {},
   "source": [
    "## Option 2: NumPy's linked lists"
   ]
  },
  {
   "cell_type": "code",
   "execution_count": null,
   "metadata": {},
   "outputs": [],
   "source": [
    "import numpy as np\n",
    "\n",
    "particle_dtype = np.dtype({'names':['x','y','z','m','phi'], \n",
    "                           'formats':[np.double, \n",
    "                                      np.double, \n",
    "                                      np.double, \n",
    "                                      np.double, \n",
    "                                      np.double]})\n",
    "\n",
    "n = 1000\n",
    "particles_numpy = np.zeros(n, dtype=particle_dtype)\n",
    "\n",
    "for i in range(n):\n",
    "    particles_numpy[i]['x'] = np.random.random()\n",
    "    particles_numpy[i]['y'] = np.random.random()\n",
    "    particles_numpy[i]['z'] = np.random.random()\n",
    "    particles_numpy[i]['m'] = np.random.random()"
   ]
  },
  {
   "cell_type": "code",
   "execution_count": null,
   "metadata": {},
   "outputs": [],
   "source": [
    "from numba import njit\n",
    "\n",
    "@njit\n",
    "def create_random_particles(n, m, domain):\n",
    "    particles = np.zeros((n), dtype=particle_dtype)\n",
    "    for p in particles:\n",
    "        p['x'] = domain * np.random.random()\n",
    "        p['y'] = domain * np.random.random()\n",
    "        p.z    = domain * np.random.random()\n",
    "        p.m    = m\n",
    "    return particles\n",
    "\n",
    "\n",
    "@njit\n",
    "def distance_numpy(p1, p2):\n",
    "    return np.sqrt((p1.x - p2.x)**2 + \n",
    "                   (p1.y - p2.y)**2 + \n",
    "                   (p1.z - p2.z)**2)\n",
    "\n",
    "@njit\n",
    "def direct_sum_numpy(particles):\n",
    "    for i, target in enumerate(particles):\n",
    "        for j, source in enumerate(particles):\n",
    "            if i != j:\n",
    "                r = distance_numpy(target, source)\n",
    "                target.phi += source.m / r\n",
    "                \n",
    "    return particles"
   ]
  },
  {
   "cell_type": "code",
   "execution_count": null,
   "metadata": {},
   "outputs": [],
   "source": [
    "n = 1000\n",
    "particles_numpy = create_random_particles(n, 1., 1.)"
   ]
  },
  {
   "cell_type": "code",
   "execution_count": null,
   "metadata": {},
   "outputs": [],
   "source": [
    "i = 120\n",
    "msg = \"Particle \"+repr(i)+\"\\n\\nx   = {:.2f}\\ny   = {:.2f}\\nz   = {:.2f}\\nm   = {:.2f}\\nphi = {:.2f}\".format(particles_numpy[i]['x'], particles_numpy[i]['y'], particles_numpy[i]['z'], particles_numpy[i]['m'], particles_numpy[i]['phi'])\n",
    "print(msg)"
   ]
  },
  {
   "cell_type": "code",
   "execution_count": null,
   "metadata": {},
   "outputs": [],
   "source": [
    "particles_numpy = direct_sum_numpy(particles_numpy)\n",
    "t_nbody_numpy = %timeit -o direct_sum_numpy(particles_numpy)"
   ]
  },
  {
   "cell_type": "code",
   "execution_count": null,
   "metadata": {},
   "outputs": [],
   "source": [
    "i = 120\n",
    "msg = \"Particle \"+repr(i)+\"\\n\\nx   = {:.2f}\\ny   = {:.2f}\\nz   = {:.2f}\\nm   = {:.2f}\\nphi = {:.2f}\".format(particles_numpy[i]['x'], particles_numpy[i]['y'], particles_numpy[i]['z'], particles_numpy[i]['m'], particles_numpy[i]['phi'])\n",
    "print(msg)"
   ]
  },
  {
   "cell_type": "markdown",
   "metadata": {},
   "source": [
    "### Comparison\n",
    "\n",
    "| Method | Time | Speedup |\n",
    "|:--|--:|--:|\n",
    "| Python |{{\"{:.2e} ms\".format(1000.*t_nbody.average)}}||\n",
    "| Numba jitclass |–|–|\n",
    "| Numba + linked lists |{{\"{:.2e} ms\".format(1000.*t_nbody_numpy.average)}}|x {{np.int(np.round(t_nbody.average/t_nbody_numpy.average, 2))}}|"
   ]
  },
  {
   "cell_type": "markdown",
   "metadata": {},
   "source": [
    "# Example 4: Logit (ufuncs, vectorization)\n",
    "\n",
    "Universal functions (ufuncs) that operate on arrays element-by-element-wise. Basically all `NumPy` math functions are ufuncs. With `numpy.vectorize()` it is possible to vectorize functions. However, from the `NumPy` documentation:\n",
    "\n",
    "> *\"The `vectorize` function is provided primarily for convenience, not for performance.\"*\n",
    "\n",
    "`Numba` has it's own method to vectorize functions efficiently.\n",
    "\n",
    "Consider the logit-function\n",
    "\n",
    "$\n",
    "\\begin{align}\n",
    "L(p) = \\ln \\left( \\frac{p}{1-p} \\right)\n",
    "\\end{align}\n",
    "$"
   ]
  },
  {
   "cell_type": "code",
   "execution_count": null,
   "metadata": {},
   "outputs": [],
   "source": [
    "import math\n",
    "import numpy as np"
   ]
  },
  {
   "cell_type": "code",
   "execution_count": null,
   "metadata": {},
   "outputs": [],
   "source": [
    "def logit(p):\n",
    "    return math.log(p/(1.-p))"
   ]
  },
  {
   "cell_type": "markdown",
   "metadata": {},
   "source": [
    "Using the `math` package here, since the `NumPy` functions are already vectorized."
   ]
  },
  {
   "cell_type": "code",
   "execution_count": null,
   "metadata": {},
   "outputs": [],
   "source": [
    "n = 100000\n",
    "v = np.random.random(n)"
   ]
  },
  {
   "cell_type": "markdown",
   "metadata": {},
   "source": [
    "Our `logit()` function works on scalars"
   ]
  },
  {
   "cell_type": "code",
   "execution_count": null,
   "metadata": {},
   "outputs": [],
   "source": [
    "logit(v[0])"
   ]
  },
  {
   "cell_type": "markdown",
   "metadata": {},
   "source": [
    "but not on vectors."
   ]
  },
  {
   "cell_type": "code",
   "execution_count": null,
   "metadata": {},
   "outputs": [],
   "source": [
    "#logit(v)"
   ]
  },
  {
   "cell_type": "markdown",
   "metadata": {},
   "source": [
    "Let's vectorize the function with `Numba`."
   ]
  },
  {
   "cell_type": "code",
   "execution_count": null,
   "metadata": {},
   "outputs": [],
   "source": [
    "from numba import vectorize\n",
    "\n",
    "logit_vectorized_numba = vectorize()(logit)"
   ]
  },
  {
   "cell_type": "markdown",
   "metadata": {},
   "source": [
    "Now the function works on arrays, too."
   ]
  },
  {
   "cell_type": "code",
   "execution_count": null,
   "metadata": {},
   "outputs": [],
   "source": [
    "logit_vectorized_numba(v)"
   ]
  },
  {
   "cell_type": "markdown",
   "metadata": {},
   "source": [
    "The types of the argument is then assumed during the call.  \n",
    "But it's also possible to give a signature. This is necessary, if we want to also use the keyword arguments."
   ]
  },
  {
   "cell_type": "code",
   "execution_count": null,
   "metadata": {},
   "outputs": [],
   "source": [
    "logit_vectorized_numba_parallel = vectorize([\"float64(float64)\"], target=\"parallel\")(logit)"
   ]
  },
  {
   "cell_type": "code",
   "execution_count": null,
   "metadata": {},
   "outputs": [],
   "source": [
    "logit_vectorized_numba_parallel(v)"
   ]
  },
  {
   "cell_type": "markdown",
   "metadata": {},
   "source": [
    "Possible targets are:\n",
    "\n",
    "single-threaded CPU\n",
    "```python\n",
    "target=\"cpu\"\n",
    "```\n",
    "\n",
    "multi-threaded CPU\n",
    "```python\n",
    "target=\"parallel\"\n",
    "```\n",
    "\n",
    "CUDA GPU\n",
    "```python\n",
    "target=\"cuda\"\n",
    "```"
   ]
  },
  {
   "cell_type": "markdown",
   "metadata": {},
   "source": [
    "## Let's do the timing!\n",
    "\n",
    "### Pure NumPy"
   ]
  },
  {
   "cell_type": "code",
   "execution_count": null,
   "metadata": {},
   "outputs": [],
   "source": [
    "ufunc_numpy = np.log(v/(1.-v))\n",
    "t_ufunc_numpy = %timeit -o np.log(v/(1.-v))"
   ]
  },
  {
   "cell_type": "markdown",
   "metadata": {},
   "source": [
    "### NumPy vectorization"
   ]
  },
  {
   "cell_type": "code",
   "execution_count": null,
   "metadata": {},
   "outputs": [],
   "source": [
    "logit_vectorized_numpy = np.vectorize(logit)\n",
    "\n",
    "ufunc_vectorized_numpy = logit_vectorized_numpy(v)\n",
    "t_ufunc_vectorized_numpy = %timeit -o logit_vectorized_numpy(v)"
   ]
  },
  {
   "cell_type": "markdown",
   "metadata": {},
   "source": [
    "### Numba vectorization"
   ]
  },
  {
   "cell_type": "code",
   "execution_count": null,
   "metadata": {},
   "outputs": [],
   "source": [
    "ufunc_vectorized_numba = logit_vectorized_numba(v)\n",
    "t_ufunc_vectorized_numba = %timeit -o logit_vectorized_numba(v)"
   ]
  },
  {
   "cell_type": "markdown",
   "metadata": {},
   "source": [
    "### Numba vectorization parallel"
   ]
  },
  {
   "cell_type": "code",
   "execution_count": null,
   "metadata": {},
   "outputs": [],
   "source": [
    "ufunc_vectorized_numba_parallel = logit_vectorized_numba_parallel(v)\n",
    "t_ufunc_vectorized_numba_parallel = %timeit -o logit_vectorized_numba_parallel(v)"
   ]
  },
  {
   "cell_type": "markdown",
   "metadata": {},
   "source": [
    "## Check results"
   ]
  },
  {
   "cell_type": "code",
   "execution_count": null,
   "metadata": {},
   "outputs": [],
   "source": [
    "ufunc_allclose =                                np.allclose(ufunc_numpy, ufunc_vectorized_numpy)\n",
    "ufunc_allclose = np.logical_and(ufunc_allclose, np.allclose(ufunc_numpy, ufunc_vectorized_numba))\n",
    "ufunc_allclose = np.logical_and(ufunc_allclose, np.allclose(ufunc_numpy, ufunc_vectorized_numba_parallel))\n",
    "\n",
    "if(ufunc_allclose):\n",
    "    from IPython.display import Image,display\n",
    "    im = Image('img/thumbsup4.gif')\n",
    "    display(im)"
   ]
  },
  {
   "cell_type": "markdown",
   "metadata": {},
   "source": [
    "### Comparison of all methods\n",
    "\n",
    "| Method | Time | Speedup |\n",
    "|:--|--:|--:|\n",
    "| NumPy vectorization |{{\"{:.2e} ms\".format(1000.*t_ufunc_vectorized_numpy.average)}}||\n",
    "| Numba vectorization |{{\"{:.2e} ms\".format(1000.*t_ufunc_vectorized_numba.average)}}|x {{np.int(np.round(t_ufunc_vectorized_numpy.average/t_ufunc_vectorized_numba.average))}}|\n",
    "| Numba vectorization parallel |{{\"{:.2e} ms\".format(1000.*t_ufunc_vectorized_numba_parallel.average)}}|x {{np.int(np.round(t_ufunc_vectorized_numpy.average/t_ufunc_vectorized_numba_parallel.average))}}|\n",
    "| pure NumPy |{{\"{:.2e} ms\".format(1000.*t_ufunc_numpy.average)}}|x {{np.int(np.round(t_ufunc_vectorized_numpy.average/t_ufunc_numpy.average))}}|"
   ]
  },
  {
   "cell_type": "markdown",
   "metadata": {},
   "source": [
    "# Example 5: Fourier transformation (autoparallelization)\n",
    "\n",
    "$\n",
    "\\begin{align}\n",
    "F \\left( k \\right) &= \\frac{1}{\\left(2\\pi\\right)^\\frac{n}{2}} \\int_{\\mathbb{R}^n} f\\left(x\\right)\\cdot e^{-ikx} \\mathrm{d} x\n",
    "\\end{align}\n",
    "$"
   ]
  },
  {
   "cell_type": "code",
   "execution_count": null,
   "metadata": {},
   "outputs": [],
   "source": [
    "import math\n",
    "import numpy as np\n",
    "\n",
    "pi    = np.pi\n",
    "twopi = 2. * np.pi\n",
    "\n",
    "def sinc(x):\n",
    "    return math.sin(pi * x) / (pi * x)"
   ]
  },
  {
   "cell_type": "code",
   "execution_count": null,
   "metadata": {},
   "outputs": [],
   "source": [
    "Nx     = 1000\n",
    "xrange = 100.\n",
    "Nk     = 1000\n",
    "krange = 20.\n",
    "\n",
    "x      = np.linspace(-xrange/2., xrange/2., Nx)\n",
    "k      = np.linspace(-krange/2., krange/2., Nk)"
   ]
  },
  {
   "cell_type": "code",
   "execution_count": null,
   "metadata": {},
   "outputs": [],
   "source": [
    "from numba import vectorize\n",
    "\n",
    "sinc_vec = vectorize([\"float64(float64)\"], target=\"parallel\")(sinc)"
   ]
  },
  {
   "cell_type": "code",
   "execution_count": null,
   "metadata": {},
   "outputs": [],
   "source": [
    "def f1d(x, f, k):\n",
    "    Nx, = x.shape\n",
    "    Nk, = k.shape\n",
    "    dx  = np.mean(x[1:] - x[:-1])\n",
    "    F   = np.empty(Nk, dtype=np.complex128)\n",
    "    for ik in range(Nk):\n",
    "        s = 0\n",
    "        for ix in range(Nx):\n",
    "            s += f[ix] * np.exp(-1.j*k[ik]*x[ix])\n",
    "        F[ik] = s * dx / np.sqrt(twopi)\n",
    "    return F"
   ]
  },
  {
   "cell_type": "code",
   "execution_count": null,
   "metadata": {},
   "outputs": [],
   "source": [
    "f = sinc_vec(x)\n",
    "F_python = f1d(x, f, k)"
   ]
  },
  {
   "cell_type": "code",
   "execution_count": null,
   "metadata": {},
   "outputs": [],
   "source": [
    "%matplotlib inline\n",
    "\n",
    "width = 8.\n",
    "\n",
    "fig = plt.figure(figsize=(2.*width, 2.*width/1.6))\n",
    "ax1 = fig.add_subplot(221)\n",
    "ax2 = fig.add_subplot(222)\n",
    "ax4 = fig.add_subplot(224)\n",
    "\n",
    "ax1.plot(x, f)\n",
    "ax1.set_xlabel(\"$x$\", fontsize=16)\n",
    "ax1.set_ylabel(\"$f$\", fontsize=16)\n",
    "ax1.set_xlim(-xrange/2., xrange/2.)\n",
    "ax1.grid(b=False)\n",
    "ax2.plot(k, F_python.real)\n",
    "ax2.set_xlabel(\"$k$\", fontsize=16)\n",
    "ax2.set_ylabel(r\"$\\Re \\left( F \\right)$\", fontsize=16)\n",
    "ax2.set_xlim(-krange/2., krange/2.)\n",
    "ax2.grid(b=False)\n",
    "ax4.plot(k, F_python.imag)\n",
    "ax4.set_xlabel(\"$k$\", fontsize=16)\n",
    "ax4.set_ylabel(r\"$\\Im \\left( F \\right)$\", fontsize=16)\n",
    "ax4.set_xlim(-krange/2., krange/2.)\n",
    "ax4.set_ylim(ax2.get_ylim())\n",
    "ax4.grid(b=False)\n",
    "\n",
    "fig.tight_layout\n",
    "plt.show()"
   ]
  },
  {
   "cell_type": "markdown",
   "metadata": {},
   "source": [
    "## Timing\n",
    "\n",
    "### Python"
   ]
  },
  {
   "cell_type": "code",
   "execution_count": null,
   "metadata": {},
   "outputs": [],
   "source": [
    "F_python = f1d(x, f, k)\n",
    "t_f1d_python = %timeit -o f1d(x, f, k)"
   ]
  },
  {
   "cell_type": "markdown",
   "metadata": {},
   "source": [
    "### Numba jit"
   ]
  },
  {
   "cell_type": "code",
   "execution_count": null,
   "metadata": {},
   "outputs": [],
   "source": [
    "from numba import njit\n",
    "\n",
    "f1d_numba_jit = njit()(f1d)\n",
    "F_numba_jit = f1d_numba_jit(x, f, k)\n",
    "t_f1d_numba_jit = %timeit -o f1d_numba_jit(x, f, k)"
   ]
  },
  {
   "cell_type": "markdown",
   "metadata": {},
   "source": [
    "### Numba jit parallel"
   ]
  },
  {
   "cell_type": "code",
   "execution_count": null,
   "metadata": {},
   "outputs": [],
   "source": [
    "f1d_numba_jit_parallel = njit(parallel=True)(f1d)\n",
    "F_numba_jit_parallel = f1d_numba_jit_parallel(x, f, k)\n",
    "t_f1d_numba_jit_parallel = %timeit -o f1d_numba_jit_parallel(x, f, k)"
   ]
  },
  {
   "cell_type": "markdown",
   "metadata": {},
   "source": [
    "## Optimization #1"
   ]
  },
  {
   "cell_type": "code",
   "execution_count": null,
   "metadata": {},
   "outputs": [],
   "source": [
    "def f1d_vol2(x, f, k):\n",
    "    Nk, = k.shape\n",
    "    dx  = np.mean(x[1:] - x[:-1])\n",
    "    F   = np.empty(Nk, dtype=np.complex128)\n",
    "    for ik in range(Nk):\n",
    "        s = np.sum( f * np.exp(-1.j*k[ik]*x) )\n",
    "        F[ik] = s * dx / np.sqrt(twopi)\n",
    "    return F"
   ]
  },
  {
   "cell_type": "markdown",
   "metadata": {},
   "source": [
    "### Python"
   ]
  },
  {
   "cell_type": "code",
   "execution_count": null,
   "metadata": {},
   "outputs": [],
   "source": [
    "F_vol2_python = f1d_vol2(x, f, k)\n",
    "t_f1d_vol2_python = %timeit -o f1d_vol2(x, f, k)"
   ]
  },
  {
   "cell_type": "markdown",
   "metadata": {},
   "source": [
    "### Numba jit"
   ]
  },
  {
   "cell_type": "code",
   "execution_count": null,
   "metadata": {},
   "outputs": [],
   "source": [
    "f1d_vol2_numba_jit = njit()(f1d_vol2)\n",
    "F_vol2_numba_jit = f1d_vol2_numba_jit(x, f, k)\n",
    "t_f1d_vol2_numba_jit = %timeit -o f1d_vol2_numba_jit(x, f, k)"
   ]
  },
  {
   "cell_type": "markdown",
   "metadata": {},
   "source": [
    "### Numba jit parallel"
   ]
  },
  {
   "cell_type": "code",
   "execution_count": null,
   "metadata": {},
   "outputs": [],
   "source": [
    "f1d_vol2_numba_jit_parallel = njit(parallel=True)(f1d_vol2)\n",
    "F_vol2_numba_jit_parallel = f1d_vol2_numba_jit_parallel(x, f, k)\n",
    "t_f1d_vol2_numba_jit_parallel = %timeit -o f1d_vol2_numba_jit_parallel(x, f, k)"
   ]
  },
  {
   "cell_type": "markdown",
   "metadata": {},
   "source": [
    "## Optimization #2"
   ]
  },
  {
   "cell_type": "code",
   "execution_count": null,
   "metadata": {},
   "outputs": [],
   "source": [
    "def f1d_vol3(x, f, k):\n",
    "    dx = np.mean(x[1:] - x[:-1])\n",
    "    F  = np.dot(np.exp(-1.j*k*x), f)\n",
    "    F *= dx / np.sqrt(twopi)\n",
    "    return F"
   ]
  },
  {
   "cell_type": "markdown",
   "metadata": {},
   "source": [
    "### Python"
   ]
  },
  {
   "cell_type": "code",
   "execution_count": null,
   "metadata": {},
   "outputs": [],
   "source": [
    "F_vol3_python = f1d_vol3(x, f, k[:, None])\n",
    "t_f1d_vol3_python = %timeit -o f1d_vol3(x, f, k[:, None])"
   ]
  },
  {
   "cell_type": "markdown",
   "metadata": {},
   "source": [
    "### Numba jit"
   ]
  },
  {
   "cell_type": "code",
   "execution_count": null,
   "metadata": {},
   "outputs": [],
   "source": [
    "f1d_vol3_numba_jit = njit()(f1d_vol3)\n",
    "F_vol3_numba_jit = f1d_vol3_numba_jit(x, f+0.j, k[:, None])\n",
    "t_f1d_vol3_numba_jit = %timeit -o f1d_vol3_numba_jit(x, f+0.j, k[:, None])"
   ]
  },
  {
   "cell_type": "markdown",
   "metadata": {},
   "source": [
    "### Numba jit parallel"
   ]
  },
  {
   "cell_type": "code",
   "execution_count": null,
   "metadata": {},
   "outputs": [],
   "source": [
    "f1d_vol3_numba_jit_parallel = njit(parallel=True)(f1d_vol3)\n",
    "#F_vol3_numba_jit_parallel = f1d_vol3_numba_jit_parallel(x, f+0.j, k[:, None])"
   ]
  },
  {
   "cell_type": "markdown",
   "metadata": {},
   "source": [
    "## Check results"
   ]
  },
  {
   "cell_type": "code",
   "execution_count": null,
   "metadata": {},
   "outputs": [],
   "source": [
    "f1d_allclose =                              np.allclose(F_python, F_numba_jit)\n",
    "f1d_allclose = np.logical_and(f1d_allclose, np.allclose(F_python, F_numba_jit_parallel))\n",
    "f1d_allclose = np.logical_and(f1d_allclose, np.allclose(F_python, F_vol2_python))\n",
    "f1d_allclose = np.logical_and(f1d_allclose, np.allclose(F_python, F_vol2_numba_jit))\n",
    "f1d_allclose = np.logical_and(f1d_allclose, np.allclose(F_python, F_vol2_numba_jit_parallel))\n",
    "f1d_allclose = np.logical_and(f1d_allclose, np.allclose(F_python, F_vol3_python))\n",
    "f1d_allclose = np.logical_and(f1d_allclose, np.allclose(F_python, F_vol3_numba_jit))\n",
    "\n",
    "if(f1d_allclose):\n",
    "    from IPython.display import Image,display\n",
    "    im = Image('img/thumbsup5.gif')\n",
    "    display(im)"
   ]
  },
  {
   "cell_type": "markdown",
   "metadata": {},
   "source": [
    "### Comparison of all methods\n",
    "\n",
    "| Method | Time | Speedup |\n",
    "|:--|--:|--:|\n",
    "| Python |{{\"{:.2e} s\".format(t_f1d_python.average)}}||\n",
    "| Numba jit |{{\"{:.2e} s\".format(t_f1d_numba_jit.average)}}|x {{np.int(np.round(t_f1d_python.average/t_f1d_numba_jit.average))}}|\n",
    "| Numba jit parallel |{{\"{:.2e} s\".format(t_f1d_numba_jit_parallel.average)}}|x {{np.int(np.round(t_f1d_python.average/t_f1d_numba_jit_parallel.average))}}|\n",
    "| Python vol. 2 |{{\"{:.2e} s\".format(t_f1d_vol2_python.average)}}|x {{np.int(np.round(t_f1d_python.average/t_f1d_vol2_python.average))}}|\n",
    "| Numba jit vol. 2 |{{\"{:.2e} s\".format(t_f1d_vol2_numba_jit.average)}}|x {{np.int(np.round(t_f1d_python.average/t_f1d_vol2_numba_jit.average))}}|\n",
    "| Numba jit parallel vol. 2 |{{\"{:.2e} s\".format(t_f1d_vol2_numba_jit_parallel.average)}}|x {{np.int(np.round(t_f1d_python.average/t_f1d_vol2_numba_jit_parallel.average))}}|\n",
    "| Python vol. 3 |{{\"{:.2e} s\".format(t_f1d_vol3_python.average)}}|x {{np.int(np.round(t_f1d_python.average/t_f1d_vol3_python.average))}}|\n",
    "| Numba jit vol. 3 |{{\"{:.2e} s\".format(t_f1d_vol3_numba_jit.average)}}|x {{np.int(np.round(t_f1d_python.average/t_f1d_vol3_numba_jit.average))}}|"
   ]
  },
  {
   "cell_type": "markdown",
   "metadata": {},
   "source": [
    "# Example 6: Non-unified Fast Fourier Transformation (NUFFT)\n",
    "\n",
    "For another nice example of code optimization with `Numba` and comparisons to Fortran code check out:\n",
    "\n",
    "[Optimizing Python in the Real World: NumPy, Numba, and the NUFFT](http://jakevdp.github.io/blog/2015/02/24/optimizing-python-with-numpy-and-numba/)"
   ]
  }
 ],
 "metadata": {
  "kernelspec": {
   "display_name": "Python 3",
   "language": "python",
   "name": "python3"
  },
  "language_info": {
   "codemirror_mode": {
    "name": "ipython",
    "version": 3
   },
   "file_extension": ".py",
   "mimetype": "text/x-python",
   "name": "python",
   "nbconvert_exporter": "python",
   "pygments_lexer": "ipython3",
   "version": "3.6.6"
  }
 },
 "nbformat": 4,
 "nbformat_minor": 2
}
