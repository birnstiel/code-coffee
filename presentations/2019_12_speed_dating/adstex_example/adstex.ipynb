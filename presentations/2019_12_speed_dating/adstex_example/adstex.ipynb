{
 "cells": [
  {
   "cell_type": "markdown",
   "metadata": {
    "slideshow": {
     "slide_type": "slide"
    }
   },
   "source": [
    "# ADSTEX\n",
    "\n",
    "[`adstex`](https://github.com/yymao/adstex) helps you to manage your paper's references using NASA ADS."
   ]
  },
  {
   "cell_type": "markdown",
   "metadata": {
    "slideshow": {
     "slide_type": "slide"
    }
   },
   "source": [
    "## Install\n",
    "\n",
    "`pip install adstex`"
   ]
  },
  {
   "cell_type": "code",
   "execution_count": 1,
   "metadata": {
    "slideshow": {
     "slide_type": "subslide"
    }
   },
   "outputs": [
    {
     "name": "stdout",
     "output_type": "stream",
     "text": [
      "Processing /Users/birnstiel/Library/Caches/pip/wheels/3b/91/96/6a8098579dd81ca52605c5399b133670fde76647810937817e/adstex-0.3.5-cp37-none-any.whl\n",
      "Requirement already satisfied: requests>=2.0 in /Users/birnstiel/anaconda3/lib/python3.7/site-packages (from adstex) (2.22.0)\n",
      "Requirement already satisfied: bibtexparser>=0.6.2 in /Users/birnstiel/anaconda3/lib/python3.7/site-packages (from adstex) (1.1.0)\n",
      "Requirement already satisfied: ads>=0.12.3 in /Users/birnstiel/anaconda3/lib/python3.7/site-packages (from adstex) (0.12.3)\n",
      "Requirement already satisfied: certifi>=2017.4.17 in /Users/birnstiel/anaconda3/lib/python3.7/site-packages (from requests>=2.0->adstex) (2019.9.11)\n",
      "Requirement already satisfied: urllib3!=1.25.0,!=1.25.1,<1.26,>=1.21.1 in /Users/birnstiel/anaconda3/lib/python3.7/site-packages (from requests>=2.0->adstex) (1.24.2)\n",
      "Requirement already satisfied: chardet<3.1.0,>=3.0.2 in /Users/birnstiel/anaconda3/lib/python3.7/site-packages (from requests>=2.0->adstex) (3.0.4)\n",
      "Requirement already satisfied: idna<2.9,>=2.5 in /Users/birnstiel/anaconda3/lib/python3.7/site-packages (from requests>=2.0->adstex) (2.8)\n",
      "Requirement already satisfied: future>=0.16.0 in /Users/birnstiel/anaconda3/lib/python3.7/site-packages (from bibtexparser>=0.6.2->adstex) (0.18.2)\n",
      "Requirement already satisfied: pyparsing>=2.0.3 in /Users/birnstiel/anaconda3/lib/python3.7/site-packages (from bibtexparser>=0.6.2->adstex) (2.4.5)\n",
      "Requirement already satisfied: werkzeug in /Users/birnstiel/anaconda3/lib/python3.7/site-packages (from ads>=0.12.3->adstex) (0.16.0)\n",
      "Requirement already satisfied: mock in /Users/birnstiel/anaconda3/lib/python3.7/site-packages (from ads>=0.12.3->adstex) (3.0.5)\n",
      "Requirement already satisfied: six in /Users/birnstiel/anaconda3/lib/python3.7/site-packages (from ads>=0.12.3->adstex) (1.13.0)\n",
      "Requirement already satisfied: httpretty==0.8.10 in /Users/birnstiel/anaconda3/lib/python3.7/site-packages (from ads>=0.12.3->adstex) (0.8.10)\n",
      "Installing collected packages: adstex\n",
      "Successfully installed adstex-0.3.5\n"
     ]
    }
   ],
   "source": [
    "!pip install adstex"
   ]
  },
  {
   "cell_type": "markdown",
   "metadata": {
    "slideshow": {
     "slide_type": "slide"
    }
   },
   "source": [
    "## ADS API Token\n",
    "\n",
    "It needs the `ads` package and you need to get an ADS dev key. Getting that is easy: go to [NASA ADS](https://ui.adsabs.harvard.edu) and on the top right go to\n",
    "\n",
    "**Account** (log in or create one) $\\rightarrow$ **Customize Settings** $\\rightarrow$ **API Token**.\n",
    "\n",
    "Put that long string into your environment, for example by putting this in your `~/.bashrc` file (for `bash` users)\n",
    "\n",
    "```bash\n",
    "# If you use bash or bash-like shells --\n",
    "export ADS_API_TOKEN=\"your token string here\"\n",
    "```\n",
    "\n",
    "or this in your `~/.cshrc` (for `csh` users):\n",
    "\n",
    "```bash\n",
    "# If you use csh or csh-like shells --\n",
    "setenv ADS_API_TOKEN \"your token string here\"\n",
    "```"
   ]
  },
  {
   "cell_type": "markdown",
   "metadata": {
    "slideshow": {
     "slide_type": "slide"
    }
   },
   "source": [
    "# Example file"
   ]
  },
  {
   "cell_type": "code",
   "execution_count": 2,
   "metadata": {
    "slideshow": {
     "slide_type": "skip"
    }
   },
   "outputs": [],
   "source": [
    "from IPython.display import Markdown as md"
   ]
  },
  {
   "cell_type": "code",
   "execution_count": 3,
   "metadata": {},
   "outputs": [
    {
     "data": {
      "text/markdown": [
       "```latex\n",
       "% !TEX encoding = UTF-8\n",
       "% !TEX program = pdflatex\n",
       "\\documentclass{aa}\n",
       "\\usepackage{natbib}\n",
       "\\bibpunct{(}{)}{;}{a}{}{,} % to follow the A&A style\n",
       "\\usepackage{xcolor}\n",
       "\\usepackage{hyperref}\n",
       "\\begin{document}\n",
       "\n",
       "\\title{Example Paper}\n",
       "\\author{A. Bee \\inst{1}}\n",
       "\\institute{ A University\\\\ \\email{ab@auniversity.edu}}\n",
       "\n",
       "\\date{Received \\today; accepted XXXX}\n",
       "\n",
       "\\abstract{}{}{}{}{}\n",
       "\\keywords{}\n",
       " \\maketitle\n",
       "\n",
       "\\section{Introduction}\n",
       "\n",
       "\\citet{Stammler2019}\n",
       "\\citet{Birnstiel2010}\n",
       "\\citet{2010A&A...513A..79B}\n",
       "\n",
       "\\begin{acknowledgements}\n",
       "\\end{acknowledgements}\n",
       "\n",
       "\\bibliographystyle{aa}\n",
       "\\bibliography{bibliography}\n",
       "\n",
       "\\end{document}\n",
       "```"
      ],
      "text/plain": [
       "<IPython.core.display.Markdown object>"
      ]
     },
     "execution_count": 3,
     "metadata": {},
     "output_type": "execute_result"
    }
   ],
   "source": [
    "md(\"```latex\\n\" + ''.join(open('aanda.tex').readlines()) + \"```\")"
   ]
  },
  {
   "cell_type": "markdown",
   "metadata": {
    "slideshow": {
     "slide_type": "slide"
    }
   },
   "source": [
    "## Calling `adstex`"
   ]
  },
  {
   "cell_type": "markdown",
   "metadata": {
    "slideshow": {
     "slide_type": "skip"
    }
   },
   "source": [
    "Just run\n",
    "\n",
    "`adstex aanda.tex`"
   ]
  },
  {
   "cell_type": "markdown",
   "metadata": {
    "slideshow": {
     "slide_type": "fragment"
    }
   },
   "source": [
    "```\n",
    "\n",
    "------------------------------------------------------------\n",
    "Auto-identifying bibtex files...\n",
    "Main bibtex source (output file): bibliography.bib\n",
    "\n",
    "------------------------------------------------------------\n",
    "\n",
    "------------------------------------------------------------\n",
    "Choose one entry from below for <Birnstiel2010> (most cited at the end)\n",
    "------------------------------------------------------------\n",
    "[2] 2010A&A...516L..14B (cited 71 times)\n",
    "    Birnstiel, T.; Ricci, L.; Trotta, F.; Dullemond, C. P.; Natta, A. et al.\n",
    "    Testing the theory of grain growth and fragmentation by millimeter observa\n",
    "\n",
    "[1] 2010A&A...513A..79B (cited 278 times)\n",
    "    Birnstiel, T.; Dullemond, C. P.; Brauer, F.\n",
    "    Gas- and dust evolution in protoplanetary disks\n",
    "\n",
    "------------------------------------------------------------\n",
    "Choose one entry from above for <Birnstiel2010>\n",
    "------------------------------------------------------------\n",
    "ENTER choice (if no matches, ENTER 0 to skip or ENTER an identifier): \n",
    "```"
   ]
  },
  {
   "cell_type": "markdown",
   "metadata": {
    "slideshow": {
     "slide_type": "subslide"
    }
   },
   "source": [
    "I entered `1`"
   ]
  },
  {
   "cell_type": "markdown",
   "metadata": {},
   "source": [
    "```\n",
    "ENTER choice (if no matches, ENTER 0 to skip or ENTER an identifier): Birnstiel2010: NEW ENTRY => 2010A&A...513A..79B\n",
    "\n",
    "------------------------------------------------------------\n",
    "Choose one entry from below for <Stammler2019> (most cited at the end)\n",
    "------------------------------------------------------------\n",
    "[1] 2019ApJ...884L...5S (cited 0 times)\n",
    "    Stammler, Sebastian M.; Drążkowska, Joanna; Birnstiel, Til et al.\n",
    "    The DSHARP Rings: Evidence of Ongoing Planetesimal Formation?\n",
    "\n",
    "------------------------------------------------------------\n",
    "Choose one entry from above for <Stammler2019>\n",
    "------------------------------------------------------------\n",
    "ENTER choice (if no matches, ENTER 0 to skip or ENTER an identifier): \n",
    "```"
   ]
  },
  {
   "cell_type": "markdown",
   "metadata": {
    "slideshow": {
     "slide_type": "subslide"
    }
   },
   "source": [
    "I entered `1`"
   ]
  },
  {
   "cell_type": "markdown",
   "metadata": {},
   "source": [
    "```\n",
    "ENTER choice (if no matches, ENTER 0 to skip or ENTER an identifier): Stammler2019: NEW ENTRY => 2019ApJ...884L...5S\n",
    "2010A&A...513A..79B: NEW ENTRY => 2010A&A...513A..79B\n",
    "\n",
    "------------------------------------------------------------\n",
    "The following keys refer to the same entry\n",
    "------------------------------------------------------------\n",
    "2010A&A...513A..79B has been referred as the following keys; please keep only one:\n",
    "Birnstiel2010 2010A&A...513A..79B\n",
    "\n",
    "\n",
    "------------------------------------------------------------\n",
    "Building new bibtex file, please wait...\n",
    "------------------------------------------------------------\n",
    "\n",
    "------------------------------------------------------------\n",
    "Done!\n",
    "------------------------------------------------------------\n",
    "\n",
    "```"
   ]
  },
  {
   "cell_type": "markdown",
   "metadata": {
    "slideshow": {
     "slide_type": "slide"
    }
   },
   "source": [
    "## Bibtex file"
   ]
  },
  {
   "cell_type": "code",
   "execution_count": 4,
   "metadata": {
    "slideshow": {
     "slide_type": "-"
    }
   },
   "outputs": [
    {
     "data": {
      "text/markdown": [
       "```latex\n",
       "@string{june = {June}}\n",
       "\n",
       "@article{Birnstiel2010,\n",
       " adsnote = {Provided by the SAO/NASA Astrophysics Data System},\n",
       " adsurl = {https://ui.adsabs.harvard.edu/abs/2010A&A...513A..79B},\n",
       " archiveprefix = {arXiv},\n",
       " author = {{Birnstiel}, T. and {Dullemond}, C.~P. and {Brauer}, F.},\n",
       " doi = {10.1051/0004-6361/200913731},\n",
       " eid = {A79},\n",
       " eprint = {1002.0335},\n",
       " journal = {\\aap},\n",
       " keywords = {accretion, accretion disks, circumstellar matter, stars: formation, stars: pre-main sequence, infrared: stars, Astrophysics - Earth and Planetary Astrophysics, Astrophysics - Solar and Stellar Astrophysics},\n",
       " month = {Apr},\n",
       " pages = {A79},\n",
       " primaryclass = {astro-ph.EP},\n",
       " title = {{Gas- and dust evolution in protoplanetary disks}},\n",
       " volume = {513},\n",
       " year = {2010}\n",
       "}\n",
       "\n",
       "@article{Stammler2019,\n",
       " adsnote = {Provided by the SAO/NASA Astrophysics Data System},\n",
       " adsurl = {https://ui.adsabs.harvard.edu/abs/2019ApJ...884L...5S},\n",
       " archiveprefix = {arXiv},\n",
       " author = {{Stammler}, Sebastian M. and {Dr{\\k{a}}{\\.z}kowska}, Joanna and\n",
       "{Birnstiel}, Til and {Klahr}, Hubert and {Dullemond}, Cornelis P. and\n",
       "{Andrews}, Sean M.},\n",
       " doi = {10.3847/2041-8213/ab4423},\n",
       " eid = {L5},\n",
       " eprint = {1909.04674},\n",
       " journal = {\\apjl},\n",
       " keywords = {Circumstellar dust, Dust continuum emission, Gas-to-dust ratio, Astronomical simulations, Protoplanetary disks, Planetesimals, Planet formation, Astrophysics - Earth and Planetary Astrophysics},\n",
       " month = {Oct},\n",
       " number = {1},\n",
       " pages = {L5},\n",
       " primaryclass = {astro-ph.EP},\n",
       " title = {{The DSHARP Rings: Evidence of Ongoing Planetesimal Formation?}},\n",
       " volume = {884},\n",
       " year = {2019}\n",
       "}\n",
       "\n",
       "```"
      ],
      "text/plain": [
       "<IPython.core.display.Markdown object>"
      ]
     },
     "execution_count": 4,
     "metadata": {},
     "output_type": "execute_result"
    }
   ],
   "source": [
    "md(\"```latex\\n\" + ''.join(open('bibliography.bib').readlines()) + \"```\")"
   ]
  },
  {
   "cell_type": "markdown",
   "metadata": {
    "slideshow": {
     "slide_type": "slide"
    }
   },
   "source": [
    "# Note 1\n",
    "One paper appears twice with different bibcodes. `adstex` warns us to not keep both. Until we fix it, we might get `?`s in the pdf."
   ]
  },
  {
   "cell_type": "code",
   "execution_count": 5,
   "metadata": {},
   "outputs": [
    {
     "name": "stdout",
     "output_type": "stream",
     "text": [
      "\n",
      "------------------------------------------------------------\n",
      "Auto-identifying bibtex files...\n",
      "Main bibtex source (output file): bibliography.bib\n",
      "\n",
      "------------------------------------------------------------\n",
      "Overwritting existing string for key: june.\n",
      "Birnstiel2010: EXISTING\n",
      "Stammler2019: EXISTING\n",
      "2010A&A...513A..79B: EXISTING\n",
      "\n",
      "------------------------------------------------------------\n",
      "The following keys refer to the same entry\n",
      "------------------------------------------------------------\n",
      "2010A&A...513A..79B has been referred as the following keys; please keep only one:\n",
      "Birnstiel2010 2010A&A...513A..79B\n",
      "\n",
      "\n",
      "------------------------------------------------------------\n",
      "Done!\n",
      "------------------------------------------------------------\n"
     ]
    }
   ],
   "source": [
    "!adstex aanda.tex"
   ]
  },
  {
   "cell_type": "markdown",
   "metadata": {
    "slideshow": {
     "slide_type": "slide"
    }
   },
   "source": [
    "# Note 2"
   ]
  },
  {
   "cell_type": "markdown",
   "metadata": {},
   "source": [
    "By default, it always queries ADS every time for every paper (to update papers that were arxiv and are now published). This takes time and you can speed things up a lot. Here we have only 3 papers, but for many papers, it really gets slow if you don't call it without the `--no-update` option."
   ]
  },
  {
   "cell_type": "code",
   "execution_count": 6,
   "metadata": {
    "slideshow": {
     "slide_type": "subslide"
    }
   },
   "outputs": [
    {
     "name": "stdout",
     "output_type": "stream",
     "text": [
      "\n",
      "------------------------------------------------------------\n",
      "Auto-identifying bibtex files...\n",
      "Main bibtex source (output file): bibliography.bib\n",
      "\n",
      "------------------------------------------------------------\n",
      "Overwritting existing string for key: june.\n",
      "Stammler2019: EXISTING\n",
      "Birnstiel2010: EXISTING\n",
      "2010A&A...513A..79B: EXISTING\n",
      "\n",
      "------------------------------------------------------------\n",
      "The following keys refer to the same entry\n",
      "------------------------------------------------------------\n",
      "2010A&A...513A..79B has been referred as the following keys; please keep only one:\n",
      "Birnstiel2010 2010A&A...513A..79B\n",
      "\n",
      "\n",
      "------------------------------------------------------------\n",
      "Done!\n",
      "------------------------------------------------------------\n",
      "CPU times: user 72.3 ms, sys: 33.5 ms, total: 106 ms\n",
      "Wall time: 3.02 s\n"
     ]
    }
   ],
   "source": [
    "%%time\n",
    "!adstex aanda.tex"
   ]
  },
  {
   "cell_type": "code",
   "execution_count": 7,
   "metadata": {
    "slideshow": {
     "slide_type": "subslide"
    }
   },
   "outputs": [
    {
     "name": "stdout",
     "output_type": "stream",
     "text": [
      "\n",
      "------------------------------------------------------------\n",
      "Auto-identifying bibtex files...\n",
      "Main bibtex source (output file): bibliography.bib\n",
      "\n",
      "------------------------------------------------------------\n",
      "Overwritting existing string for key: june.\n",
      "Birnstiel2010: EXISTING\n",
      "Stammler2019: EXISTING\n",
      "2010A&A...513A..79B: EXISTING\n",
      "\n",
      "------------------------------------------------------------\n",
      "Done!\n",
      "------------------------------------------------------------\n",
      "CPU times: user 10.9 ms, sys: 10.4 ms, total: 21.2 ms\n",
      "Wall time: 620 ms\n"
     ]
    }
   ],
   "source": [
    "%%time\n",
    "!adstex aanda.tex --no-update"
   ]
  },
  {
   "cell_type": "markdown",
   "metadata": {
    "slideshow": {
     "slide_type": "slide"
    }
   },
   "source": [
    "# Thanks for your attention!"
   ]
  },
  {
   "cell_type": "code",
   "execution_count": null,
   "metadata": {
    "slideshow": {
     "slide_type": "skip"
    }
   },
   "outputs": [],
   "source": [
    "!jupyter nbconvert adstex.ipynb --to slides --post serve  --SlidesExporter.reveal_scroll=True --SlidesExporter.reveal_theme=white\n",
    "#--reveal-prefix \"https://cdn.jsdelivr.net/npm/reveal.js@3.6.0\""
   ]
  }
 ],
 "metadata": {
  "celltoolbar": "Slideshow",
  "kernelspec": {
   "display_name": "Python 3",
   "language": "python",
   "name": "python3"
  },
  "language_info": {
   "codemirror_mode": {
    "name": "ipython",
    "version": 3
   },
   "file_extension": ".py",
   "mimetype": "text/x-python",
   "name": "python",
   "nbconvert_exporter": "python",
   "pygments_lexer": "ipython3",
   "version": "3.7.0"
  }
 },
 "nbformat": 4,
 "nbformat_minor": 4
}
