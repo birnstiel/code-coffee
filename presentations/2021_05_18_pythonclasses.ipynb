{
 "cells": [
  {
   "cell_type": "markdown",
   "id": "96b8eb62",
   "metadata": {
    "slideshow": {
     "slide_type": "slide"
    }
   },
   "source": [
    "# A class on Python classes"
   ]
  },
  {
   "cell_type": "markdown",
   "id": "90de6d0f",
   "metadata": {
    "slideshow": {
     "slide_type": "slide"
    }
   },
   "source": [
    "## Python Basics\n",
    "\n",
    "Everything in Python is an object with an **identity** and **type**!\n",
    "\n",
    "You can access them with `id()` and `type()`\n",
    "\n",
    "Python already has built-in types (None, int, str, ...) which historically could not be extended\n",
    "\n",
    "**In Python3 all types are also classes**, the terms are used interchangably and you can inherent from everything"
   ]
  },
  {
   "cell_type": "markdown",
   "id": "7b3a0260",
   "metadata": {
    "slideshow": {
     "slide_type": "subslide"
    }
   },
   "source": [
    "### Terminology"
   ]
  },
  {
   "cell_type": "markdown",
   "id": "4c8ad373",
   "metadata": {},
   "source": [
    "Class declaration"
   ]
  },
  {
   "cell_type": "code",
   "execution_count": null,
   "id": "3c91eb52",
   "metadata": {},
   "outputs": [],
   "source": [
    "class MyClass:\n",
    "    pass"
   ]
  },
  {
   "cell_type": "markdown",
   "id": "7d756fc2",
   "metadata": {},
   "source": [
    "Creating an instance of that class"
   ]
  },
  {
   "cell_type": "code",
   "execution_count": null,
   "id": "a9b96173",
   "metadata": {},
   "outputs": [],
   "source": [
    "obj = MyClass()\n",
    "print(type(obj))"
   ]
  },
  {
   "cell_type": "markdown",
   "id": "098eaeb2",
   "metadata": {
    "slideshow": {
     "slide_type": "subslide"
    }
   },
   "source": [
    "What are the built-in types?"
   ]
  },
  {
   "cell_type": "code",
   "execution_count": null,
   "id": "5cc7dabf",
   "metadata": {
    "slideshow": {
     "slide_type": "-"
    }
   },
   "outputs": [],
   "source": [
    "age = 50\n",
    "print(type(age))"
   ]
  },
  {
   "cell_type": "markdown",
   "id": "eeb82349",
   "metadata": {
    "slideshow": {
     "slide_type": "subslide"
    }
   },
   "source": [
    "So a integer declaration actually returns an instance of the int class"
   ]
  },
  {
   "cell_type": "code",
   "execution_count": null,
   "id": "be689a01",
   "metadata": {
    "slideshow": {
     "slide_type": "-"
    }
   },
   "outputs": [],
   "source": [
    "age = int(50)"
   ]
  },
  {
   "cell_type": "markdown",
   "id": "e2121021",
   "metadata": {
    "slideshow": {
     "slide_type": "slide"
    }
   },
   "source": [
    "### How deep does the rabbit hole go?"
   ]
  },
  {
   "cell_type": "markdown",
   "id": "1d84e259",
   "metadata": {},
   "source": [
    "Does `int` have a base class?"
   ]
  },
  {
   "cell_type": "code",
   "execution_count": null,
   "id": "85a2cbd9",
   "metadata": {},
   "outputs": [],
   "source": [
    "print(int.__bases__)"
   ]
  },
  {
   "cell_type": "markdown",
   "id": "a88f3789",
   "metadata": {
    "slideshow": {
     "slide_type": "subslide"
    }
   },
   "source": [
    "Does `object` have a base class?"
   ]
  },
  {
   "cell_type": "code",
   "execution_count": null,
   "id": "29f06c3b",
   "metadata": {
    "slideshow": {
     "slide_type": "-"
    }
   },
   "outputs": [],
   "source": [
    "print(object.__bases__)"
   ]
  },
  {
   "cell_type": "markdown",
   "id": "99642fc7",
   "metadata": {
    "slideshow": {
     "slide_type": "subslide"
    }
   },
   "source": [
    "The `object` class is the basis of all classes in Python3"
   ]
  },
  {
   "cell_type": "code",
   "execution_count": null,
   "id": "1cf72199",
   "metadata": {
    "slideshow": {
     "slide_type": "-"
    }
   },
   "outputs": [],
   "source": [
    "class MyClass:\n",
    "    pass\n",
    "\n",
    "# is equivalent to\n",
    "\n",
    "class MyClass(object):\n",
    "    pass"
   ]
  },
  {
   "cell_type": "markdown",
   "id": "b460f87c",
   "metadata": {},
   "source": [
    "Everything in Python is an object!"
   ]
  },
  {
   "cell_type": "markdown",
   "id": "4f01ccfa",
   "metadata": {
    "slideshow": {
     "slide_type": "subslide"
    }
   },
   "source": [
    "If everything is an object, what is the type of a class declaration?"
   ]
  },
  {
   "cell_type": "code",
   "execution_count": null,
   "id": "0ae267ba",
   "metadata": {
    "scrolled": true,
    "slideshow": {
     "slide_type": "-"
    }
   },
   "outputs": [],
   "source": [
    "print(type(int))\n",
    "print(type(MyClass))\n",
    "print(type(object))"
   ]
  },
  {
   "cell_type": "markdown",
   "id": "e6e2c119",
   "metadata": {
    "slideshow": {
     "slide_type": "subslide"
    }
   },
   "source": [
    "Class declarations are instances of the class `type`, which itself is an instance of `type` and a subclass of the class `object`"
   ]
  },
  {
   "cell_type": "code",
   "execution_count": null,
   "id": "c4eedf3f",
   "metadata": {
    "slideshow": {
     "slide_type": "-"
    }
   },
   "outputs": [],
   "source": [
    "print(type(type))\n",
    "print(type.__bases__)"
   ]
  },
  {
   "cell_type": "markdown",
   "id": "f46263a6",
   "metadata": {},
   "source": [
    "`type` is a so-called **metaclass**, a class whose instances are classes"
   ]
  },
  {
   "cell_type": "markdown",
   "id": "52911804",
   "metadata": {
    "slideshow": {
     "slide_type": "subslide"
    }
   },
   "source": [
    "### Dynamic class declaration\n",
    "\n",
    "instead of only one argument, type can be called with three parameters:\n",
    "\n",
    "`type(classname, superclasses, attributes_dict)`"
   ]
  },
  {
   "cell_type": "code",
   "execution_count": null,
   "id": "c71cbb4b",
   "metadata": {
    "slideshow": {
     "slide_type": "-"
    }
   },
   "outputs": [],
   "source": [
    "MyClass = type('MyClass', (), {})\n",
    "obj = MyClass()\n",
    "print(type(obj))"
   ]
  },
  {
   "cell_type": "markdown",
   "id": "dc6b25b7",
   "metadata": {
    "slideshow": {
     "slide_type": "slide"
    }
   },
   "source": [
    "## Back to something useful - how can I enhance my classes\n",
    "\n",
    "- fundamentally classes are object constructors\n",
    "- allow defining custom data objects, bundeling data and functionalities\n",
    "- similar to structs/classes in c++ (difference is default public/private access)\n",
    "- in python all members are public and all member functions are virtual"
   ]
  },
  {
   "cell_type": "markdown",
   "id": "9ae88e21",
   "metadata": {
    "slideshow": {
     "slide_type": "subslide"
    }
   },
   "source": [
    "### Anatomy of a class"
   ]
  },
  {
   "cell_type": "code",
   "execution_count": null,
   "id": "c885cb8d",
   "metadata": {},
   "outputs": [],
   "source": [
    "class MyClass:\n",
    "    \"\"\"A simple example class.\"\"\"\n",
    "    unmutable = 100 # class attribute shared by each instance\n",
    "    mutable = []    # be careful with mutable class attributes (avoid this!)\n",
    "   \n",
    "    def set_instance_attr(self, value): # instance method, despite the name not unique to each instance\n",
    "        \"\"\"Assign to an instance attribute\"\"\"\n",
    "        self.instance_attr = value # instance attribute unique to each instance\n",
    "\n",
    "# Create two instances of MyClass\n",
    "obj_1 = MyClass()\n",
    "obj_2 = MyClass()\n",
    "# This example shows what goes wrong with mutable class attributes\n",
    "obj_2.mutable.append('Obacht!')\n",
    "print(obj_1.mutable)"
   ]
  },
  {
   "cell_type": "markdown",
   "id": "3f93a6e2",
   "metadata": {
    "slideshow": {
     "slide_type": "subslide"
    }
   },
   "source": [
    "### Attributes\n",
    "\n",
    "- all attributes/instance attributes of a class/instance are stored in a dictionary"
   ]
  },
  {
   "cell_type": "code",
   "execution_count": null,
   "id": "f3edf9d5",
   "metadata": {
    "slideshow": {
     "slide_type": "-"
    }
   },
   "outputs": [],
   "source": [
    "print('Class attributes:', MyClass.__dict__)\n",
    "print('Instance attributes:', obj_1.__dict__)"
   ]
  },
  {
   "cell_type": "markdown",
   "id": "721f147a",
   "metadata": {
    "slideshow": {
     "slide_type": "subslide"
    }
   },
   "source": [
    "- dictionaries are memory heavy compared to lists\n",
    "- if you do not need to add attributes to your instances dynamically, you can use `__slots__`\n",
    "- `__slots__` attributes also have faster access O(1) vs. O(N)"
   ]
  },
  {
   "cell_type": "code",
   "execution_count": null,
   "id": "61f3ce3d",
   "metadata": {},
   "outputs": [],
   "source": [
    "import sys\n",
    "\n",
    "class MyClassWithSlots:\n",
    "    \"\"\"A simple example class using slots.\"\"\"\n",
    "    __slots__ = ['instance__attr']\n",
    "    unmutable = 100\n",
    "    mutable = []\n",
    "\n",
    "    def set_instance_attr(self, value):\n",
    "        \"\"\"Assign to an instance attribute\"\"\"\n",
    "        self.instance_attr = value\n",
    "\n",
    "# Compare the size of classes, the one using slots is smaller \n",
    "obj_slots = MyClassWithSlots()\n",
    "print('Size of standard class:', sys.getsizeof(obj_1))\n",
    "print('Size of class using slots:', sys.getsizeof(obj_slots))\n",
    "# However you loose the ability to assign instance attributes dynamically\n",
    "obj_slots.new_attr = 42"
   ]
  },
  {
   "cell_type": "markdown",
   "id": "a6682354",
   "metadata": {},
   "source": [
    "- you can still allow dynamic instance attributes by adding `'__dict__'` to `__slots__`"
   ]
  },
  {
   "cell_type": "markdown",
   "id": "ef741bc5",
   "metadata": {
    "slideshow": {
     "slide_type": "subslide"
    }
   },
   "source": [
    "### Private attributes and methods\n",
    "\n",
    "- single underscore only indicates to others that the attribute/method is intended to be private (except wildcard imports)\n",
    "- double underscore `__var` is textually replaced with `_classname__var` (name mangling)"
   ]
  },
  {
   "cell_type": "code",
   "execution_count": null,
   "id": "53640583",
   "metadata": {},
   "outputs": [],
   "source": [
    "class MyClass:\n",
    "    \"\"\"An example class with private attributes and methods\"\"\"\n",
    "    __private_attr = 'You see my private attribute!'\n",
    "    \n",
    "    def __private_method(self):\n",
    "        \"\"\"A private method\"\"\"\n",
    "        print('You see my private method!')\n",
    "\n",
    "obj = MyClass()\n",
    "# You can still acces private attributes by using the mangled name\n",
    "print(obj._MyClass__private_attr)\n",
    "obj._MyClass__private_method()\n",
    "# However, accessing it directly will give an error\n",
    "print(obj.__private_attr)"
   ]
  },
  {
   "cell_type": "markdown",
   "id": "1fa176c7",
   "metadata": {
    "slideshow": {
     "slide_type": "slide"
    }
   },
   "source": [
    "## Some useful class method decorators"
   ]
  },
  {
   "cell_type": "markdown",
   "id": "bef8b4e4",
   "metadata": {
    "slideshow": {
     "slide_type": "subslide"
    }
   },
   "source": [
    "### @property decorator - how to convert a method to an attribute"
   ]
  },
  {
   "cell_type": "markdown",
   "id": "2e5e3437",
   "metadata": {},
   "source": [
    "Changing instance variables do not change other instance variables"
   ]
  },
  {
   "cell_type": "code",
   "execution_count": null,
   "id": "ae76213e",
   "metadata": {},
   "outputs": [],
   "source": [
    "class Person:\n",
    "    \n",
    "    def __init__(self, firstname, lastname):\n",
    "        self.first = firstname\n",
    "        self.last = lastname\n",
    "        self.fullname = self.first + ' '+ self.last\n",
    "    \n",
    "person = Person('Reanu', 'Keeves')\n",
    "print(person.fullname)\n",
    "person.first = 'Bob'\n",
    "print(person.fullname)"
   ]
  },
  {
   "cell_type": "markdown",
   "id": "3a114dff",
   "metadata": {
    "slideshow": {
     "slide_type": "subslide"
    }
   },
   "source": [
    "@property decorator allows to continue to use methods as attributes in order to not break existing code"
   ]
  },
  {
   "cell_type": "code",
   "execution_count": null,
   "id": "55c861b0",
   "metadata": {
    "scrolled": true,
    "slideshow": {
     "slide_type": "-"
    }
   },
   "outputs": [],
   "source": [
    "class Person:\n",
    "\n",
    "    def __init__(self, firstname, lastname):\n",
    "        self.first = firstname\n",
    "        self.last = lastname\n",
    "    \n",
    "    @property\n",
    "    def fullname(self):\n",
    "        return self.first + ' '+ self.last\n",
    "\n",
    "person = Person('Reanu', 'Keeves')\n",
    "print(person.fullname)\n",
    "person.first = 'Bob'\n",
    "print(person.fullname)"
   ]
  },
  {
   "cell_type": "markdown",
   "id": "b220c748",
   "metadata": {
    "slideshow": {
     "slide_type": "subslide"
    }
   },
   "source": [
    "in addtion, it allows custom setting and deletion of attributes"
   ]
  },
  {
   "cell_type": "code",
   "execution_count": null,
   "id": "41b44d14",
   "metadata": {
    "slideshow": {
     "slide_type": "-"
    }
   },
   "outputs": [],
   "source": [
    "class Person:\n",
    "\n",
    "    def __init__(self, firstname, lastname):\n",
    "        self.first = firstname\n",
    "        self.last = lastname\n",
    "\n",
    "    @property\n",
    "    def fullname(self):\n",
    "        return self.first + ' ' + self.last\n",
    "     \n",
    "    @fullname.setter\n",
    "    def fullname(self, name):\n",
    "        firstname, lastname = name.split()\n",
    "        self.first = firstname\n",
    "        self.last = lastname\n",
    "        \n",
    "    @fullname.deleter\n",
    "    def fullname(self):\n",
    "        self.first = 'None'\n",
    "        self.last = 'None'  "
   ]
  },
  {
   "cell_type": "code",
   "execution_count": null,
   "id": "1c5a2304",
   "metadata": {
    "slideshow": {
     "slide_type": "subslide"
    }
   },
   "outputs": [],
   "source": [
    "person = Person('Reanu', 'Keeves')\n",
    "print(person.fullname)\n",
    "# Set a new name\n",
    "person.fullname = 'Elton Husk'\n",
    "# Other attributes get automatically adjusted\n",
    "print(person.fullname)\n",
    "print(person.first)\n",
    "print(person.last)\n",
    "# Delete name\n",
    "del person.fullname\n",
    "print(person.fullname)"
   ]
  },
  {
   "cell_type": "markdown",
   "id": "98cf1dfe",
   "metadata": {
    "slideshow": {
     "slide_type": "subslide"
    }
   },
   "source": [
    "use properties for full encapsulation where you can define rules how private attributes can be got and set"
   ]
  },
  {
   "cell_type": "code",
   "execution_count": null,
   "id": "69bdb38e",
   "metadata": {},
   "outputs": [],
   "source": [
    "class Encapsulated:\n",
    "    \n",
    "    def __init__(self, name):\n",
    "        self.private_attr = name # This assignment calls the setter method\n",
    "        \n",
    "    @property\n",
    "    def private_attr(self):\n",
    "        return self.__private_attr\n",
    "    \n",
    "    @private_attr.setter\n",
    "    def private_attr(self, name):\n",
    "        if len(name) > 0 and len(name) < 10:\n",
    "            self.__private_attr = name\n",
    "        else:\n",
    "            self.__private_attr = None\n",
    "        \n",
    "obj = Encapsulated('Chris P Bacon')\n",
    "# The name is too long\n",
    "print(obj.private_attr)"
   ]
  },
  {
   "cell_type": "markdown",
   "id": "1226c42d",
   "metadata": {
    "slideshow": {
     "slide_type": "subslide"
    }
   },
   "source": [
    "### @staticmethod decorator - how to call methods without instantiating\n",
    "\n",
    "- instance methods can only be called by instances of the class\n",
    "- @staticmethod decorator converts it to a static method\n",
    "- static methods can also be called without instantiating the class first\n",
    "- static methods do not know about other attributes\n",
    "- could use normal function, however this way it is logically contained in the class for readability"
   ]
  },
  {
   "cell_type": "code",
   "execution_count": null,
   "id": "d99ef331",
   "metadata": {},
   "outputs": [],
   "source": [
    "class MyClass:\n",
    "  \n",
    "       @staticmethod\n",
    "       def find_max(number):\n",
    "           return max(number, 42)\n",
    "\n",
    "# You can use the find_max method using the class directly\n",
    "print(MyClass.find_max(101))\n",
    "# or using an instance\n",
    "obj = MyClass()\n",
    "print(obj.find_max(101))"
   ]
  },
  {
   "cell_type": "markdown",
   "id": "81872e5e",
   "metadata": {
    "slideshow": {
     "slide_type": "subslide"
    }
   },
   "source": [
    "### @classmethod decorator - a static method which knows about its class\n",
    "\n",
    "- @classmethod decorator converts an instance method to a class method\n",
    "- similar to static methods thay can be called without instantiating the class first\n",
    "- takes the class as parameter: `cls`\n",
    "- class methods do know about the other attributes\n",
    "- class methods allow predifined constructors (factory functions)"
   ]
  },
  {
   "cell_type": "code",
   "execution_count": null,
   "id": "682292ec",
   "metadata": {},
   "outputs": [],
   "source": [
    "class MyClass:\n",
    "    other_number = 42\n",
    "           \n",
    "    @classmethod\n",
    "    def find_max(cls, number):\n",
    "        return max(number, cls.other_number)\n",
    "    \n",
    "print(MyClass.find_max(101))\n",
    "obj = MyClass()\n",
    "print(obj.find_max(101)) # This would also work with normal instance method"
   ]
  },
  {
   "cell_type": "code",
   "execution_count": null,
   "id": "2664fa64",
   "metadata": {
    "slideshow": {
     "slide_type": "subslide"
    }
   },
   "outputs": [],
   "source": [
    "class Pizza:\n",
    "    \"\"\"This class shows the concept of factory functions\"\"\"\n",
    "    \n",
    "    def __init__(self, ingredients):\n",
    "        self.ingredients = ingredients\n",
    "\n",
    "    def __repr__(self):\n",
    "        return f'Pizza({self.ingredients})'\n",
    "\n",
    "    @classmethod\n",
    "    def margherita(cls):\n",
    "        return cls(['mozzarella', 'tomatoes'])\n",
    "\n",
    "    @classmethod\n",
    "    def prosciutto(cls):\n",
    "        return cls(['mozzarella', 'tomatoes', 'ham'])\n",
    "\n",
    "Pizza.margherita()"
   ]
  },
  {
   "cell_type": "markdown",
   "id": "2859b668",
   "metadata": {
    "slideshow": {
     "slide_type": "slide"
    }
   },
   "source": [
    "## Special methods - adding functionality to your classes"
   ]
  },
  {
   "cell_type": "markdown",
   "id": "8c0c4e24",
   "metadata": {
    "slideshow": {
     "slide_type": "subslide"
    }
   },
   "source": [
    "### Example: What happens when we create an instance? "
   ]
  },
  {
   "cell_type": "code",
   "execution_count": null,
   "id": "a1daa42c",
   "metadata": {},
   "outputs": [],
   "source": [
    "obj = MyClass()"
   ]
  },
  {
   "cell_type": "markdown",
   "id": "8e419377",
   "metadata": {},
   "source": [
    "- the `__call__` method of the parent class is called, in this case the `type_call` method of the `type` metaclass\n",
    "- this in turn invokes the `__new__` and `__init__` methods of the class itself\n",
    "- all of these type of methods are called **special**, **magic** or **dunder** methods and are pythons way of operator overloading"
   ]
  },
  {
   "cell_type": "markdown",
   "id": "fe7e0378",
   "metadata": {
    "slideshow": {
     "slide_type": "subslide"
    }
   },
   "source": [
    "### `__new__` - modify how instances of the class are created\n",
    "\n",
    "- automatically called when a class is instantiated\n",
    "- actually creates the object\n",
    "- used to customize how new class instances are created\n",
    "- this is where immutable objects are initialized as any attribute set in `__init__` can be modified"
   ]
  },
  {
   "cell_type": "code",
   "execution_count": null,
   "id": "cba8f3a1",
   "metadata": {},
   "outputs": [],
   "source": [
    "class Singleton:\n",
    "    \"\"\"This is an example of how to implement a singleton\"\"\"\n",
    "    __instance = None\n",
    "    \n",
    "    def __new__(cls): # As in the case with self, cls is a naming convention\n",
    "        if not cls.__instance:\n",
    "            cls.__instance = object.__new__(cls)\n",
    "            return cls.__instance\n",
    "        else:\n",
    "            print('An instance already exists!')\n",
    "        \n",
    "single_one = Singleton()\n",
    "print(single_one)\n",
    "single_two = Singleton()\n",
    "print(single_two)"
   ]
  },
  {
   "cell_type": "markdown",
   "id": "aee45565",
   "metadata": {
    "slideshow": {
     "slide_type": "subslide"
    }
   },
   "source": [
    "### `__init__` - the constructor/initilizer\n",
    "\n",
    "- automatically called when a class is instantiated\n",
    "- used to initialize attributes"
   ]
  },
  {
   "cell_type": "markdown",
   "id": "1506a257",
   "metadata": {
    "slideshow": {
     "slide_type": "subslide"
    }
   },
   "source": [
    "### `__repr__` - the formal representation\n",
    "\n",
    "- called by repr()\n",
    "- should be able to act as an argument to eval() and return the same object\n",
    "- should always be implemented"
   ]
  },
  {
   "cell_type": "code",
   "execution_count": null,
   "id": "e5cf6113",
   "metadata": {},
   "outputs": [],
   "source": [
    "class Person:\n",
    "    \n",
    "    def __init__(self, firstname, lastname, age):\n",
    "        self.first = firstname\n",
    "        self.last = lastname\n",
    "        self.age = age\n",
    "    \n",
    "    def __repr__(self):\n",
    "        \"\"\"Is called by the repr() function\"\"\"\n",
    "        return (f'Person(\"{self.first}\",\"{self.last}\",{self.age})')\n",
    "\n",
    "person = Person('Reanu', 'Keeves', 56)\n",
    "# This should return itself\n",
    "eval(repr(person))"
   ]
  },
  {
   "cell_type": "markdown",
   "id": "ebaf4cd1",
   "metadata": {
    "slideshow": {
     "slide_type": "subslide"
    }
   },
   "source": [
    "### `__str__` - the string representation\n",
    "\n",
    "- called by str() and the print statement\n",
    "- is the human readable representation\n",
    "- if not implemented, str() returns the result of the `__repr__` method\n",
    "- the latter also always happens for objects in containers"
   ]
  },
  {
   "cell_type": "code",
   "execution_count": null,
   "id": "41bc5e28",
   "metadata": {},
   "outputs": [],
   "source": [
    "class Person:\n",
    "    \n",
    "    def __init__(self, firstname, lastname, age):\n",
    "        self.first = firstname\n",
    "        self.last = lastname\n",
    "        self.age = age\n",
    "    \n",
    "    def __repr__(self):\n",
    "        return f'Person(\"{self.first}\",\"{self.last}\",{self.age})'\n",
    "\n",
    "    def __str__(self):\n",
    "        \"\"\"Is called by the str() and print() function\"\"\"\n",
    "        return f'{self.first} {self.last}, {self.age}'\n",
    "    \n",
    "person = Person('Reanu', 'Keeves', 56)\n",
    "# Print a nice human readable version\n",
    "print(person)"
   ]
  },
  {
   "cell_type": "markdown",
   "id": "366aff6f",
   "metadata": {
    "slideshow": {
     "slide_type": "subslide"
    }
   },
   "source": [
    "### `__del__` - the destructor/finilizer\n",
    "\n",
    "- called when the garbage collector is deleting objects without references"
   ]
  },
  {
   "cell_type": "code",
   "execution_count": null,
   "id": "b12a66fd",
   "metadata": {
    "slideshow": {
     "slide_type": "-"
    }
   },
   "outputs": [],
   "source": [
    "class MyClass:\n",
    "    \n",
    "    def __del__(self):\n",
    "        \"\"\"Is called when the garbage collector frees up the memory\"\"\"\n",
    "        print(f'{self.__class__.__name__} class destroyed!')\n",
    "        \n",
    "    def __str__(self):\n",
    "        return \"I exist!\"\n",
    "        \n",
    "obj = MyClass()\n",
    "reference = obj\n",
    "print(obj)\n",
    "del obj\n",
    "print(reference)\n",
    "del reference"
   ]
  },
  {
   "cell_type": "markdown",
   "id": "b7de44ab",
   "metadata": {
    "slideshow": {
     "slide_type": "subslide"
    }
   },
   "source": [
    "- be aware that garbage collection might not happen at all\n",
    "- therefore prefere **try/finally** or **with** for critical code or call `__del__` directly"
   ]
  },
  {
   "cell_type": "code",
   "execution_count": null,
   "id": "3abee474",
   "metadata": {},
   "outputs": [],
   "source": [
    "class MyClass:\n",
    "\n",
    "    def __enter__(self):\n",
    "        \"\"\"Gets called when with statement is entered\"\"\"\n",
    "        print('Entering with statement!')\n",
    "        \n",
    "    def __exit__(self, exc_type, exc_value, traceback):\n",
    "        \"\"\"Gets called when with statement is left\"\"\"\n",
    "        print('This is always garanteed to be called!')\n",
    "\n",
    "with MyClass() as example:\n",
    "    print('Executing code!')"
   ]
  },
  {
   "cell_type": "markdown",
   "id": "3aa49b54",
   "metadata": {
    "slideshow": {
     "slide_type": "subslide"
    }
   },
   "source": [
    "### `__getattr__`, `__setattr__`, `__delattr__` - you should probably be using a property"
   ]
  },
  {
   "cell_type": "code",
   "execution_count": null,
   "id": "80ccdc12",
   "metadata": {},
   "outputs": [],
   "source": [
    "class MyClass:\n",
    "    \n",
    "    def __setattr__(self, name, value):\n",
    "        \"\"\"Gets called when an attribute is set\"\"\"\n",
    "        print('Attribute setting forbidden!')\n",
    "        \n",
    "    def __getattribute__(self, name):\n",
    "        \"\"\"Gets called when any attribute is accesses\"\"\"\n",
    "        print('The answer is always 42!')\n",
    "        raise AttributeError\n",
    "        \n",
    "    def __getattr__(self, name):\n",
    "        \"\"\"Gets called when an attribute error is raised\"\"\"\n",
    "        print('I told you the answer is always 42!')\n",
    "        \n",
    "    def __delattr__(self, name):\n",
    "        \"\"\"Gets called when an attribute is deleted\"\"\"\n",
    "        print('You cannot suppress the truth!')\n",
    "        \n",
    "obj = MyClass()\n",
    "# Try to set attribute\n",
    "obj.x = 3\n",
    "# Try to get attribute\n",
    "obj.x\n",
    "# Try to delete attribute\n",
    "del obj.x\n",
    "# If only __setattr__ is defined you can still instance dictionary directly\n",
    "# This does not call the __setattr__ method: obj.__dict__['x'] = 3\n",
    "# However, accessing the dictionary calls the __getattribute__ method"
   ]
  },
  {
   "cell_type": "markdown",
   "id": "a2093dbb",
   "metadata": {
    "slideshow": {
     "slide_type": "subslide"
    }
   },
   "source": [
    "avoid infinite recursions, instead of"
   ]
  },
  {
   "cell_type": "code",
   "execution_count": null,
   "id": "82ba7b85",
   "metadata": {},
   "outputs": [],
   "source": [
    "class MyClass:\n",
    "    \n",
    "    def __setattr__(self, name, value):\n",
    "        setattr(self, name, value)"
   ]
  },
  {
   "cell_type": "markdown",
   "id": "3cec9261",
   "metadata": {},
   "source": [
    "use the respective method of the parent class"
   ]
  },
  {
   "cell_type": "code",
   "execution_count": null,
   "id": "d9d03b65",
   "metadata": {},
   "outputs": [],
   "source": [
    "class MyClass:\n",
    "    \n",
    "    def __setattr__(self, name, value):\n",
    "        super().__setattr__(name, value)"
   ]
  },
  {
   "cell_type": "markdown",
   "id": "86c36290",
   "metadata": {
    "slideshow": {
     "slide_type": "subslide"
    }
   },
   "source": [
    "### `__getitem__`, `__setitem__`, `__len__` - making your class a container"
   ]
  },
  {
   "cell_type": "code",
   "execution_count": null,
   "id": "bb6ab970",
   "metadata": {},
   "outputs": [],
   "source": [
    "class MyContainer:\n",
    "    \n",
    "    def __init__(self):\n",
    "        self.data = []\n",
    "        \n",
    "    def __len__(self):\n",
    "        return len(self.data)\n",
    "    \n",
    "    def append(self, item):\n",
    "        self.data.append(item)\n",
    "    \n",
    "    def __getitem__(self, sliced):\n",
    "        return self.data[sliced]\n",
    "    \n",
    "    def __setitem__(self, key, item):\n",
    "        self.data[key] = item\n",
    "        \n",
    "container = MyContainer()\n",
    "container.append(\"First\")\n",
    "container.append(\"Second\")\n",
    "container.append(\"Third\")\n",
    "print('First entry:', container[0])\n",
    "print('Length:', len(container))\n",
    "container[1] = 2\n",
    "print('Second entry', container[1])"
   ]
  },
  {
   "cell_type": "markdown",
   "id": "0d9134f4",
   "metadata": {
    "slideshow": {
     "slide_type": "subslide"
    }
   },
   "source": [
    "### `__eq__`, `__le__`, `__lt__`, `__ne__`, `__ge__`, `__gt__` -  comparing two objects\n",
    "\n",
    "- so-called “rich comparison” methods\n",
    "- default `__eq__` compares by using `is`\n",
    "- only have to implement one of each kind"
   ]
  },
  {
   "cell_type": "code",
   "execution_count": null,
   "id": "f1b72089",
   "metadata": {
    "scrolled": true
   },
   "outputs": [],
   "source": [
    "class Person:\n",
    "    def __init__(self, firstname, lastname, age):\n",
    "        self.first = firstname\n",
    "        self.last = lastname\n",
    "        self.age = age\n",
    "    \n",
    "    def __eq__(self, other):\n",
    "        return self.age == other.age\n",
    "    \n",
    "    def __le__(self, other):\n",
    "        return self.age <= other.age\n",
    "\n",
    "    def __lt__(self, other):\n",
    "        return self.age < other.age\n",
    "    \n",
    "person1 = Person('Reanu', 'Keeves', 56)\n",
    "person2 = Person('Elton', 'Husk', 62)\n",
    "print(person1 != person2)\n",
    "print(person1 <= person2)\n",
    "print(person1 > person2)"
   ]
  },
  {
   "cell_type": "markdown",
   "id": "6931c09c",
   "metadata": {
    "slideshow": {
     "slide_type": "subslide"
    }
   },
   "source": [
    "- using `total_ordering` you only have to implement one of `__lt__`, `__le__`, `__gt__` or `__ge__`\n",
    "- if you do not implement `__eq__` the objects will still be only compared using `is`"
   ]
  },
  {
   "cell_type": "code",
   "execution_count": null,
   "id": "0b4cf1e8",
   "metadata": {},
   "outputs": [],
   "source": [
    "from functools import total_ordering\n",
    "\n",
    "@total_ordering\n",
    "class Person:\n",
    "    def __init__(self, firstname, lastname, age):\n",
    "        self.first = firstname\n",
    "        self.last = lastname\n",
    "        self.age = age\n",
    "    \n",
    "    def __eq__(self, other):\n",
    "        return self.age == other.age\n",
    "    \n",
    "    def __lt__(self, other):\n",
    "        return self.age < other.age\n",
    "    \n",
    "    def __repr__(self):\n",
    "        return f'Person(\"{self.first}\",\"{self.last}\",{self.age})'\n",
    "    \n",
    "person1 = Person('Reanu', 'Keeves', 56)\n",
    "person2 = Person('Elton', 'Husk', 62)\n",
    "print(person1 != person2)\n",
    "print(person1 <= person2)\n",
    "print(person1 < person2)"
   ]
  },
  {
   "cell_type": "markdown",
   "id": "2e3f0ab7",
   "metadata": {
    "slideshow": {
     "slide_type": "subslide"
    }
   },
   "source": [
    "### `__hash__` - making your class hashable\n",
    "\n",
    "if `__eq__` is not defined:\n",
    "- every seperate instance will have a different hash\n",
    "- only limited usage as hash, as objects created with same values have different hashes\n",
    "- you should also not define a `__hash__` method\n",
    "\n",
    "if `__eq__` is defined but not `__hash__`:\n",
    "- instances will not be usable as items in hashable collections\n",
    "\n",
    "if a class defines mutable objects, it should not implement `__hash__`, **only immutable objects should be used as hash**"
   ]
  },
  {
   "cell_type": "code",
   "execution_count": null,
   "id": "3fac1961",
   "metadata": {},
   "outputs": [],
   "source": [
    "# Our previously defined persons cannot be used as keys in dictionaries\n",
    "dic = {person1: 1, person2: 2}"
   ]
  },
  {
   "cell_type": "code",
   "execution_count": null,
   "id": "f89c65b1",
   "metadata": {
    "slideshow": {
     "slide_type": "subslide"
    }
   },
   "outputs": [],
   "source": [
    "class Person:\n",
    "    def __init__(self, firstname, lastname, age):\n",
    "        self.first = firstname\n",
    "        self.last = lastname\n",
    "        self.age = age\n",
    "    \n",
    "    def __eq__(self, other):\n",
    "        return self.age == other.age\n",
    "    \n",
    "    def __repr__(self):\n",
    "        return f'Person(\"{self.first}\",\"{self.last}\",{self.age})'\n",
    "\n",
    "    def __hash__(self):\n",
    "        \"\"\"The objects of the class are mutable!\"\"\"\n",
    "        return hash(tuple([self.first, self.last, self.age]))\n",
    "\n",
    "person1 = Person('Reanu', 'Keeves', 56)\n",
    "person2 = Person('Reanu', 'Keeves', 56)\n",
    "print(hash(person1) == hash(person2))\n",
    "dic = {person1: 1}\n",
    "# Everything seems to work, person2 is an accepted key \n",
    "print('dic[person2]:', dic[person2])\n",
    "# We change person1 and both person1 and person2 will give a key error\n",
    "person1.age = 49\n",
    "dic[person2]"
   ]
  },
  {
   "cell_type": "markdown",
   "id": "63683278",
   "metadata": {
    "slideshow": {
     "slide_type": "subslide"
    }
   },
   "source": [
    "- when we changed person1, we also changed the dictionary key\n",
    "- the hash will no longer refer to the correct bucket in the dictionary for that key\n",
    "- only way to use mutable class is when the hash is based on the identity and not the value"
   ]
  },
  {
   "cell_type": "markdown",
   "id": "356d40e4",
   "metadata": {
    "slideshow": {
     "slide_type": "slide"
    }
   },
   "source": [
    "## Dataclasses\n",
    "\n",
    "- the `@dataclass` decorator converts a class to a dataclass\n",
    "- automatically adds `__init__`, `__repr__`, and `__eq__`\n",
    "- still functions as a regular class"
   ]
  },
  {
   "cell_type": "code",
   "execution_count": null,
   "id": "7ecd3bce",
   "metadata": {},
   "outputs": [],
   "source": [
    "class Person:\n",
    "\n",
    "    def __init__(self, firstname: str='unknown', lastname: str='unknown', age: int=-1): # These are variabel annotations or type hints\n",
    "        self.first = firstname\n",
    "        self.last = lastname\n",
    "        self.age = age\n",
    "        \n",
    "    def __repr__(self):\n",
    "        return f'Person(first={self.first}, last={self.last}, age={self.age})'\n",
    "    \n",
    "    def __eq__(self, other):\n",
    "        return (self.first, self.last, self.age) == (other.first, other.last, other.age)"
   ]
  },
  {
   "cell_type": "code",
   "execution_count": null,
   "id": "059ac613",
   "metadata": {
    "scrolled": true,
    "slideshow": {
     "slide_type": "subslide"
    }
   },
   "outputs": [],
   "source": [
    "from dataclasses import dataclass\n",
    "\n",
    "@dataclass\n",
    "class DataClassPerson:\n",
    "    first: str = 'unknown'\n",
    "    last: str = 'unknown'\n",
    "    age: int = -1\n",
    "\n",
    "person1 = DataClassPerson('Reanu', 'Keeves', 56)\n",
    "person2 = DataClassPerson('Reanu', 'Keeves', 56)\n",
    "print(person1)\n",
    "person1 == person2"
   ]
  },
  {
   "cell_type": "markdown",
   "id": "0dc05c2e",
   "metadata": {
    "slideshow": {
     "slide_type": "-"
    }
   },
   "source": [
    "type hints are mandatory for dataclasses, `any` is also an option "
   ]
  },
  {
   "cell_type": "markdown",
   "id": "ff92eba6",
   "metadata": {
    "slideshow": {
     "slide_type": "subslide"
    }
   },
   "source": [
    "- the lines below the class declaration define field objects, which are special to dataclasses and function like regular attributes\n",
    "- mutable types are not allowed, except created by the `default_factory` option"
   ]
  },
  {
   "cell_type": "code",
   "execution_count": null,
   "id": "18efd9ae",
   "metadata": {},
   "outputs": [],
   "source": [
    "from dataclasses import dataclass, field\n",
    "\n",
    "def return_list() -> list:\n",
    "    return [0, 1, 2]\n",
    "\n",
    "@dataclass\n",
    "class DataClassMutable:\n",
    "    mutable: list = field(default_factory=return_list)\n",
    "        \n",
    "obj = DataClassMutable()\n",
    "print(obj.mutable)"
   ]
  },
  {
   "cell_type": "markdown",
   "id": "69bdb0ac",
   "metadata": {
    "slideshow": {
     "slide_type": "subslide"
    }
   },
   "source": [
    "fields have the following options:\n",
    "\n",
    "- default: default value of the field\n",
    "- default_factory: function that returns the initial value of the field\n",
    "- init: use field in `__init__` method, default is True\n",
    "- repr: use field in repr of the object, default is True\n",
    "- compare: include the field in comparisons, default is True\n",
    "- hash: include the field when calculating hash, default is to use the same as for compare\n",
    "- metadata: a mapping with information about the field\n"
   ]
  },
  {
   "cell_type": "code",
   "execution_count": null,
   "id": "42a56d72",
   "metadata": {
    "slideshow": {
     "slide_type": "subslide"
    }
   },
   "outputs": [],
   "source": [
    "from dataclasses import dataclass, field, fields\n",
    "\n",
    "@dataclass\n",
    "class DataClassPerson:\n",
    "    first: str = 'unknown'\n",
    "    last: str = 'unknown'\n",
    "    age: int = field(default=-1, metadata={'unit': 'years'})\n",
    "        \n",
    "fields(DataClassPerson)"
   ]
  },
  {
   "cell_type": "markdown",
   "id": "3db70e8e",
   "metadata": {
    "slideshow": {
     "slide_type": "subslide"
    }
   },
   "source": [
    "`@dataclass` decorator can also be called with the following parameters:\n",
    "\n",
    "- init: adds `__init__` method, default is True\n",
    "- repr: adds `__repr__` method, default is True\n",
    "- eq:   adds `__eq__` method, default is True\n",
    "- order: adds ordering methods, default is False\n",
    "- unsafe_hash: force the addition of a `__hash__` method, default is False\n",
    "- frozen: if True, assigning to fields (**and to fields only**) raises an exception, default is False"
   ]
  },
  {
   "cell_type": "markdown",
   "id": "8be8b5d9",
   "metadata": {
    "slideshow": {
     "slide_type": "subslide"
    }
   },
   "source": [
    "`order=True` compares objects as if there were tuples"
   ]
  },
  {
   "cell_type": "code",
   "execution_count": null,
   "id": "ff12e9d4",
   "metadata": {
    "slideshow": {
     "slide_type": "-"
    }
   },
   "outputs": [],
   "source": [
    "from dataclasses import dataclass\n",
    "\n",
    "@dataclass(order=True)\n",
    "class DataClassPerson:\n",
    "    first: str = 'unknown'\n",
    "    last: str = 'unknown'\n",
    "    age: int = -1\n",
    "                                   \n",
    "person1 = DataClassPerson('Reanu', 'Keeves', 56)\n",
    "person2 = DataClassPerson('Elton', 'Husk', 62)\n",
    "person1 > person2"
   ]
  },
  {
   "cell_type": "markdown",
   "id": "f270124d",
   "metadata": {
    "slideshow": {
     "slide_type": "subslide"
    }
   },
   "source": [
    "you have to set a sort index to get custom ordering"
   ]
  },
  {
   "cell_type": "code",
   "execution_count": null,
   "id": "53e853c2",
   "metadata": {
    "slideshow": {
     "slide_type": "-"
    }
   },
   "outputs": [],
   "source": [
    "from dataclasses import dataclass, field\n",
    "\n",
    "@dataclass(order=True)\n",
    "class DataClassPerson:\n",
    "    sort_index: int = field(init=False, repr=False)\n",
    "    first: str = 'unknown'\n",
    "    last: str = 'unknown'\n",
    "    age: int = -1\n",
    "\n",
    "    def __post_init__(self): # This is a special method of dataclasses, called by __init__\n",
    "        self.sort_index = self.age\n",
    "\n",
    "person1 = DataClassPerson('Reanu', 'Keeves', 56)\n",
    "person2 = DataClassPerson('Elton', 'Husk', 62)\n",
    "person1 > person2"
   ]
  },
  {
   "cell_type": "markdown",
   "id": "026c5767",
   "metadata": {
    "slideshow": {
     "slide_type": "subslide"
    }
   },
   "source": [
    "`frozen=True` protects attributes from changing"
   ]
  },
  {
   "cell_type": "code",
   "execution_count": null,
   "id": "0b982e13",
   "metadata": {},
   "outputs": [],
   "source": [
    "@dataclass(frozen=True)\n",
    "class DataClassPerson:\n",
    "    first: str = 'unknown'\n",
    "    last: str = 'unknown'\n",
    "    age: int = -1\n",
    "           \n",
    "person1 = DataClassPerson('Reanu', 'Keeves', 56)\n",
    "person1.first = 'Bob'"
   ]
  },
  {
   "cell_type": "markdown",
   "id": "12760221",
   "metadata": {
    "slideshow": {
     "slide_type": "subslide"
    }
   },
   "source": [
    "however, mutable objects can still be changed"
   ]
  },
  {
   "cell_type": "code",
   "execution_count": null,
   "id": "0c9c1f65",
   "metadata": {},
   "outputs": [],
   "source": [
    "def return_list():\n",
    "    return [0, 1, 2]\n",
    "\n",
    "@dataclass(frozen=True)\n",
    "class DataClassPerson:\n",
    "    first: str = 'unknown'\n",
    "    last: str = 'unknown'\n",
    "    age: int = -1\n",
    "    mutable: list = field(default_factory=return_list)\n",
    "        \n",
    "person1 = DataClassPerson('Reanu', 'Keeves', 56)\n",
    "person1.mutable[0] = 42\n",
    "print(person1.mutable)"
   ]
  },
  {
   "cell_type": "markdown",
   "id": "ea7f2ca7",
   "metadata": {
    "slideshow": {
     "slide_type": "slide"
    }
   },
   "source": [
    "## Conclusions\n",
    "\n",
    "- everything in python is an object\n",
    "- use **properties** for better attribute setting/getting and together with private variables for full encapsulation\n",
    "- **special methods** can greatly expand the usability of classes; only implement as many as you need\n",
    "- **dataclasses** can greatly ficilitate class creation"
   ]
  }
 ],
 "metadata": {
  "celltoolbar": "Slideshow",
  "kernelspec": {
   "display_name": "Python 3",
   "language": "python",
   "name": "python3"
  },
  "language_info": {
   "codemirror_mode": {
    "name": "ipython",
    "version": 3
   },
   "file_extension": ".py",
   "mimetype": "text/x-python",
   "name": "python",
   "nbconvert_exporter": "python",
   "pygments_lexer": "ipython3",
   "version": "3.8.8"
  }
 },
 "nbformat": 4,
 "nbformat_minor": 5
}
