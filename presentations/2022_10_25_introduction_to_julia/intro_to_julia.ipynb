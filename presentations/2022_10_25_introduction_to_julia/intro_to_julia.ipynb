{
 "cells": [
  {
   "cell_type": "markdown",
   "metadata": {
    "slideshow": {
     "slide_type": "slide"
    }
   },
   "source": [
    "<img src=\"https://news.mit.edu/sites/default/files/images/201808/julia-programming-language-mit-00.png\" alt=\"drawing\" width=\"600\"/>\n",
    "\n",
    "# Julia 1.8\n",
    "\n",
    "### Ludwig Böss (USM)"
   ]
  },
  {
   "cell_type": "markdown",
   "metadata": {
    "slideshow": {
     "slide_type": "slide"
    }
   },
   "source": [
    "# What is Julia?\n",
    "\n",
    "A dynamically typed, just-in-time (JIT) compiled programming language.\n"
   ]
  },
  {
   "cell_type": "markdown",
   "metadata": {
    "slideshow": {
     "slide_type": "subslide"
    }
   },
   "source": [
    "Focus:\n",
    "- Fast and easy development\n",
    "- High Performance Computing (HPC)\n",
    "- Parallelisation\n",
    "- Scalability\n",
    "- Visualisation\n",
    "- STEM\n",
    "- Machine Learning"
   ]
  },
  {
   "cell_type": "markdown",
   "metadata": {
    "slideshow": {
     "slide_type": "subslide"
    }
   },
   "source": [
    "Modern Language features:\n",
    "- Excellent package system\n",
    "- Portable environments\n",
    "- Built-in Documentation and Testing system\n",
    "- Metaprogramming (code that generates new code)\n",
    "- Very good interplay with git"
   ]
  },
  {
   "cell_type": "markdown",
   "metadata": {
    "slideshow": {
     "slide_type": "slide"
    }
   },
   "source": [
    "## Why should I care?\n",
    "\n",
    "One possible solution to the Two-Language Problem"
   ]
  },
  {
   "cell_type": "markdown",
   "metadata": {
    "slideshow": {
     "slide_type": "subslide"
    }
   },
   "source": [
    "### \"Typical\" C/C++, Fortran workflow:\n",
    "\n",
    "- Delevopment (Language 1)\n",
    "    - Optimal performance (almost) out of the box\n",
    "    - Can be slow progress\n",
    "    - Tedious for small tasks\n",
    "- Analysis (Language 2)\n",
    "    - Post-processing of results\n",
    "    - Plotting\n",
    "    - etc."
   ]
  },
  {
   "cell_type": "markdown",
   "metadata": {
    "slideshow": {
     "slide_type": "subslide"
    }
   },
   "source": [
    "### \"Typical\" Python workflow: \n",
    "\n",
    "- Development (Language 1)\n",
    "    - Quick and easy!\n",
    "    - Pure Python (VERY slow)\n",
    "    - Numpy/Pandas (aka. C/C++ backend)\n",
    "- Performance improvement (Language 2)\n",
    "    - Replace performance-relevant code with C/C++, Fortran\n",
    "    - (alternative: Add Numba decorators)"
   ]
  },
  {
   "cell_type": "markdown",
   "metadata": {
    "slideshow": {
     "slide_type": "subslide"
    }
   },
   "source": [
    "### \"Typical\" Julia workflow:\n",
    "\n",
    "- Development (Language 1)\n",
    "    - Quick and easy!\n",
    "    - Pure Julia (already quite fast)\n",
    "- Performance improvement (Language 1)\n",
    "    - remove safety-nets (quick)\n",
    "    - make parallel (quick)\n",
    "- Analysis (Language 1)\n",
    "    - Post-processing\n",
    "    - Plotting\n",
    "    - etc."
   ]
  },
  {
   "cell_type": "markdown",
   "metadata": {
    "slideshow": {
     "slide_type": "subslide"
    }
   },
   "source": [
    "### \"Typical\" IDL workflow:\n",
    "\n",
    "- Pay thousands of euros to morally questionable defence contractors\n",
    "- Cry about your life choices"
   ]
  },
  {
   "cell_type": "markdown",
   "metadata": {
    "slideshow": {
     "slide_type": "slide"
    }
   },
   "source": [
    "# Syntax"
   ]
  },
  {
   "cell_type": "markdown",
   "metadata": {
    "slideshow": {
     "slide_type": "slide"
    }
   },
   "source": [
    "## IO"
   ]
  },
  {
   "cell_type": "code",
   "execution_count": 8,
   "metadata": {
    "slideshow": {
     "slide_type": "fragment"
    }
   },
   "outputs": [
    {
     "name": "stdout",
     "output_type": "stream",
     "text": [
      "Hello, World!\n",
      "Hello, World!\n",
      "x = 1.0\n"
     ]
    }
   ],
   "source": [
    "print(\"Hello, World!\\n\")    # optional line-break\n",
    "println(\"Hello, World!\")    # line-break included\n",
    "\n",
    "x = 1.0\n",
    "println(\"x = $x\")           # use (unformatted) variable in string"
   ]
  },
  {
   "cell_type": "code",
   "execution_count": 9,
   "metadata": {
    "slideshow": {
     "slide_type": "fragment"
    }
   },
   "outputs": [
    {
     "data": {
      "text/plain": [
       "\"003\""
      ]
     },
     "execution_count": 9,
     "metadata": {},
     "output_type": "execute_result"
    }
   ],
   "source": [
    "# formatted output\n",
    "using Printf     # import package\n",
    "\n",
    "i = 3\n",
    "@sprintf(\"%03i\", i)   # macro"
   ]
  },
  {
   "cell_type": "markdown",
   "metadata": {
    "slideshow": {
     "slide_type": "slide"
    }
   },
   "source": [
    "## Variables"
   ]
  },
  {
   "cell_type": "code",
   "execution_count": 10,
   "metadata": {
    "scrolled": true,
    "slideshow": {
     "slide_type": "fragment"
    }
   },
   "outputs": [
    {
     "name": "stdout",
     "output_type": "stream",
     "text": [
      "Float64\n",
      "Int64\n",
      "Bool\n"
     ]
    }
   ],
   "source": [
    "# optionally typed -> default is 64-bit!\n",
    "x = 1.0\n",
    "y = 2\n",
    "z = true\n",
    "\n",
    "println(typeof(x))\n",
    "println(typeof(y))\n",
    "println(typeof(z))"
   ]
  },
  {
   "cell_type": "code",
   "execution_count": 11,
   "metadata": {
    "scrolled": true,
    "slideshow": {
     "slide_type": "fragment"
    }
   },
   "outputs": [
    {
     "name": "stdout",
     "output_type": "stream",
     "text": [
      "k = 3.0 (Float64)\n"
     ]
    }
   ],
   "source": [
    "k = x + y\n",
    "println(\"k = $k ($(typeof(k)))\")"
   ]
  },
  {
   "cell_type": "code",
   "execution_count": 12,
   "metadata": {
    "slideshow": {
     "slide_type": "fragment"
    }
   },
   "outputs": [
    {
     "name": "stdout",
     "output_type": "stream",
     "text": [
      "Bool\n"
     ]
    }
   ],
   "source": [
    "# dynamically typed -> variables can change type\n",
    "x = true\n",
    "println(typeof(x))"
   ]
  },
  {
   "cell_type": "code",
   "execution_count": 13,
   "metadata": {
    "slideshow": {
     "slide_type": "subslide"
    }
   },
   "outputs": [
    {
     "name": "stdout",
     "output_type": "stream",
     "text": [
      "Float32\n",
      "Float32\n",
      "Float32\n"
     ]
    }
   ],
   "source": [
    "# force type in declaration\n",
    "x = 1.0f0\n",
    "y = Float32(1.0)    # parse to function\n",
    "z = 1.0 |> Float32  # pipe to function\n",
    "\n",
    "println(typeof(x))\n",
    "println(typeof(y))\n",
    "println(typeof(z))"
   ]
  },
  {
   "cell_type": "code",
   "execution_count": 14,
   "metadata": {
    "scrolled": false,
    "slideshow": {
     "slide_type": "subslide"
    }
   },
   "outputs": [
    {
     "name": "stdout",
     "output_type": "stream",
     "text": [
      "Float32\n"
     ]
    }
   ],
   "source": [
    "# force type in function\n",
    "function declare_f32(x)\n",
    "    y::Float32 = x\n",
    "    return y\n",
    "end\n",
    "x = declare_f32(1.0)\n",
    "println(typeof(x))"
   ]
  },
  {
   "cell_type": "code",
   "execution_count": null,
   "metadata": {
    "slideshow": {
     "slide_type": "subslide"
    }
   },
   "outputs": [],
   "source": [
    "# variable types in function arguments are optional\n",
    "function declare_f64_to_f32(x::Float64)\n",
    "    y::Float32 = x\n",
    "    return y\n",
    "end\n",
    "x = declare_f64_to_f32(1.0)\n",
    "println(typeof(x))"
   ]
  },
  {
   "cell_type": "markdown",
   "metadata": {
    "slideshow": {
     "slide_type": "subslide"
    }
   },
   "source": [
    "## Utf-8 support"
   ]
  },
  {
   "cell_type": "code",
   "execution_count": 15,
   "metadata": {
    "slideshow": {
     "slide_type": "fragment"
    }
   },
   "outputs": [
    {
     "name": "stdout",
     "output_type": "stream",
     "text": [
      "2π = 6.283185307179586\n"
     ]
    }
   ],
   "source": [
    "# utf support with LaTeX syntax\n",
    "# constants\n",
    "println(\"2π = $(2π)\")  "
   ]
  },
  {
   "cell_type": "code",
   "execution_count": 16,
   "metadata": {
    "scrolled": false,
    "slideshow": {
     "slide_type": "fragment"
    }
   },
   "outputs": [
    {
     "name": "stdout",
     "output_type": "stream",
     "text": [
      "12.566370614359172\n"
     ]
    }
   ],
   "source": [
    "# variable\n",
    "ξ = 1.0\n",
    "Δ = 4π * ξ\n",
    "println(Δ)"
   ]
  },
  {
   "cell_type": "code",
   "execution_count": 17,
   "metadata": {
    "slideshow": {
     "slide_type": "fragment"
    }
   },
   "outputs": [
    {
     "name": "stdout",
     "output_type": "stream",
     "text": [
      "false\n"
     ]
    }
   ],
   "source": [
    "# emoticons -> the cake is a lie\n",
    "🥧 = false\n",
    "println(🥧)"
   ]
  },
  {
   "cell_type": "markdown",
   "metadata": {
    "slideshow": {
     "slide_type": "subslide"
    }
   },
   "source": [
    "## Loops"
   ]
  },
  {
   "cell_type": "code",
   "execution_count": 19,
   "metadata": {
    "slideshow": {
     "slide_type": "fragment"
    }
   },
   "outputs": [
    {
     "name": "stdout",
     "output_type": "stream",
     "text": [
      "i = 1\n",
      "i = 2\n",
      "i = 3\n",
      "i = 4\n",
      "i = 5\n",
      "i = 6\n",
      "i = 7\n",
      "i = 8\n",
      "i = 9\n",
      "i = 10\n"
     ]
    }
   ],
   "source": [
    "# standard for loop\n",
    "for i = 1:10\n",
    "    println(\"i = $i\")   # indentation not relevant!\n",
    "end                     # end is used instead"
   ]
  },
  {
   "cell_type": "code",
   "execution_count": 21,
   "metadata": {
    "scrolled": false,
    "slideshow": {
     "slide_type": "fragment"
    }
   },
   "outputs": [
    {
     "name": "stdout",
     "output_type": "stream",
     "text": [
      "val = 1\n",
      "val = 4\n",
      "val = 6\n",
      "val = 8\n"
     ]
    }
   ],
   "source": [
    "# loop over entries\n",
    "values = [1, 4, 6, 8]\n",
    "for val ∈ values  # equivalent to 'for val in values'\n",
    "    println(\"val = $val\")\n",
    "end"
   ]
  },
  {
   "cell_type": "code",
   "execution_count": 22,
   "metadata": {
    "scrolled": true,
    "slideshow": {
     "slide_type": "fragment"
    }
   },
   "outputs": [
    {
     "name": "stdout",
     "output_type": "stream",
     "text": [
      "i = 1, j = 1\n",
      "i = 1, j = 2\n",
      "i = 1, j = 3\n",
      "i = 2, j = 1\n",
      "i = 2, j = 2\n",
      "i = 2, j = 3\n"
     ]
    }
   ],
   "source": [
    "# nested loops can be written in one line\n",
    "for i = 1:2, j = 1:3\n",
    "    println(\"i = $i, j = $j\")\n",
    "end"
   ]
  },
  {
   "cell_type": "markdown",
   "metadata": {
    "slideshow": {
     "slide_type": "subslide"
    }
   },
   "source": [
    "## If statements\n",
    "\n",
    "### Logic statements can be bracketing"
   ]
  },
  {
   "cell_type": "code",
   "execution_count": 24,
   "metadata": {
    "slideshow": {
     "slide_type": "fragment"
    }
   },
   "outputs": [
    {
     "name": "stdout",
     "output_type": "stream",
     "text": [
      "x is in range!\n"
     ]
    }
   ],
   "source": [
    "x = 2.0\n",
    "\n",
    "if 1.0 <= x <= 3.0\n",
    "    println(\"x is in range!\")\n",
    "else\n",
    "    println(\"x is not in range!\")\n",
    "end\n"
   ]
  },
  {
   "cell_type": "markdown",
   "metadata": {
    "slideshow": {
     "slide_type": "subslide"
    }
   },
   "source": [
    "## Arrays\n",
    "\n",
    "### Trigger warning: Julia is 1-indexed"
   ]
  },
  {
   "cell_type": "code",
   "execution_count": 25,
   "metadata": {
    "slideshow": {
     "slide_type": "fragment"
    }
   },
   "outputs": [
    {
     "name": "stdout",
     "output_type": "stream",
     "text": [
      "1.0\n"
     ]
    },
    {
     "data": {
      "text/plain": [
       "3-element Vector{Float64}:\n",
       " 8.1406137e-316\n",
       " 1.5953263816e-314\n",
       " 1.0e-323"
      ]
     },
     "execution_count": 25,
     "metadata": {},
     "output_type": "execute_result"
    }
   ],
   "source": [
    "# Vectors\n",
    "a = [1.0, 2.0, 3.0]            # \"by hand\"\n",
    "b = zeros(3)                   # bulk definition\n",
    "c = ones(3)\n",
    "\n",
    "println(c[1])\n",
    "\n",
    "# define datatype\n",
    "d = Vector{Float64}(undef, 3)  # pure memory allocation (faster!)\n",
    "e = Array{Float64,1}(undef, 3) # 1D Array is equivalent to Vector"
   ]
  },
  {
   "cell_type": "markdown",
   "metadata": {
    "slideshow": {
     "slide_type": "subslide"
    }
   },
   "source": [
    "## Matrices\n",
    "\n",
    "### Trigger warning: Julia is column major order, like Fortran!"
   ]
  },
  {
   "cell_type": "code",
   "execution_count": 27,
   "metadata": {
    "scrolled": true,
    "slideshow": {
     "slide_type": "fragment"
    }
   },
   "outputs": [
    {
     "data": {
      "text/plain": [
       "3×3 Matrix{Float64}:\n",
       " 0.0  0.0  0.0\n",
       " 0.0  0.0  0.0\n",
       " 0.0  0.0  0.0"
      ]
     },
     "execution_count": 27,
     "metadata": {},
     "output_type": "execute_result"
    }
   ],
   "source": [
    "A = [ 1.0 2.0 3.0\n",
    "      4.0 5.0 6.0 \n",
    "      7.0 8.0 9.0 ]                # \"by hand\"\n",
    "\n",
    "B = zeros(3,3)                     # in bulk\n",
    "C = ones(3,3)\n",
    "\n",
    "D = Matrix{Float64}(undef, 3, 3)   # pure memory allocation (faster!)\n",
    "E = Array{Float64,2}(undef, 3, 3)  # 2D Array is equivalent to Matrix"
   ]
  },
  {
   "cell_type": "code",
   "execution_count": 30,
   "metadata": {
    "scrolled": true,
    "slideshow": {
     "slide_type": "subslide"
    }
   },
   "outputs": [
    {
     "name": "stdout",
     "output_type": "stream",
     "text": [
      "[1.0 2.0 2.0; 1.0 2.0 2.0; 1.0 2.0 2.0]\n"
     ]
    }
   ],
   "source": [
    "# assign element wise\n",
    "B .= 2.0\n",
    "@. B = 2.0\n",
    "B[:,1] .= 1.0\n",
    "\n",
    "println(B)"
   ]
  },
  {
   "cell_type": "code",
   "execution_count": 31,
   "metadata": {
    "scrolled": true,
    "slideshow": {
     "slide_type": "fragment"
    }
   },
   "outputs": [
    {
     "data": {
      "text/plain": [
       "3×3 Matrix{Float64}:\n",
       " 1.0   8.0  14.0\n",
       " 2.0  10.0  16.0\n",
       " 3.0  12.0  18.0"
      ]
     },
     "execution_count": 31,
     "metadata": {},
     "output_type": "execute_result"
    }
   ],
   "source": [
    "# transposed multiplication\n",
    "A' .* B"
   ]
  },
  {
   "cell_type": "markdown",
   "metadata": {
    "slideshow": {
     "slide_type": "slide"
    }
   },
   "source": [
    "## Functions"
   ]
  },
  {
   "cell_type": "code",
   "execution_count": 33,
   "metadata": {
    "slideshow": {
     "slide_type": "fragment"
    }
   },
   "outputs": [
    {
     "data": {
      "text/plain": [
       "g (generic function with 1 method)"
      ]
     },
     "execution_count": 33,
     "metadata": {},
     "output_type": "execute_result"
    }
   ],
   "source": [
    "# inline functions\n",
    "f(a, b) = a + b\n",
    "\n",
    "# standard function\n",
    "function g(a, b)\n",
    "    a + b   # return optional!\n",
    "end "
   ]
  },
  {
   "cell_type": "code",
   "execution_count": 34,
   "metadata": {
    "scrolled": true,
    "slideshow": {
     "slide_type": "fragment"
    }
   },
   "outputs": [
    {
     "data": {
      "text/plain": [
       "3.0"
      ]
     },
     "execution_count": 34,
     "metadata": {},
     "output_type": "execute_result"
    }
   ],
   "source": [
    "g(1.0, 2.0)"
   ]
  },
  {
   "cell_type": "markdown",
   "metadata": {
    "slideshow": {
     "slide_type": "subslide"
    }
   },
   "source": [
    "## Functions"
   ]
  },
  {
   "cell_type": "code",
   "execution_count": 40,
   "metadata": {
    "slideshow": {
     "slide_type": "fragment"
    }
   },
   "outputs": [
    {
     "data": {
      "text/plain": [
       "g (generic function with 3 methods)"
      ]
     },
     "execution_count": 40,
     "metadata": {},
     "output_type": "execute_result"
    }
   ],
   "source": [
    "# standard function\n",
    "g(a, b) = a + b\n",
    "\n",
    "# optionally typed! -> \"multiple dispatch\"\n",
    "g(a::Complex, b::Complex) = println(\"I'm adding complex numbers! \\n$(a + b)\")"
   ]
  },
  {
   "cell_type": "code",
   "execution_count": 38,
   "metadata": {
    "slideshow": {
     "slide_type": "fragment"
    }
   },
   "outputs": [
    {
     "data": {
      "text/plain": [
       "3.0 + 1.0im"
      ]
     },
     "execution_count": 38,
     "metadata": {},
     "output_type": "execute_result"
    }
   ],
   "source": [
    "# define complex numbers\n",
    "c1 = 1.0\n",
    "c2 = 2.0 + 1.0im\n",
    "\n",
    "# call function for complex numbers\n",
    "g(c1, c2)"
   ]
  },
  {
   "cell_type": "code",
   "execution_count": 41,
   "metadata": {
    "slideshow": {
     "slide_type": "fragment"
    }
   },
   "outputs": [
    {
     "data": {
      "text/plain": [
       "3"
      ]
     },
     "execution_count": 41,
     "metadata": {},
     "output_type": "execute_result"
    }
   ],
   "source": [
    "# call function for all other numbers\n",
    "g(1, 2)"
   ]
  },
  {
   "cell_type": "markdown",
   "metadata": {
    "slideshow": {
     "slide_type": "subslide"
    }
   },
   "source": [
    "## Functions"
   ]
  },
  {
   "cell_type": "code",
   "execution_count": 42,
   "metadata": {
    "slideshow": {
     "slide_type": "fragment"
    }
   },
   "outputs": [
    {
     "data": {
      "text/plain": [
       "h (generic function with 1 method)"
      ]
     },
     "execution_count": 42,
     "metadata": {},
     "output_type": "execute_result"
    }
   ],
   "source": [
    "# definition for only a specific datatype\n",
    "h(a::Int64, b::Int64) = a + b"
   ]
  },
  {
   "cell_type": "code",
   "execution_count": 43,
   "metadata": {
    "slideshow": {
     "slide_type": "fragment"
    }
   },
   "outputs": [
    {
     "data": {
      "text/plain": [
       "3"
      ]
     },
     "execution_count": 43,
     "metadata": {},
     "output_type": "execute_result"
    }
   ],
   "source": [
    "# this works\n",
    "h(1, 2)"
   ]
  },
  {
   "cell_type": "code",
   "execution_count": 46,
   "metadata": {
    "scrolled": true,
    "slideshow": {
     "slide_type": "fragment"
    }
   },
   "outputs": [
    {
     "ename": "LoadError",
     "evalue": "MethodError: no method matching h(::Float64, ::Float64)",
     "output_type": "error",
     "traceback": [
      "MethodError: no method matching h(::Float64, ::Float64)",
      "",
      "Stacktrace:",
      " [1] top-level scope",
      "   @ In[46]:2",
      " [2] eval",
      "   @ .\\boot.jl:368 [inlined]",
      " [3] include_string(mapexpr::typeof(REPL.softscope), mod::Module, code::String, filename::String)",
      "   @ Base .\\loading.jl:1428"
     ]
    }
   ],
   "source": [
    "# this doesn't work\n",
    "h(1.0, 2.0)"
   ]
  },
  {
   "cell_type": "markdown",
   "metadata": {
    "slideshow": {
     "slide_type": "subslide"
    }
   },
   "source": [
    "## Functions"
   ]
  },
  {
   "cell_type": "code",
   "execution_count": 47,
   "metadata": {
    "scrolled": false,
    "slideshow": {
     "slide_type": "fragment"
    }
   },
   "outputs": [
    {
     "name": "stdout",
     "output_type": "stream",
     "text": [
      "MethodInstance for f(::Float64, ::Float64)\n",
      "  from f(a, b) in Main at In[33]:2\n",
      "Arguments\n",
      "  #self#\u001b[36m::Core.Const(f)\u001b[39m\n",
      "  a\u001b[36m::Float64\u001b[39m\n",
      "  b\u001b[36m::Float64\u001b[39m\n",
      "Body\u001b[36m::Float64\u001b[39m\n",
      "\u001b[90m1 ─\u001b[39m %1 = (a + b)\u001b[36m::Float64\u001b[39m\n",
      "\u001b[90m└──\u001b[39m      return %1\n",
      "\n"
     ]
    }
   ],
   "source": [
    "# check for type stability\n",
    "@code_warntype f(1.0, 2.0)"
   ]
  },
  {
   "cell_type": "markdown",
   "metadata": {
    "slideshow": {
     "slide_type": "subslide"
    }
   },
   "source": [
    "## Functions"
   ]
  },
  {
   "cell_type": "code",
   "execution_count": 48,
   "metadata": {
    "scrolled": false,
    "slideshow": {
     "slide_type": "fragment"
    }
   },
   "outputs": [
    {
     "name": "stdout",
     "output_type": "stream",
     "text": [
      "\t\u001b[0m.text\n",
      "\t\u001b[0m.file\t\u001b[0m\"f\"\n",
      "\t\u001b[0m.globl\t\u001b[0mjulia_f_5319                    \u001b[90m# -- Begin function julia_f_5319\u001b[39m\n",
      "\t\u001b[0m.p2align\t\u001b[33m4\u001b[39m\u001b[0m, \u001b[33m0x90\u001b[39m\n",
      "\t\u001b[0m.type\t\u001b[0mjulia_f_5319\u001b[0m,\u001b[0m@function\n",
      "\u001b[91mjulia_f_5319:\u001b[39m                           \u001b[90m# @julia_f_5319\u001b[39m\n",
      "\u001b[90m; ┌ @ In[33]:2 within `f`\u001b[39m\n",
      "\t\u001b[0m.cfi_startproc\n",
      "\u001b[90m# %bb.0:                                # %top\u001b[39m\n",
      "\t\u001b[96m\u001b[1mpushq\u001b[22m\u001b[39m\t\u001b[0m%rbp\n",
      "\t\u001b[0m.cfi_def_cfa_offset \u001b[33m16\u001b[39m\n",
      "\t\u001b[0m.cfi_offset \u001b[0m%rbp\u001b[0m, \u001b[33m-16\u001b[39m\n",
      "\t\u001b[96m\u001b[1mmovq\u001b[22m\u001b[39m\t\u001b[0m%rsp\u001b[0m, \u001b[0m%rbp\n",
      "\t\u001b[0m.cfi_def_cfa_register \u001b[0m%rbp\n",
      "\u001b[90m; │┌ @ float.jl:383 within `+`\u001b[39m\n",
      "\t\u001b[96m\u001b[1mvaddsd\u001b[22m\u001b[39m\t\u001b[0m%xmm1\u001b[0m, \u001b[0m%xmm0\u001b[0m, \u001b[0m%xmm0\n",
      "\u001b[90m; │└\u001b[39m\n",
      "\t\u001b[96m\u001b[1mpopq\u001b[22m\u001b[39m\t\u001b[0m%rbp\n",
      "\t\u001b[96m\u001b[1mretq\u001b[22m\u001b[39m\n",
      "\u001b[91m.Lfunc_end0:\u001b[39m\n",
      "\t\u001b[0m.size\t\u001b[0mjulia_f_5319\u001b[0m, \u001b[0m.Lfunc_end0-julia_f_5319\n",
      "\t\u001b[0m.cfi_endproc\n",
      "\u001b[90m; └\u001b[39m\n",
      "                                        \u001b[90m# -- End function\u001b[39m\n",
      "\t\u001b[0m.section\t\u001b[0m\".note.GNU-stack\"\u001b[0m,\u001b[0m\"\"\u001b[0m,\u001b[0m@progbits\n"
     ]
    }
   ],
   "source": [
    "# look at assembler code\n",
    "@code_native f(1.0, 2.0)"
   ]
  },
  {
   "cell_type": "markdown",
   "metadata": {
    "slideshow": {
     "slide_type": "subslide"
    }
   },
   "source": [
    "## Functions"
   ]
  },
  {
   "cell_type": "code",
   "execution_count": 49,
   "metadata": {
    "slideshow": {
     "slide_type": "fragment"
    }
   },
   "outputs": [
    {
     "data": {
      "text/plain": [
       "6.0"
      ]
     },
     "execution_count": 49,
     "metadata": {},
     "output_type": "execute_result"
    }
   ],
   "source": [
    "# also utf support\n",
    "Σ(x) = sum(x)    # \"function overload\"\n",
    "\n",
    "data = [1.0, 2.0, 3.0]\n",
    "Σ(data)"
   ]
  },
  {
   "cell_type": "markdown",
   "metadata": {
    "slideshow": {
     "slide_type": "slide"
    }
   },
   "source": [
    "# Ecosystem"
   ]
  },
  {
   "cell_type": "markdown",
   "metadata": {
    "slideshow": {
     "slide_type": "subslide"
    }
   },
   "source": [
    "## Shell\n",
    "\n",
    "In REPL type \" ; \"\n",
    "\n",
    "In code use:"
   ]
  },
  {
   "cell_type": "code",
   "execution_count": 50,
   "metadata": {
    "slideshow": {
     "slide_type": "fragment"
    }
   },
   "outputs": [
    {
     "data": {
      "text/plain": [
       "\"C:\\\\Users\\\\ludwi\\\\Documents\\\\Code\\\\CodeCoffee\\\\IntroToJulia\""
      ]
     },
     "execution_count": 50,
     "metadata": {},
     "output_type": "execute_result"
    }
   ],
   "source": [
    "cd(@__DIR__)    # change to directory of current file\n",
    "pwd()"
   ]
  },
  {
   "cell_type": "markdown",
   "metadata": {
    "slideshow": {
     "slide_type": "subslide"
    }
   },
   "source": [
    "## Package Manager\n",
    "\n",
    "In REPL type \" ] \"\n",
    "\n",
    "In code use:"
   ]
  },
  {
   "cell_type": "markdown",
   "metadata": {
    "slideshow": {
     "slide_type": "fragment"
    }
   },
   "source": [
    "```julia\n",
    "using Pkg\n",
    "Pkg.add(\"CairoMakie\")\n",
    "```"
   ]
  },
  {
   "cell_type": "markdown",
   "metadata": {
    "slideshow": {
     "slide_type": "subslide"
    }
   },
   "source": [
    "## Environments"
   ]
  },
  {
   "cell_type": "code",
   "execution_count": 51,
   "metadata": {
    "slideshow": {
     "slide_type": "fragment"
    }
   },
   "outputs": [
    {
     "name": "stderr",
     "output_type": "stream",
     "text": [
      "\u001b[32m\u001b[1m  Activating\u001b[22m\u001b[39m project at `C:\\Users\\ludwi\\Documents\\Code\\CodeCoffee\\IntroToJulia`\n"
     ]
    }
   ],
   "source": [
    "using Pkg\n",
    "Pkg.activate(\".\")  # activate environment in current folder\n",
    "# Pkg.instantiate()  # installs all packages for you that I used in the talk"
   ]
  },
  {
   "cell_type": "code",
   "execution_count": 52,
   "metadata": {
    "scrolled": true,
    "slideshow": {
     "slide_type": "fragment"
    }
   },
   "outputs": [
    {
     "name": "stdout",
     "output_type": "stream",
     "text": [
      "\u001b[32m\u001b[1mStatus\u001b[22m\u001b[39m `C:\\Users\\ludwi\\Documents\\Code\\CodeCoffee\\IntroToJulia\\Project.toml`\n",
      " \u001b[90m [6e4b80f9] \u001b[39mBenchmarkTools v1.3.1\n",
      "\u001b[32m⌃\u001b[39m\u001b[90m [13f3f980] \u001b[39mCairoMakie v0.8.13\n",
      "\u001b[32m⌃\u001b[39m\u001b[90m [bdcacae8] \u001b[39mLoopVectorization v0.12.133\n",
      " \u001b[90m [438e738f] \u001b[39mPyCall v1.94.1\n",
      " \u001b[90m [54ab9b88] \u001b[39mSPHKernels v2.0.1\n",
      "\u001b[36m\u001b[1mInfo\u001b[22m\u001b[39m Packages marked with \u001b[32m⌃\u001b[39m have new versions available and may be upgradable.\n"
     ]
    }
   ],
   "source": [
    "Pkg.status()"
   ]
  },
  {
   "cell_type": "code",
   "execution_count": 53,
   "metadata": {
    "scrolled": true,
    "slideshow": {
     "slide_type": "subslide"
    }
   },
   "outputs": [
    {
     "name": "stderr",
     "output_type": "stream",
     "text": [
      "\u001b[32m\u001b[1m   Resolving\u001b[22m\u001b[39m package versions...\n",
      "\u001b[32m\u001b[1m    Updating\u001b[22m\u001b[39m `C:\\Users\\ludwi\\Documents\\Code\\CodeCoffee\\IntroToJulia\\Project.toml`\n",
      " \u001b[90m [826b50da] \u001b[39m\u001b[92m+ GadgetIO v0.6.3\u001b[39m\n",
      "\u001b[32m\u001b[1m    Updating\u001b[22m\u001b[39m `C:\\Users\\ludwi\\Documents\\Code\\CodeCoffee\\IntroToJulia\\Manifest.toml`\n",
      " \u001b[90m [826b50da] \u001b[39m\u001b[92m+ GadgetIO v0.6.3\u001b[39m\n",
      " \u001b[90m [8bb1440f] \u001b[39m\u001b[92m+ DelimitedFiles\u001b[39m\n"
     ]
    }
   ],
   "source": [
    "Pkg.add(\"GadgetIO\")"
   ]
  },
  {
   "cell_type": "code",
   "execution_count": 54,
   "metadata": {
    "scrolled": true,
    "slideshow": {
     "slide_type": "subslide"
    }
   },
   "outputs": [
    {
     "name": "stdout",
     "output_type": "stream",
     "text": [
      "\u001b[32m\u001b[1mStatus\u001b[22m\u001b[39m `C:\\Users\\ludwi\\Documents\\Code\\CodeCoffee\\IntroToJulia\\Project.toml`\n",
      " \u001b[90m [6e4b80f9] \u001b[39mBenchmarkTools v1.3.1\n",
      "\u001b[32m⌃\u001b[39m\u001b[90m [13f3f980] \u001b[39mCairoMakie v0.8.13\n",
      " \u001b[90m [826b50da] \u001b[39mGadgetIO v0.6.3\n",
      "\u001b[32m⌃\u001b[39m\u001b[90m [bdcacae8] \u001b[39mLoopVectorization v0.12.133\n",
      " \u001b[90m [438e738f] \u001b[39mPyCall v1.94.1\n",
      " \u001b[90m [54ab9b88] \u001b[39mSPHKernels v2.0.1\n",
      "\u001b[36m\u001b[1mInfo\u001b[22m\u001b[39m Packages marked with \u001b[32m⌃\u001b[39m have new versions available and may be upgradable.\n"
     ]
    }
   ],
   "source": [
    "Pkg.status()"
   ]
  },
  {
   "cell_type": "markdown",
   "metadata": {
    "slideshow": {
     "slide_type": "subslide"
    }
   },
   "source": [
    "## This creates 2 files:\n",
    "\n",
    "### Project.toml"
   ]
  },
  {
   "cell_type": "markdown",
   "metadata": {
    "slideshow": {
     "slide_type": "fragment"
    }
   },
   "source": [
    "```julia\n",
    "[deps]\n",
    "GadgetIO = \"826b50da-1eb7-48f3-bd4b-d2350582c309\"\n",
    "```"
   ]
  },
  {
   "cell_type": "markdown",
   "metadata": {
    "slideshow": {
     "slide_type": "subslide"
    }
   },
   "source": [
    "### Manifest.toml"
   ]
  },
  {
   "cell_type": "markdown",
   "metadata": {
    "slideshow": {
     "slide_type": "fragment"
    }
   },
   "source": [
    "```julia\n",
    "\n",
    "julia_version = \"1.8.2\"\n",
    "manifest_format = \"2.0\"\n",
    "\n",
    "[...]\n",
    "\n",
    "[[deps.GadgetIO]]\n",
    "deps = [\"Dates\", \"DelimitedFiles\", \"Documenter\", \"DocumenterTools\", \"Downloads\", \"LinearAlgebra\", \"Printf\", \"ProgressMeter\", \"Test\"]\n",
    "git-tree-sha1 = \"2bdce0369aecda24f6da5af11e67873cd93355f1\"\n",
    "uuid = \"826b50da-1eb7-48f3-bd4b-d2350582c309\"\n",
    "version = \"0.5.8\"\n",
    "\n",
    "[...]\n",
    "\n",
    "[[deps.ProgressMeter]]\n",
    "deps = [\"Distributed\", \"Printf\"]\n",
    "git-tree-sha1 = \"afadeba63d90ff223a6a48d2009434ecee2ec9e8\"\n",
    "uuid = \"92933f4c-e287-5a05-a399-4b506db050ca\"\n",
    "version = \"1.7.1\"\n",
    "\n",
    "[[deps.REPL]]\n",
    "deps = [\"InteractiveUtils\", \"Markdown\", \"Sockets\", \"Unicode\"]\n",
    "uuid = \"3fa0cd96-eef1-5676-8a61-b3b8758bbffb\"\n",
    "\n",
    "[[deps.SHA]]\n",
    "uuid = \"ea8e919c-243c-51af-8825-aaa63cd721ce\"\n",
    "\n",
    "[[deps.Test]]\n",
    "deps = [\"InteractiveUtils\", \"Logging\", \"Random\", \"Serialization\"]\n",
    "uuid = \"8dfed614-e22c-5e08-85e1-65c5234f0b40\"\n",
    "\n",
    "[...]\n",
    "\n",
    "```"
   ]
  },
  {
   "cell_type": "markdown",
   "metadata": {
    "slideshow": {
     "slide_type": "subslide"
    }
   },
   "source": [
    "## Portability:\n",
    "\n",
    "You can send the entire folder to someone and just add the lines\n",
    "\n",
    "```julia\n",
    "using Pkg\n",
    "Pkg.activate(\".\")\n",
    "Pkg.instantiate()\n",
    "```\n",
    "to the top of your `.jl` file. \n",
    "\n",
    "This will automatically install all required packages, down to the last commit."
   ]
  },
  {
   "cell_type": "markdown",
   "metadata": {
    "slideshow": {
     "slide_type": "subslide"
    }
   },
   "source": [
    "### Cleanup"
   ]
  },
  {
   "cell_type": "code",
   "execution_count": 55,
   "metadata": {
    "scrolled": false,
    "slideshow": {
     "slide_type": "fragment"
    }
   },
   "outputs": [
    {
     "name": "stderr",
     "output_type": "stream",
     "text": [
      "\u001b[32m\u001b[1m    Updating\u001b[22m\u001b[39m `C:\\Users\\ludwi\\Documents\\Code\\CodeCoffee\\IntroToJulia\\Project.toml`\n",
      " \u001b[90m [826b50da] \u001b[39m\u001b[91m- GadgetIO v0.6.3\u001b[39m\n",
      "\u001b[32m\u001b[1m    Updating\u001b[22m\u001b[39m `C:\\Users\\ludwi\\Documents\\Code\\CodeCoffee\\IntroToJulia\\Manifest.toml`\n",
      " \u001b[90m [826b50da] \u001b[39m\u001b[91m- GadgetIO v0.6.3\u001b[39m\n",
      " \u001b[90m [8bb1440f] \u001b[39m\u001b[91m- DelimitedFiles\u001b[39m\n"
     ]
    }
   ],
   "source": [
    "Pkg.rm(\"GadgetIO\")"
   ]
  },
  {
   "cell_type": "code",
   "execution_count": 56,
   "metadata": {
    "scrolled": false,
    "slideshow": {
     "slide_type": "subslide"
    }
   },
   "outputs": [
    {
     "name": "stdout",
     "output_type": "stream",
     "text": [
      "\u001b[32m\u001b[1mStatus\u001b[22m\u001b[39m `C:\\Users\\ludwi\\Documents\\Code\\CodeCoffee\\IntroToJulia\\Project.toml`\n",
      " \u001b[90m [6e4b80f9] \u001b[39mBenchmarkTools v1.3.1\n",
      "\u001b[32m⌃\u001b[39m\u001b[90m [13f3f980] \u001b[39mCairoMakie v0.8.13\n",
      "\u001b[32m⌃\u001b[39m\u001b[90m [bdcacae8] \u001b[39mLoopVectorization v0.12.133\n",
      " \u001b[90m [438e738f] \u001b[39mPyCall v1.94.1\n",
      " \u001b[90m [54ab9b88] \u001b[39mSPHKernels v2.0.1\n",
      "\u001b[36m\u001b[1mInfo\u001b[22m\u001b[39m Packages marked with \u001b[32m⌃\u001b[39m have new versions available and may be upgradable.\n"
     ]
    }
   ],
   "source": [
    "Pkg.status()"
   ]
  },
  {
   "cell_type": "markdown",
   "metadata": {
    "slideshow": {
     "slide_type": "fragment"
    }
   },
   "source": [
    "```julia\n",
    "# return to default environment\n",
    "Pkg.activate()   # without function arguments\n",
    "Pkg.status()\n",
    "```"
   ]
  },
  {
   "cell_type": "markdown",
   "metadata": {
    "slideshow": {
     "slide_type": "slide"
    }
   },
   "source": [
    "# What I like\n",
    "\n",
    "## (just-in-time) Compiled Language -> Performance\n",
    "\n",
    "### (Estimate pi example)"
   ]
  },
  {
   "cell_type": "code",
   "execution_count": 57,
   "metadata": {
    "slideshow": {
     "slide_type": "subslide"
    }
   },
   "outputs": [
    {
     "name": "stdout",
     "output_type": "stream",
     "text": [
      "  0.002198 seconds (1 allocation: 80 bytes)\n",
      "  0.002048 seconds (1 allocation: 80 bytes)\n"
     ]
    },
    {
     "data": {
      "text/plain": [
       "5902.593566111972"
      ]
     },
     "execution_count": 57,
     "metadata": {},
     "output_type": "execute_result"
    }
   ],
   "source": [
    "using SPHKernels\n",
    "\n",
    "function add_loop(N::Int64)\n",
    "    \n",
    "    # define kernel function\n",
    "    k = WendlandC6()\n",
    "    # define position array\n",
    "    x = [0.1, 0.0, 0.0]\n",
    "    # store value\n",
    "    count = 0.0\n",
    "\n",
    "    # run loop\n",
    "    for i = 1:N\n",
    "        # shift x-position\n",
    "        x[1] += 1.e-3 * x[1]\n",
    "        # calculate distance\n",
    "        r = √( x[1]^2 + x[2]^2 + x[3]^2 )\n",
    "        # add kernel value at distance r\n",
    "        count += 𝒲(k, r, 1.0)\n",
    "    end\n",
    "    count\n",
    "end\n",
    "\n",
    "N = 1_000_000\n",
    "\n",
    "# usually: 1st function call slow (includes compile time)\n",
    "@time add_loop(N)\n",
    "# 2nd function call fast\n",
    "@time add_loop(N)"
   ]
  },
  {
   "cell_type": "markdown",
   "metadata": {
    "slideshow": {
     "slide_type": "subslide"
    }
   },
   "source": [
    "## Development -> Production"
   ]
  },
  {
   "cell_type": "code",
   "execution_count": 58,
   "metadata": {
    "slideshow": {
     "slide_type": "fragment"
    }
   },
   "outputs": [],
   "source": [
    "# useful tool for performance improvements\n",
    "using BenchmarkTools"
   ]
  },
  {
   "cell_type": "code",
   "execution_count": 60,
   "metadata": {
    "slideshow": {
     "slide_type": "subslide"
    }
   },
   "outputs": [
    {
     "data": {
      "text/plain": [
       "simple_add! (generic function with 1 method)"
      ]
     },
     "execution_count": 60,
     "metadata": {},
     "output_type": "execute_result"
    }
   ],
   "source": [
    "# Naive default\n",
    "function simple_add!(a)\n",
    "    for i = 1:length(a)\n",
    "        a[i] += 1.0\n",
    "    end\n",
    "end"
   ]
  },
  {
   "cell_type": "code",
   "execution_count": 61,
   "metadata": {
    "slideshow": {
     "slide_type": "fragment"
    }
   },
   "outputs": [
    {
     "name": "stdout",
     "output_type": "stream",
     "text": [
      "  22.189 ns (0 allocations: 0 bytes)\n"
     ]
    }
   ],
   "source": [
    "# 255 -> does not fill an AVX512 register completely, so it will not vectorize by default\n",
    "a = zeros(255)\n",
    "# performance testing macro\n",
    "# runs the function N times and computes the mean execution time\n",
    "@btime simple_add!($a)"
   ]
  },
  {
   "cell_type": "code",
   "execution_count": 62,
   "metadata": {
    "slideshow": {
     "slide_type": "subslide"
    }
   },
   "outputs": [
    {
     "data": {
      "text/plain": [
       "inbounds_add! (generic function with 1 method)"
      ]
     },
     "execution_count": 62,
     "metadata": {},
     "output_type": "execute_result"
    }
   ],
   "source": [
    "function inbounds_add!(a)\n",
    "    # switch of bounds check -> segmentation fault instead of error message if i > length(a)\n",
    "    @inbounds for i = 1:length(a)\n",
    "        a[i] += 1.0\n",
    "    end\n",
    "end"
   ]
  },
  {
   "cell_type": "code",
   "execution_count": 63,
   "metadata": {
    "scrolled": true,
    "slideshow": {
     "slide_type": "fragment"
    }
   },
   "outputs": [
    {
     "name": "stdout",
     "output_type": "stream",
     "text": [
      "  21.787 ns (0 allocations: 0 bytes)\n"
     ]
    }
   ],
   "source": [
    "a = zeros(255)\n",
    "@btime inbounds_add!($a)"
   ]
  },
  {
   "cell_type": "code",
   "execution_count": 64,
   "metadata": {
    "slideshow": {
     "slide_type": "subslide"
    }
   },
   "outputs": [
    {
     "data": {
      "text/plain": [
       "avx_add! (generic function with 1 method)"
      ]
     },
     "execution_count": 64,
     "metadata": {},
     "output_type": "execute_result"
    }
   ],
   "source": [
    "using LoopVectorization\n",
    "\n",
    "function avx_add!(a)\n",
    "    # enforce vectorization \n",
    "    @turbo for i = eachindex(a)\n",
    "        a[i] += 1.0\n",
    "    end\n",
    "end"
   ]
  },
  {
   "cell_type": "code",
   "execution_count": 66,
   "metadata": {
    "scrolled": true,
    "slideshow": {
     "slide_type": "fragment"
    }
   },
   "outputs": [
    {
     "name": "stdout",
     "output_type": "stream",
     "text": [
      "  15.130 ns (0 allocations: 0 bytes)\n"
     ]
    }
   ],
   "source": [
    "a = zeros(255)\n",
    "@btime avx_add!($a)"
   ]
  },
  {
   "cell_type": "code",
   "execution_count": 67,
   "metadata": {
    "scrolled": true,
    "slideshow": {
     "slide_type": "fragment"
    }
   },
   "outputs": [
    {
     "name": "stdout",
     "output_type": "stream",
     "text": [
      "  9.710 ns (0 allocations: 0 bytes)\n"
     ]
    }
   ],
   "source": [
    "a = zeros(256)\n",
    "@btime avx_add!($a)"
   ]
  },
  {
   "cell_type": "markdown",
   "metadata": {
    "slideshow": {
     "slide_type": "slide"
    }
   },
   "source": [
    "## Parallelisation"
   ]
  },
  {
   "cell_type": "markdown",
   "metadata": {
    "slideshow": {
     "slide_type": "subslide"
    }
   },
   "source": [
    "### Shared Memory"
   ]
  },
  {
   "cell_type": "code",
   "execution_count": 69,
   "metadata": {
    "scrolled": true,
    "slideshow": {
     "slide_type": "fragment"
    }
   },
   "outputs": [
    {
     "name": "stdout",
     "output_type": "stream",
     "text": [
      "16\n"
     ]
    },
    {
     "data": {
      "text/plain": [
       "threaded_add! (generic function with 1 method)"
      ]
     },
     "execution_count": 69,
     "metadata": {},
     "output_type": "execute_result"
    }
   ],
   "source": [
    "using Base.Threads   # import threading library\n",
    "println(nthreads())  # number of allocated threads\n",
    "\n",
    "function threaded_add!(a)\n",
    "    # add macro in front of loop\n",
    "    @threads for i = 1:length(a)\n",
    "        a[i] += 1.0\n",
    "    end\n",
    "end"
   ]
  },
  {
   "cell_type": "code",
   "execution_count": 70,
   "metadata": {
    "scrolled": true,
    "slideshow": {
     "slide_type": "fragment"
    }
   },
   "outputs": [
    {
     "name": "stdout",
     "output_type": "stream",
     "text": [
      "  7.200 μs (96 allocations: 10.39 KiB)\n"
     ]
    }
   ],
   "source": [
    "a = zeros(255)\n",
    "# this will be slow, as is doesn't make sense to distribute such a small array over threads\n",
    "@btime threaded_add!($a)"
   ]
  },
  {
   "cell_type": "markdown",
   "metadata": {
    "slideshow": {
     "slide_type": "subslide"
    }
   },
   "source": [
    "### Distributed Memory\n",
    "\n",
    "#### CC-NUMA"
   ]
  },
  {
   "cell_type": "markdown",
   "metadata": {
    "slideshow": {
     "slide_type": "fragment"
    }
   },
   "source": [
    "```julia\n",
    "\"\"\" Native Julia parallelisation \"\"\"\n",
    "using Distributed\n",
    "# allocate cores\n",
    "addprocs(32)\n",
    "```\n"
   ]
  },
  {
   "cell_type": "markdown",
   "metadata": {
    "slideshow": {
     "slide_type": "subslide"
    }
   },
   "source": [
    "#### Cluster"
   ]
  },
  {
   "cell_type": "markdown",
   "metadata": {
    "slideshow": {
     "slide_type": "fragment"
    }
   },
   "source": [
    "```julia\n",
    "\"\"\" Julia implementation with SLURM / PBS / etc. \"\"\"\n",
    "using Distributed, ClusterManagers\n",
    "addprocs_slurm(512)\n",
    "```\n"
   ]
  },
  {
   "cell_type": "markdown",
   "metadata": {
    "slideshow": {
     "slide_type": "fragment"
    }
   },
   "source": [
    "```julia\n",
    "\n",
    "\"\"\" MPI \"\"\"\n",
    "# MPI wrapper: https://github.com/JuliaParallel/MPI.jl\n",
    "using MPI\n",
    "\n",
    "MPI.Init()\n",
    "\n",
    "comm = MPI.COMM_WORLD\n",
    "print(\"Hello world, I am rank $(MPI.Comm_rank(comm)) of $(MPI.Comm_size(comm))\\n\")\n",
    "MPI.Barrier(comm)\n",
    "```\n"
   ]
  },
  {
   "cell_type": "markdown",
   "metadata": {
    "slideshow": {
     "slide_type": "subslide"
    }
   },
   "source": [
    "```julia\n",
    "\n",
    "\"\"\" Alternative native Julia implementation \"\"\"\n",
    "# in + out of core parallelisation\n",
    "using Distributed; addprocs(8) # get us some workers\n",
    "using Dagger                   # https://github.com/JuliaParallel/Dagger.jl\n",
    "\n",
    "# do some stuff in parallel!\n",
    "a = Dagger.@spawn 1+3\n",
    "b = Dagger.@spawn rand(a, 4)\n",
    "c = Dagger.@spawn sum(b)\n",
    "fetch(c) # some number!\n",
    "```"
   ]
  },
  {
   "cell_type": "markdown",
   "metadata": {
    "slideshow": {
     "slide_type": "slide"
    }
   },
   "source": [
    "## Relationship to Python\n",
    "\n",
    "### aka: \"I have all this uncommented Python Code from 2009, I can't just throw that away!\""
   ]
  },
  {
   "cell_type": "markdown",
   "metadata": {
    "slideshow": {
     "slide_type": "subslide"
    }
   },
   "source": [
    "## PyCall"
   ]
  },
  {
   "cell_type": "code",
   "execution_count": 71,
   "metadata": {
    "scrolled": true,
    "slideshow": {
     "slide_type": "fragment"
    }
   },
   "outputs": [
    {
     "data": {
      "text/plain": [
       "PyObject <module 'numpy' from 'C:\\\\Users\\\\ludwi\\\\.julia\\\\conda\\\\3\\\\lib\\\\site-packages\\\\numpy\\\\__init__.py'>"
      ]
     },
     "execution_count": 71,
     "metadata": {},
     "output_type": "execute_result"
    }
   ],
   "source": [
    "using PyCall\n",
    "# import any package by name\n",
    "np = pyimport(\"numpy\")"
   ]
  },
  {
   "cell_type": "code",
   "execution_count": 72,
   "metadata": {
    "slideshow": {
     "slide_type": "fragment"
    }
   },
   "outputs": [
    {
     "data": {
      "text/plain": [
       "true"
      ]
     },
     "execution_count": 72,
     "metadata": {},
     "output_type": "execute_result"
    }
   ],
   "source": [
    "# numpy       julia\n",
    "np.sqrt(2) == √(2)"
   ]
  },
  {
   "cell_type": "markdown",
   "metadata": {
    "slideshow": {
     "slide_type": "subslide"
    }
   },
   "source": [
    "### PyPlot"
   ]
  },
  {
   "cell_type": "code",
   "execution_count": 73,
   "metadata": {
    "slideshow": {
     "slide_type": "fragment"
    }
   },
   "outputs": [
    {
     "ename": "LoadError",
     "evalue": "ArgumentError: Package PyPlot not found in current path.\n- Run `import Pkg; Pkg.add(\"PyPlot\")` to install the PyPlot package.",
     "output_type": "error",
     "traceback": [
      "ArgumentError: Package PyPlot not found in current path.\n- Run `import Pkg; Pkg.add(\"PyPlot\")` to install the PyPlot package.",
      "",
      "Stacktrace:",
      " [1] macro expansion",
      "   @ .\\loading.jl:1163 [inlined]",
      " [2] macro expansion",
      "   @ .\\lock.jl:223 [inlined]",
      " [3] require(into::Module, mod::Symbol)",
      "   @ Base .\\loading.jl:1144",
      " [4] eval",
      "   @ .\\boot.jl:368 [inlined]",
      " [5] include_string(mapexpr::typeof(REPL.softscope), mod::Module, code::String, filename::String)",
      "   @ Base .\\loading.jl:1428"
     ]
    }
   ],
   "source": [
    "using PyPlot   # matplotlib wrapper for Julia\n",
    "\n",
    "# rcParams\n",
    "rc(\"font\", family = \"stixgeneral\")\n",
    "rc(\"mathtext\", fontset = \"stix\")\n",
    "\n",
    "fig = figure()\n",
    "\n",
    "subplot(1,1,1)\n",
    "    # get the current axis\n",
    "    ax = gca()\n",
    "\n",
    "    ax.set_xlim([0.0, 1.0])\n",
    "    ax.set_ylim([1.e-4, 1.0])\n",
    "    ax.set_yscale(\"log\")\n",
    "\n",
    "    xlabel(\"x\")\n",
    "    # L\"\" defines a LaTeX string\n",
    "    ylabel(L\"\\Sigma_\\odot\", fontsize=15)\n",
    "\n",
    "    scatter(rand(10), rand(10), label=\"example\")\n",
    "\n",
    "    legend(frameon=false, loc=\"lower right\")\n",
    "\n",
    "fig\n"
   ]
  },
  {
   "cell_type": "markdown",
   "metadata": {
    "slideshow": {
     "slide_type": "subslide"
    }
   },
   "source": [
    "## Astro-Libraries\n",
    "\n",
    "[JuliaAstro](https://github.com/orgs/JuliaAstro/repositories)\n",
    "\n",
    "Packages for Cosmology, Transits, WCS, CCD reduction, ..."
   ]
  },
  {
   "cell_type": "markdown",
   "metadata": {
    "slideshow": {
     "slide_type": "slide"
    }
   },
   "source": [
    "# What I dislike\n",
    "\n",
    "## Startup time due to JIT compile"
   ]
  },
  {
   "cell_type": "code",
   "execution_count": 74,
   "metadata": {
    "slideshow": {
     "slide_type": "subslide"
    }
   },
   "outputs": [
    {
     "name": "stderr",
     "output_type": "stream",
     "text": [
      "┌ Info: Precompiling CairoMakie [13f3f980-e62b-5c42-98c6-ff1f3baf88f0]\n",
      "└ @ Base loading.jl:1664\n"
     ]
    },
    {
     "name": "stdout",
     "output_type": "stream",
     "text": [
      " 90.317022 seconds (53.61 M allocations: 3.234 GiB, 1.69% gc time, 0.52% compilation time: 26% of which was recompilation)\n"
     ]
    }
   ],
   "source": [
    "@time using CairoMakie"
   ]
  },
  {
   "cell_type": "code",
   "execution_count": 75,
   "metadata": {
    "slideshow": {
     "slide_type": "subslide"
    }
   },
   "outputs": [
    {
     "data": {
      "image/png": "[encoded data removed]",
      "text/plain": [
       "Figure()"
      ]
     },
     "execution_count": 75,
     "metadata": {},
     "output_type": "execute_result"
    }
   ],
   "source": [
    "# time to first plot is LONG!\n",
    "fig = CairoMakie.Figure()\n",
    "Axis(fig[1, 1])\n",
    "\n",
    "density!(randn(200))\n",
    "fig"
   ]
  },
  {
   "cell_type": "code",
   "execution_count": 76,
   "metadata": {
    "scrolled": true,
    "slideshow": {
     "slide_type": "subslide"
    }
   },
   "outputs": [
    {
     "data": {
      "image/png": "[encoded data removed]",
      "text/plain": [
       "Figure()"
      ]
     },
     "execution_count": 76,
     "metadata": {},
     "output_type": "execute_result"
    }
   ],
   "source": [
    "# next plot is significantly faster\n",
    "\n",
    "months = [\"January\", \"February\", \"March\", \"April\",\n",
    "    \"May\", \"June\", \"July\", \"August\", \"September\",\n",
    "    \"October\", \"November\", \"December\"]\n",
    "\n",
    "fig = CairoMakie.Figure()\n",
    "Axis(fig[1, 1], title = \"Fictive temperatures\",\n",
    "    yticks = ((1:12) ./ 4,  reverse(months)))\n",
    "\n",
    "for i in 12:-1:1\n",
    "    d = density!(randn(250) .- 2sin((i+3)/6*pi), offset = i / 4,\n",
    "        color = :x, colormap = :thermal, colorrange = (-5, 5),\n",
    "        strokewidth = 1, strokecolor = :black)\n",
    "    # this helps with layering in GLMakie\n",
    "    translate!(d, 0, 0, -0.1i)\n",
    "end\n",
    "fig"
   ]
  },
  {
   "cell_type": "markdown",
   "metadata": {
    "slideshow": {
     "slide_type": "subslide"
    }
   },
   "source": [
    "## One Solution:\n",
    "\n",
    "Dynamically reload code with [Revise](https://timholy.github.io/Revise.jl/stable/).\n",
    "\n",
    "On the USM systems you need to add `export JULIA_REVISE_POLL=1` to your .bashrc!"
   ]
  },
  {
   "cell_type": "markdown",
   "metadata": {
    "slideshow": {
     "slide_type": "slide"
    }
   },
   "source": [
    "# Usage on USM systems"
   ]
  },
  {
   "cell_type": "markdown",
   "metadata": {
    "slideshow": {
     "slide_type": "fragment"
    }
   },
   "source": [
    "- Installing Julia\n",
    "    - Download latest release [here](https://julialang.org/downloads/)\n",
    "    - Unpack .tar file with `tar -xvf <filename>`\n",
    "    - Add these environment variables to your .bashrc:\n",
    "        - `export JULIA_REVISE_POLL=1`                           (this checks imported packages based on time, not edits)\n",
    "        - `export JULIA_NUM_THREADS=<Nthreads>`                  (number of threads Julia is allowed to use)\n",
    "        - `export JULIA_HOME=~/julia-1.7.1/bin`  (location of the Julia binary)\n",
    "        - `export PATH=$JULIA_HOME:$PATH`                        (add binary to path)\n",
    "        \n",
    "- Soon: juliaup\n",
    "    - Julia version manager [video](https://www.youtube.com/watch?v=rFlbjWC6zYA)"
   ]
  },
  {
   "cell_type": "markdown",
   "metadata": {
    "slideshow": {
     "slide_type": "subslide"
    }
   },
   "source": [
    "- Jupyter notebook:\n",
    "    - Install Julia\n",
    "    - Add package [IJulia](https://julialang.github.io/IJulia.jl/stable/manual/installation/)\n",
    "    - Open a notebook and select the julia kernel.\n",
    "    - Start coding!"
   ]
  },
  {
   "cell_type": "markdown",
   "metadata": {
    "slideshow": {
     "slide_type": "subslide"
    }
   },
   "source": [
    "- VSCode:\n",
    "    - Install Julia\n",
    "    - Add Julia [extension](https://www.julia-vscode.org/)\n",
    "    - Create a `.jl` file and write some code.\n",
    "    - Run individual lines with `shift+enter`"
   ]
  },
  {
   "cell_type": "markdown",
   "metadata": {
    "slideshow": {
     "slide_type": "subslide"
    }
   },
   "source": [
    "- REPL:\n",
    "    - Install Julia\n",
    "    - type `julia` in the terminal\n",
    "    - write code directly on the REPL, or: \n",
    "        - dynamically load code from a file with `using Revise; includet(\"path/to/file.jl\")`\n",
    "        - edit the file in an editor\n",
    "        - call the functions of the file from the REPL"
   ]
  },
  {
   "cell_type": "markdown",
   "metadata": {
    "slideshow": {
     "slide_type": "slide"
    }
   },
   "source": [
    "# Functional Programming\n",
    "\n",
    "## (OOP is dead, longe live OOP)"
   ]
  },
  {
   "cell_type": "markdown",
   "metadata": {
    "slideshow": {
     "slide_type": "subslide"
    }
   },
   "source": [
    "### Object-Oriented Programming (OOP)\n",
    "\n",
    "Define objects that hold specific data and methods that perform specific operations."
   ]
  },
  {
   "cell_type": "code",
   "execution_count": null,
   "metadata": {
    "slideshow": {
     "slide_type": "subslide"
    }
   },
   "outputs": [],
   "source": [
    "# simple Python example\n",
    "class Circle:\n",
    "\n",
    "    # data relevant for class\n",
    "    center = [0.0, 0.0]\n",
    "    radius = 0.0\n",
    "    # ...\n",
    "\n",
    "    # constructor of class\n",
    "    def __init__(center=[0.0, 0.0], radius=0.0):\n",
    "        self.center = center\n",
    "        self.radius = radius\n",
    "        # ...\n",
    "\n",
    "    # methods\n",
    "    def area(self):\n",
    "        return np.pi * self.radius**2\n",
    "\n",
    "    def center_plus5(self):\n",
    "        return self.center + 5"
   ]
  },
  {
   "cell_type": "code",
   "execution_count": null,
   "metadata": {
    "slideshow": {
     "slide_type": "subslide"
    }
   },
   "outputs": [],
   "source": [
    "# simple Python example\n",
    "class Square:\n",
    "\n",
    "    # data relevant for class\n",
    "    center = [0.0, 0.0]\n",
    "    side = 0.0\n",
    "    # ...\n",
    "\n",
    "    # constructor of class\n",
    "    def __init__(center=[0.0, 0.0], side=0.0):\n",
    "        self.center = center\n",
    "        self.side = side\n",
    "        # ...\n",
    "\n",
    "    # methods\n",
    "    def area(self):\n",
    "        return self.side**2\n",
    "\n",
    "    # re-implementation (if no logical inheritance possible)\n",
    "    def center_plus5(self):\n",
    "        return self.center + 5"
   ]
  },
  {
   "cell_type": "markdown",
   "metadata": {
    "slideshow": {
     "slide_type": "slide"
    }
   },
   "source": [
    "## Functional programming\n",
    "\n",
    "Define objects that (only!) hold data and functions that (only!) operate on data"
   ]
  },
  {
   "cell_type": "markdown",
   "metadata": {
    "slideshow": {
     "slide_type": "subslide"
    }
   },
   "source": [
    "### Data types"
   ]
  },
  {
   "cell_type": "code",
   "execution_count": null,
   "metadata": {
    "slideshow": {
     "slide_type": "fragment"
    }
   },
   "outputs": [],
   "source": [
    "# abstract type only for \"inheritance\"\n",
    "# -> type structure is based on set theory\n",
    "abstract type AbstractShape end"
   ]
  },
  {
   "cell_type": "code",
   "execution_count": null,
   "metadata": {
    "slideshow": {
     "slide_type": "fragment"
    }
   },
   "outputs": [],
   "source": [
    "# Circle as a subtype of AbstractShape\n",
    "# struct -> all data constant!\n",
    "struct Circle{T} <: AbstractShape\n",
    "    center::Vector{T}\n",
    "    radius::T\n",
    "end"
   ]
  },
  {
   "cell_type": "code",
   "execution_count": null,
   "metadata": {
    "slideshow": {
     "slide_type": "fragment"
    }
   },
   "outputs": [],
   "source": [
    "# initialize Circle with values (\"constructor\" implicit)\n",
    "circle = Circle([0.5, 1.0], 1.0)"
   ]
  },
  {
   "cell_type": "code",
   "execution_count": null,
   "metadata": {
    "slideshow": {
     "slide_type": "subslide"
    }
   },
   "outputs": [],
   "source": [
    "# Square as a subtype of AbstractShape\n",
    "struct Square{T} <: AbstractShape\n",
    "    center::Vector{T}\n",
    "    side::T\n",
    "end\n",
    " \n",
    "# \"constructor\" of datatype, only required for special initialisation\n",
    "function Square(center::Vector{T} = [0.0, 0.0],\n",
    "                side::T = 1.0) where T\n",
    "    \n",
    "    return Square{T}(center, side)\n",
    "end"
   ]
  },
  {
   "cell_type": "code",
   "execution_count": null,
   "metadata": {
    "slideshow": {
     "slide_type": "fragment"
    }
   },
   "outputs": [],
   "source": [
    "# initialize Circle with custom default behaviour\n",
    "square = Square()\n",
    "square.side"
   ]
  },
  {
   "cell_type": "code",
   "execution_count": null,
   "metadata": {
    "slideshow": {
     "slide_type": "subslide"
    }
   },
   "outputs": [],
   "source": [
    "# no default constructor!\n",
    "circle_default = Circle()"
   ]
  },
  {
   "cell_type": "code",
   "execution_count": null,
   "metadata": {
    "slideshow": {
     "slide_type": "subslide"
    }
   },
   "outputs": [],
   "source": [
    "# structs that can be modified\n",
    "mutable struct MutableSquare{T} <: AbstractShape\n",
    "    center::Vector{T}\n",
    "    side::T\n",
    "end"
   ]
  },
  {
   "cell_type": "code",
   "execution_count": null,
   "metadata": {
    "slideshow": {
     "slide_type": "fragment"
    }
   },
   "outputs": [],
   "source": [
    "# immutable square -> fields can't be edited\n",
    "i_square = Square()\n",
    "i_square.side = 2.0"
   ]
  },
  {
   "cell_type": "code",
   "execution_count": null,
   "metadata": {
    "slideshow": {
     "slide_type": "subslide"
    }
   },
   "outputs": [],
   "source": [
    "# mutable square -> fields can be edited\n",
    "m_square = MutableSquare([0.0, 0.0], 1.0)\n",
    "m_square.side = 2.0\n",
    "m_square.side"
   ]
  },
  {
   "cell_type": "markdown",
   "metadata": {
    "slideshow": {
     "slide_type": "slide"
    }
   },
   "source": [
    "## Functions\n",
    "\n",
    "### Multiple Dispatch"
   ]
  },
  {
   "cell_type": "code",
   "execution_count": null,
   "metadata": {
    "slideshow": {
     "slide_type": "fragment"
    }
   },
   "outputs": [],
   "source": [
    "# For Circle\n",
    "function area(circle::Circle)\n",
    "    π*circle.radius^2\n",
    "end\n",
    "area(circle)"
   ]
  },
  {
   "cell_type": "code",
   "execution_count": null,
   "metadata": {
    "slideshow": {
     "slide_type": "fragment"
    }
   },
   "outputs": [],
   "source": [
    "# for square\n",
    "function area(square::Square)\n",
    "    square.side^2\n",
    "end\n",
    "area(square)"
   ]
  },
  {
   "cell_type": "code",
   "execution_count": null,
   "metadata": {
    "slideshow": {
     "slide_type": "subslide"
    }
   },
   "outputs": [],
   "source": [
    "# for both\n",
    "function center_plus5(shape::AbstractShape)\n",
    "    # element-wise operation (helper macro)\n",
    "    @. shape.center + 5.0\n",
    "end\n",
    "\n",
    "println(\"circle: \", center_plus5(circle))\n",
    "println(\"square: \", center_plus5(square))"
   ]
  },
  {
   "cell_type": "markdown",
   "metadata": {
    "slideshow": {
     "slide_type": "subslide"
    }
   },
   "source": [
    "```julia\n",
    "struct Square{T} <: AbstractShape\n",
    "    center::Vector{T}\n",
    "    side::T\n",
    "end\n",
    "```"
   ]
  },
  {
   "cell_type": "code",
   "execution_count": null,
   "metadata": {
    "slideshow": {
     "slide_type": "fragment"
    }
   },
   "outputs": [],
   "source": [
    "# datatype T is arbitrary!\n",
    "# Example with units:\n",
    "using Unitful\n",
    "units_square = Square([0.0u\"cm\", 0.0u\"cm\"], 2.0u\"cm\")\n",
    "\n",
    "println(units_square.side)\n",
    "\n",
    "A = area(units_square)\n",
    "println(A)\n",
    "\n",
    "using UnitfulAstro      # for astronomy units\n",
    "A_kpc = A |> u\"kpc^2\"   # convert to kpc^2\n",
    "println(A_kpc)"
   ]
  },
  {
   "cell_type": "code",
   "execution_count": null,
   "metadata": {
    "scrolled": true
   },
   "outputs": [],
   "source": [
    "#using Pkg\n",
    "Pkg.add(\"PyCall\")"
   ]
  },
  {
   "cell_type": "code",
   "execution_count": null,
   "metadata": {},
   "outputs": [],
   "source": [
    "Pkg.status()"
   ]
  },
  {
   "cell_type": "code",
   "execution_count": null,
   "metadata": {},
   "outputs": [],
   "source": []
  }
 ],
 "metadata": {
  "celltoolbar": "Slideshow",
  "kernelspec": {
   "display_name": "Julia 1.8.2",
   "language": "julia",
   "name": "julia-1.8"
  },
  "language_info": {
   "file_extension": ".jl",
   "mimetype": "application/julia",
   "name": "julia",
   "version": "1.8.2"
  }
 },
 "nbformat": 4,
 "nbformat_minor": 2
}
