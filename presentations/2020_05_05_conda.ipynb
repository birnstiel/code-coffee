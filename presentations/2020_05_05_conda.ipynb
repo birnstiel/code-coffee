{
 "cells": [
  {
   "cell_type": "markdown",
   "metadata": {
    "slideshow": {
     "slide_type": "slide"
    }
   },
   "source": [
    "# Conda - or how to handle too many monkey fighting snakes on this Monday-to-Friday plane!"
   ]
  },
  {
   "cell_type": "markdown",
   "metadata": {
    "slideshow": {
     "slide_type": "slide"
    }
   },
   "source": [
    "## Why do I need a virtual environment?\n",
    "\n",
    "In principle, you can use the python version shipped with the system.\n",
    "\n",
    "Problems:\n",
    "\n",
    "- you have root rights and want to install a package which breaks the system\n",
    "- you do not have root rights and want to install a newer version or a special package\n",
    "- different projects need different versions of python/packages"
   ]
  },
  {
   "cell_type": "markdown",
   "metadata": {
    "slideshow": {
     "slide_type": "subslide"
    }
   },
   "source": [
    "## 1. Root rights\n",
    "\n",
    "`pip install numpy`\n",
    "\n",
    "Problems:\n",
    "\n",
    "- pip does not have true dependency resolution\n",
    "- pip could easily install a version or versions of dependencies which break your system\n",
    "- if the system is updated, your code can brake as packages may conflict\n",
    "- use system package manager"
   ]
  },
  {
   "cell_type": "markdown",
   "metadata": {
    "slideshow": {
     "slide_type": "subslide"
    }
   },
   "source": [
    "## 2. No root rights\n",
    "\n",
    "`pip install --user 'numpy>=1.13,<1.18'`\n",
    "\n",
    "Problems:\n",
    "\n",
    "- you have to set the path variables correctly (usually ./local)\n",
    "- if the system is updated, your code can brake as packages may conflict\n",
    "- only safe if you install your own python version"
   ]
  },
  {
   "cell_type": "markdown",
   "metadata": {
    "slideshow": {
     "slide_type": "subslide"
    }
   },
   "source": [
    "## 3. Working on different projects\n",
    "\n",
    "Problems:\n",
    "\n",
    "- you want to use code written for older python/package versions\n",
    "- you are working on several projects requiring different versions of a package\n",
    "- you want to share code with people who have different python/package versions installed\n"
   ]
  },
  {
   "cell_type": "markdown",
   "metadata": {
    "slideshow": {
     "slide_type": "slide"
    }
   },
   "source": [
    "## Solution: Virtual environments\n",
    "\n",
    "- directory with isolated, self-contained python installation\n",
    "- allows absolute control over packages and versions\n",
    "- easy switching between different environments\n",
    "- easy exporting/importing/sharing environments"
   ]
  },
  {
   "cell_type": "markdown",
   "metadata": {
    "slideshow": {
     "slide_type": "subslide"
    }
   },
   "source": [
    "A virtual environment creates an isolated python executable.\n",
    "\n",
    "Once activated it sets the environment folder to the beginning of `$PATH`.\n",
    "\n",
    "The activate virtual environment is indicated in the command line as:\n",
    "\n",
    "`(environmentname) user@machine`\n",
    "\n",
    "If python is executed then it looks for packages in the local folder."
   ]
  },
  {
   "cell_type": "markdown",
   "metadata": {
    "slideshow": {
     "slide_type": "slide"
    }
   },
   "source": [
    "## Option A: virtualenv\n",
    "\n",
    "https://virtualenv.pypa.io\n",
    "\n",
    "To install virtualenv use\n",
    "\n",
    "```pip install virtualenv```\n",
    "\n",
    "Create a folder with a new environment using the according python interpreter\n",
    "\n",
    "```virtualenv <dirname>```\n",
    "\n",
    "However, the python interpreter can be specified with\n",
    "\n",
    "```virtualenv -p <absolute-path-to-python> <dirname>```\n",
    "\n",
    "Virtualenv can use the packages which are already installed and will symlink them with the option\n",
    "\n",
    "```virtualenv --system-site-packages <dirname>```"
   ]
  },
  {
   "cell_type": "markdown",
   "metadata": {
    "slideshow": {
     "slide_type": "subslide"
    }
   },
   "source": [
    "To activate a virtualenv environment execute\n",
    "\n",
    "```source <dirname>\\bin\\activate```\n",
    "\n",
    "Additional packages are installed via pip into the new environment folder.\n",
    "\n",
    "To deactivate the environment just execute\n",
    "\n",
    "```deactivate```"
   ]
  },
  {
   "cell_type": "markdown",
   "metadata": {
    "slideshow": {
     "slide_type": "subslide"
    }
   },
   "source": [
    "You can export the environment packages with\n",
    "\n",
    "`pip freeze > requirements.txt`\n",
    "\n",
    "and then import them on in a different environment/machine with\n",
    "\n",
    "`pip install -r path/to/requirements.txt`"
   ]
  },
  {
   "cell_type": "markdown",
   "metadata": {
    "slideshow": {
     "slide_type": "subslide"
    }
   },
   "source": [
    "Python has this functionality built in since 3.3, first as pyvenv which was replaced by venv after 3.6.\n",
    "\n",
    "https://docs.python.org/3/library/venv.html\n",
    "\n",
    "Advantages of venv:\n",
    "- already shipped with python\n",
    "- does not need to hard copy python executable\n",
    "\n",
    "Disadvantages:\n",
    "- cannot create environments for arbitrarily installed python versions"
   ]
  },
  {
   "cell_type": "markdown",
   "metadata": {
    "slideshow": {
     "slide_type": "slide"
    }
   },
   "source": [
    "## Option B: pipenv\n",
    "\n",
    "https://pypi.org/project/pipenv/\n",
    "\n",
    "pipenv was developed in order to have a streamlined and improved version of virtualenv but has not been updated since 2018!\n",
    "\n",
    "Install it via\n",
    "\n",
    "`pip install pipenv`\n",
    "\n",
    "Create an environment in your project folder \n",
    "\n",
    "`pipenv install`\n",
    "\n",
    "This creates a `Pipfile`, a `Pipfile.lock` and an environment stored in `.local`\n",
    "\n",
    "Activate your environment with\n",
    "\n",
    "`pipenv shell`"
   ]
  },
  {
   "cell_type": "markdown",
   "metadata": {
    "slideshow": {
     "slide_type": "subslide"
    }
   },
   "source": [
    "### 1. Combines the functionality of pip and virtualenv\n",
    "\n",
    "new environments are created via\n",
    "\n",
    "`pipenv install`\n",
    "\n",
    "packages are installed via\n",
    "\n",
    "`pipenv install <package>`"
   ]
  },
  {
   "cell_type": "markdown",
   "metadata": {
    "slideshow": {
     "slide_type": "subslide"
    }
   },
   "source": [
    "### 2. Environments are stored in a central place\n",
    "\n",
    "Your system is not cluttered by environment folders which are forgotten over time but are all stored in\n",
    "\n",
    "`~/.local/share/virtualenvs/<hashed name>`"
   ]
  },
  {
   "cell_type": "markdown",
   "metadata": {
    "slideshow": {
     "slide_type": "subslide"
    }
   },
   "source": [
    "### 3. Uses Pipfile for dependecy resolution\n",
    "\n",
    "`pip freeze > requirements.txt`\n",
    "\n",
    "stores strict version numbers of packages and dependencies in plain text file. However, often only a range of versions of a dependency is needed.\n",
    "\n",
    "Pipfile serves as a way to share used packages, resolves versions and can check for security updates of packages.\n",
    "\n",
    "- Pipfile is automatically updated as soon as you install new packages. You can also use the `--dev` flag for packages you only need for development\n",
    "- Pipfile.lock is used for sharing a version definite version of the Pipfile and can be updated via `pipenv lock`\n",
    "\n",
    "Creating an environment in a folder automatically locates existing Pipfiles and installs the necessary packages."
   ]
  },
  {
   "cell_type": "markdown",
   "metadata": {
    "slideshow": {
     "slide_type": "slide"
    }
   },
   "source": [
    "## Option C: conda\n",
    "\n",
    "https://docs.conda.io/en/latest/index.html\n",
    "\n",
    "Conda has additional benefits to pipenv:\n",
    "\n",
    "- cross platform\n",
    "- language agnostic\n",
    "- access to additional packages from Anaconda repositories\n",
    "\n",
    "Installation is done via a script from the official website."
   ]
  },
  {
   "cell_type": "markdown",
   "metadata": {
    "slideshow": {
     "slide_type": "subslide"
    }
   },
   "source": [
    "Conda was developed as part of the Anaconda distribution of python/R\n",
    "\n",
    "https://www.anaconda.com/products/individual\n",
    "    \n",
    "which is a 1500 package heavy 5gb installation.\n",
    "\n",
    "Conda is now developed separately and can be installed without any packages as miniconda\n",
    "\n",
    "https://docs.conda.io/en/latest/miniconda.html\n",
    "\n",
    "Conda looks for packages in the default Anaconda channels (compared to PyPI for pip). But additional channels can be added (e.g. [conda-forge](https://conda-forge.org/)).\n",
    "\n",
    "Anaconda also comes with a GUI, Anaconda navigator which also can be installed via conda\n",
    "\n",
    "![](https://www.anaconda.com/imager/assets/Products/Product-Screenshots/5736/navigator-screenshot_680db6b6f11f9cc710dd7defae241cd3.png)"
   ]
  },
  {
   "cell_type": "markdown",
   "metadata": {
    "slideshow": {
     "slide_type": "subslide"
    }
   },
   "source": [
    "## Creating environments\n",
    "\n",
    "To create an empty environment use\n",
    "\n",
    "`conda create --name myenv` or `conda create -n myenv`\n",
    "\n",
    "Or directly create a minimal python environment via\n",
    "\n",
    "`conda create --name myenv python`\n",
    "\n",
    "which uses the python version installed in the base environment.\n",
    "\n",
    "You can also specify the version with\n",
    "\n",
    "`conda create --name myenv python=3.5`\n",
    "\n",
    "List all installed environments\n",
    "\n",
    "`conda env list`\n",
    "\n",
    "Remove an environment with\n",
    "\n",
    "`conda env remove --name myenv`"
   ]
  },
  {
   "cell_type": "markdown",
   "metadata": {
    "slideshow": {
     "slide_type": "subslide"
    }
   },
   "source": [
    "The standard save location is within your miniconda installation\n",
    "\n",
    "`~/miniconda/envs/` or `~/miniconda3/envs/`\n",
    " \n",
    "However, you can install it to any directory with\n",
    " \n",
    "`conda create --prefix /path/to/venv` or `conda create -p /path/to/venv`\n",
    "\n",
    "Be aware, to activate special directories you will have to provide the full path which is also displayed in the command line promt. (Latter can be fixed by editing `.condarc`)"
   ]
  },
  {
   "cell_type": "markdown",
   "metadata": {
    "slideshow": {
     "slide_type": "subslide"
    }
   },
   "source": [
    "## Activating environments\n",
    "\n",
    "Activate an environment with its name via\n",
    "\n",
    "`conda activate myenv`\n",
    "\n",
    "The active environment is listed with an asterisk in `conda env list`.\n",
    "\n",
    "Deactivate an environment with\n",
    "\n",
    "`conda deactivate`\n",
    "\n",
    "Be aware, that the default behavior of conda is to allow access to all global packages. You can completely isolate your environment by using\n",
    "\n",
    "`export PYTHONNOUSERSITE=True`\n",
    "\n",
    "before activation."
   ]
  },
  {
   "cell_type": "markdown",
   "metadata": {
    "slideshow": {
     "slide_type": "subslide"
    }
   },
   "source": [
    "## Installing packages\n",
    "\n",
    "\n",
    "\n",
    "Once activated, you can now install new packages or specific versions into the environment via\n",
    "\n",
    "`conda install scipy` or `conda install scipy=0.15.0`\n",
    "\n",
    "List all installed packages with\n",
    "\n",
    "`conda list`\n",
    "\n",
    "and remove packages with\n",
    "\n",
    "`conda remove scipy`\n",
    "\n",
    "You can search for packages in Anaconda or other channels\n",
    "\n",
    "`conda search --channel conda-forge <packagename>`\n",
    "\n",
    "Conda also installs pip in every python environment and also is aware of pip installed packages (the channel is indicated by `conda list`). But do not use the `--user` argument and be aware that pip can brake your environment!\n",
    "\n",
    "Conda also keeps a history of your changes which you can list with\n",
    "\n",
    "`conda list --revisions` or `conda list -rev`\n",
    "\n",
    "To go back to a specific revision, get the revision number from the list and run\n",
    "\n",
    "`conda install --rev REVNUM`"
   ]
  },
  {
   "cell_type": "markdown",
   "metadata": {
    "slideshow": {
     "slide_type": "subslide"
    }
   },
   "source": [
    "## Updating packages\n",
    "\n",
    "To update all packages to newest possible version use\n",
    "\n",
    "`conda update --all`\n",
    "\n",
    "or a specific package with\n",
    "\n",
    "`conda update python`\n",
    "\n",
    "Conda will resolve dependency conflicts and usually warns very explicitly if they occur.\n",
    "\n",
    "Dependencies for a package can be displayed with\n",
    "\n",
    "`conda info <package_name>`\n",
    "\n",
    "It is recommended to update/install all packages at once so that all dependencies can be resolved at the same time, e.g.\n",
    "\n",
    "`conda install scipy curl`\n",
    "\n",
    "However, you can also force a package to stay at a specific version by adding a file named `pinned` to the `conda-meta` directory with the package name and version."
   ]
  },
  {
   "cell_type": "markdown",
   "metadata": {
    "slideshow": {
     "slide_type": "subslide"
    }
   },
   "source": [
    "## Cloning and exporting\n",
    "\n",
    "You can clone environments via\n",
    "\n",
    "`conda create --name myclone --clone myenv`\n",
    "\n",
    "To export all packages and dependencies to a file use\n",
    "\n",
    "`conda env export > environment.yml`\n",
    "\n",
    "Recreate the environment by using\n",
    "\n",
    "`conda env create -f environment.yml`\n",
    "\n",
    "For cross-platform compatibility it is recommended to use\n",
    "\n",
    "`conda env export --from-history > environment.yml`\n",
    "\n",
    "which only exports the main installed packages as dependencies could vary across platforms."
   ]
  },
  {
   "cell_type": "markdown",
   "metadata": {
    "slideshow": {
     "slide_type": "slide"
    }
   },
   "source": [
    "## Bonus: Using a virtual environement as a jupyter notebook kernel\n",
    "\n",
    "Install `ipykernel` in the virtual environment\n",
    "\n",
    "`conda install ipykernel`\n",
    "\n",
    "then run\n",
    "\n",
    "`python -m ipykernel install --user --name=myenv`\n",
    "\n",
    "Now jupyter notebook should display the new kernel.\n",
    "\n",
    "Remove it with\n",
    "\n",
    "`jupyter kernelspec uninstall myenv`"
   ]
  }
 ],
 "metadata": {
  "celltoolbar": "Slideshow",
  "kernelspec": {
   "display_name": "Python 3",
   "language": "python",
   "name": "python3"
  },
  "language_info": {
   "codemirror_mode": {
    "name": "ipython",
    "version": 3
   },
   "file_extension": ".py",
   "mimetype": "text/x-python",
   "name": "python",
   "nbconvert_exporter": "python",
   "pygments_lexer": "ipython3",
   "version": "3.5.2"
  }
 },
 "nbformat": 4,
 "nbformat_minor": 2
}
