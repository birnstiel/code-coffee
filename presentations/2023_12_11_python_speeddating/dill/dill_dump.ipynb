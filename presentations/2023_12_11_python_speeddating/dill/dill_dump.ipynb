{
 "cells": [
  {
   "cell_type": "markdown",
   "id": "ce93bac2-5ba3-4890-8b1d-3831d77f7066",
   "metadata": {},
   "source": [
    "## Dill / Pickle"
   ]
  },
  {
   "cell_type": "code",
   "execution_count": null,
   "id": "4c5d1995-e01b-409f-b5ee-4b5bc561d352",
   "metadata": {},
   "outputs": [],
   "source": [
    "from dustpy import Simulation"
   ]
  },
  {
   "cell_type": "code",
   "execution_count": null,
   "id": "eb0e1926-c3c2-4ff2-88ec-9eb7892a7820",
   "metadata": {},
   "outputs": [],
   "source": [
    "s = Simulation()\n",
    "s.initialize()"
   ]
  },
  {
   "cell_type": "code",
   "execution_count": null,
   "id": "0bca2f0f-c3f3-41c4-b7cd-de656baf0c59",
   "metadata": {},
   "outputs": [],
   "source": [
    "s.toc"
   ]
  },
  {
   "cell_type": "code",
   "execution_count": null,
   "id": "6f5d71d2-4a43-433c-a34f-0a21d6b6b9e6",
   "metadata": {},
   "outputs": [],
   "source": [
    "s.gas.Sigma"
   ]
  },
  {
   "cell_type": "code",
   "execution_count": null,
   "id": "978e75bc-f03d-46e7-a82f-0dae63fb2539",
   "metadata": {},
   "outputs": [],
   "source": [
    "import dill as pickle"
   ]
  },
  {
   "cell_type": "code",
   "execution_count": null,
   "id": "c8e52b45-f8dc-4214-a7a7-59b3c1d8f5fc",
   "metadata": {},
   "outputs": [],
   "source": [
    "with open(\"dump.file\", \"wb\") as file:\n",
    "    pickle.dump(s, file)"
   ]
  }
 ],
 "metadata": {
  "kernelspec": {
   "display_name": "ml",
   "language": "python",
   "name": "ml"
  },
  "language_info": {
   "codemirror_mode": {
    "name": "ipython",
    "version": 3
   },
   "file_extension": ".py",
   "mimetype": "text/x-python",
   "name": "python",
   "nbconvert_exporter": "python",
   "pygments_lexer": "ipython3",
   "version": "3.10.8"
  }
 },
 "nbformat": 4,
 "nbformat_minor": 5
}
