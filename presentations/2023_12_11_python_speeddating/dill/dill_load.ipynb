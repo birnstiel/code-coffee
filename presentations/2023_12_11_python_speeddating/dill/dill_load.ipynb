{
 "cells": [
  {
   "cell_type": "markdown",
   "id": "b9ae04c3-cb7e-4bf3-94b2-4347acf14779",
   "metadata": {},
   "source": [
    "## Dill / Pickle"
   ]
  },
  {
   "cell_type": "code",
   "execution_count": null,
   "id": "66fffadd-4c15-4a25-9b8c-6d5572d7d8c2",
   "metadata": {},
   "outputs": [],
   "source": [
    "import dill"
   ]
  },
  {
   "cell_type": "code",
   "execution_count": null,
   "id": "4d02d612-f1ed-49fe-8e80-2420519ff0f8",
   "metadata": {},
   "outputs": [],
   "source": [
    "with open(\"dump.file\", \"rb\") as file:\n",
    "    s = dill.load(file)"
   ]
  },
  {
   "cell_type": "code",
   "execution_count": null,
   "id": "92737ec9-3bff-4603-be47-83eb63afff5e",
   "metadata": {},
   "outputs": [],
   "source": [
    "s.toc"
   ]
  },
  {
   "cell_type": "code",
   "execution_count": null,
   "id": "31260ddc-a066-4bf6-9090-f920d1417432",
   "metadata": {},
   "outputs": [],
   "source": [
    "s.gas.Sigma"
   ]
  }
 ],
 "metadata": {
  "kernelspec": {
   "display_name": "ml",
   "language": "python",
   "name": "ml"
  },
  "language_info": {
   "codemirror_mode": {
    "name": "ipython",
    "version": 3
   },
   "file_extension": ".py",
   "mimetype": "text/x-python",
   "name": "python",
   "nbconvert_exporter": "python",
   "pygments_lexer": "ipython3",
   "version": "3.10.8"
  }
 },
 "nbformat": 4,
 "nbformat_minor": 5
}
