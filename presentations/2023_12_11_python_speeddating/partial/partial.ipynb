{
 "cells": [
  {
   "cell_type": "markdown",
   "id": "1db229cc-481b-4142-85b0-aeaac46de1db",
   "metadata": {},
   "source": [
    "# functools.partial"
   ]
  },
  {
   "cell_type": "code",
   "execution_count": null,
   "id": "1125c4f5-3641-4ab7-9883-b1052612460d",
   "metadata": {},
   "outputs": [],
   "source": [
    "def func(i, prefix=\"\"):\n",
    "    return f\"{prefix}{i}\""
   ]
  },
  {
   "cell_type": "code",
   "execution_count": null,
   "id": "ca40b41b-bb67-475f-bfa0-7f31b63733a5",
   "metadata": {},
   "outputs": [],
   "source": [
    "func(3)"
   ]
  },
  {
   "cell_type": "code",
   "execution_count": null,
   "id": "e6283d76-197d-45b0-8a2d-8cd0b0962ecc",
   "metadata": {},
   "outputs": [],
   "source": [
    "func(3, prefix=\"dummy\")"
   ]
  },
  {
   "cell_type": "code",
   "execution_count": null,
   "id": "687f6d48-4029-4ca3-905a-31ab75fbb233",
   "metadata": {},
   "outputs": [],
   "source": [
    "from functools import partial"
   ]
  },
  {
   "cell_type": "code",
   "execution_count": null,
   "id": "106ab8d0-16b2-4108-9410-afda44cdacc3",
   "metadata": {},
   "outputs": [],
   "source": [
    "f = partial(func, prefix=\"dummy\")"
   ]
  },
  {
   "cell_type": "code",
   "execution_count": null,
   "id": "3654e914-0727-41de-b0bc-be6ae10736ab",
   "metadata": {},
   "outputs": [],
   "source": [
    "f(3)"
   ]
  },
  {
   "cell_type": "code",
   "execution_count": null,
   "id": "15c02e9c-aa00-4107-b121-714d87c3a977",
   "metadata": {},
   "outputs": [],
   "source": [
    "from multiprocessing import Pool\n",
    "import numpy as np"
   ]
  },
  {
   "cell_type": "code",
   "execution_count": null,
   "id": "c0c39c49-30ef-4f5e-add0-9134316cbfcc",
   "metadata": {},
   "outputs": [],
   "source": [
    "with Pool(4) as pool:\n",
    "    res = pool.map(f, np.arange(12))"
   ]
  },
  {
   "cell_type": "code",
   "execution_count": null,
   "id": "73d9ade2-e91c-48fa-b03d-bb018830afcf",
   "metadata": {},
   "outputs": [],
   "source": [
    "res"
   ]
  }
 ],
 "metadata": {
  "kernelspec": {
   "display_name": "ml",
   "language": "python",
   "name": "ml"
  },
  "language_info": {
   "codemirror_mode": {
    "name": "ipython",
    "version": 3
   },
   "file_extension": ".py",
   "mimetype": "text/x-python",
   "name": "python",
   "nbconvert_exporter": "python",
   "pygments_lexer": "ipython3",
   "version": "3.10.8"
  }
 },
 "nbformat": 4,
 "nbformat_minor": 5
}
