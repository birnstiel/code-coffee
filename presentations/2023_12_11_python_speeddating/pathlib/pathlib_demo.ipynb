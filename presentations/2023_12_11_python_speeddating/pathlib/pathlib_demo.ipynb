{
 "cells": [
  {
   "cell_type": "markdown",
   "source": [
    "# Pathlib\n",
    "[https://docs.python.org/3/library/pathlib.html](https://docs.python.org/3/library/pathlib.html)"
   ],
   "metadata": {
    "collapsed": false
   },
   "id": "3d6177ed03b04a39"
  },
  {
   "cell_type": "code",
   "execution_count": 1,
   "id": "initial_id",
   "metadata": {
    "collapsed": true,
    "ExecuteTime": {
     "end_time": "2023-12-11T11:16:55.257069205Z",
     "start_time": "2023-12-11T11:16:55.125782911Z"
    }
   },
   "outputs": [],
   "source": [
    "from pathlib import Path"
   ]
  },
  {
   "cell_type": "code",
   "execution_count": 2,
   "outputs": [],
   "source": [
    "def create_project_structure():\n",
    "    # Directories to be created\n",
    "    folders = [\n",
    "        Path('project') / 'main' / 'submain1' / 'submain2',\n",
    "        Path('project') / 'tests'\n",
    "    ]\n",
    "\n",
    "    files = [\n",
    "        Path('project') / 'main' / 'file1.py',\n",
    "        Path('project') / 'main' / 'file2.py',\n",
    "        Path('project') / 'main' / 'submain1' / 'file5.py',\n",
    "        Path('project') / 'main' / 'submain1' / 'submain2' / 'file6.py',\n",
    "        Path('project') / 'tests' / 'test1.py',\n",
    "        Path('project') / 'tests' / 'test2.py',\n",
    "    ]\n",
    "\n",
    "    # Create directories\n",
    "    for folder in folders:\n",
    "        folder.mkdir(parents=True, exist_ok=True)\n",
    "\n",
    "    # Create files\n",
    "    for file in files:\n",
    "        file.touch(mode=0o776, exist_ok=True)\n",
    "\n",
    "\n",
    "create_project_structure()"
   ],
   "metadata": {
    "collapsed": false,
    "ExecuteTime": {
     "end_time": "2023-12-11T11:16:55.257402470Z",
     "start_time": "2023-12-11T11:16:55.126071262Z"
    }
   },
   "id": "952d9a66945f297"
  },
  {
   "cell_type": "markdown",
   "source": [
    "## Defining Paths"
   ],
   "metadata": {
    "collapsed": false
   },
   "id": "54387fd193ff101e"
  },
  {
   "cell_type": "code",
   "execution_count": 3,
   "outputs": [],
   "source": [
    "# pathlib works on Windows and Unix systems\n",
    "project_dir = Path('project')  # Needs relative or absolute path"
   ],
   "metadata": {
    "collapsed": false,
    "ExecuteTime": {
     "end_time": "2023-12-11T11:16:55.257548925Z",
     "start_time": "2023-12-11T11:16:55.126187139Z"
    }
   },
   "id": "170ce273a7033a77"
  },
  {
   "cell_type": "markdown",
   "source": [
    "## Simple Path Operations"
   ],
   "metadata": {
    "collapsed": false
   },
   "id": "b3bc3a776fd65de4"
  },
  {
   "cell_type": "code",
   "execution_count": 4,
   "outputs": [
    {
     "name": "stdout",
     "output_type": "stream",
     "text": [
      "project\n",
      "/home/malte/Wolke/Studium/9_Semester/CodeCoffe/project\n",
      ".\n",
      "True\n",
      "False\n",
      "True\n"
     ]
    }
   ],
   "source": [
    "print(project_dir)  # Relative path\n",
    "print(project_dir.absolute())  # Absolute path\n",
    "print(project_dir.parent)  # Parent directory\n",
    "print(project_dir.exists())  # Check if path exists\n",
    "print(project_dir.is_file())  # Check if path is a file\n",
    "print(project_dir.is_dir())  # Check if path is a directory"
   ],
   "metadata": {
    "collapsed": false,
    "ExecuteTime": {
     "end_time": "2023-12-11T11:16:55.257893833Z",
     "start_time": "2023-12-11T11:16:55.126270125Z"
    }
   },
   "id": "a97dee6caf70d1ff"
  },
  {
   "cell_type": "code",
   "execution_count": 5,
   "outputs": [
    {
     "data": {
      "text/plain": "PosixPath('project/main')"
     },
     "execution_count": 5,
     "metadata": {},
     "output_type": "execute_result"
    }
   ],
   "source": [
    "# Join paths with / (independent of OS)\n",
    "project_dir / 'main'"
   ],
   "metadata": {
    "collapsed": false,
    "ExecuteTime": {
     "end_time": "2023-12-11T11:16:55.273113263Z",
     "start_time": "2023-12-11T11:16:55.133353868Z"
    }
   },
   "id": "fe8eb17ed17d21cd"
  },
  {
   "cell_type": "code",
   "execution_count": 6,
   "outputs": [
    {
     "data": {
      "text/plain": "PosixPath('/etc')"
     },
     "execution_count": 6,
     "metadata": {},
     "output_type": "execute_result"
    }
   ],
   "source": [
    "# Joining with absolute path returns absolute path\n",
    "project_dir / '/etc'"
   ],
   "metadata": {
    "collapsed": false,
    "ExecuteTime": {
     "end_time": "2023-12-11T11:16:55.273496533Z",
     "start_time": "2023-12-11T11:16:55.140469251Z"
    }
   },
   "id": "e83149537f995edb"
  },
  {
   "cell_type": "markdown",
   "source": [
    "## Directory Operations"
   ],
   "metadata": {
    "collapsed": false
   },
   "id": "80a1e19fd7440d06"
  },
  {
   "cell_type": "code",
   "execution_count": 7,
   "outputs": [
    {
     "name": "stdout",
     "output_type": "stream",
     "text": [
      "main is a directory\n"
     ]
    }
   ],
   "source": [
    "if (project_dir / 'main').is_dir():\n",
    "    print('main is a directory')\n",
    "else:\n",
    "    print('main is not a directory')"
   ],
   "metadata": {
    "collapsed": false,
    "ExecuteTime": {
     "end_time": "2023-12-11T11:16:55.273759236Z",
     "start_time": "2023-12-11T11:16:55.145722981Z"
    }
   },
   "id": "18e9c70284165e38"
  },
  {
   "cell_type": "code",
   "execution_count": 8,
   "outputs": [
    {
     "name": "stdout",
     "output_type": "stream",
     "text": [
      "test is a directory\n"
     ]
    }
   ],
   "source": [
    "if (project_dir / 'test').is_dir():\n",
    "    print('test is a directory')\n",
    "    (\n",
    "            project_dir / 'test').rmdir()  # Remove directory, must be empty (removing non-empty directory raises error and is not possible with pathlib)\n",
    "else:\n",
    "    print('test is not a directory')\n",
    "    (project_dir / 'test').mkdir(parents=True,\n",
    "                                 exist_ok=True)  # Optionally, create parent directories and don't raise error if directory already exists"
   ],
   "metadata": {
    "collapsed": false,
    "ExecuteTime": {
     "end_time": "2023-12-11T11:16:55.273983557Z",
     "start_time": "2023-12-11T11:16:55.150730357Z"
    }
   },
   "id": "ced514d45936b1c4"
  },
  {
   "cell_type": "code",
   "execution_count": 9,
   "outputs": [
    {
     "name": "stdout",
     "output_type": "stream",
     "text": [
      "project/main\n",
      "project/tests\n"
     ]
    }
   ],
   "source": [
    "for dir in project_dir.iterdir():\n",
    "    print(dir)"
   ],
   "metadata": {
    "collapsed": false,
    "ExecuteTime": {
     "end_time": "2023-12-11T11:16:55.274375963Z",
     "start_time": "2023-12-11T11:16:55.154917205Z"
    }
   },
   "id": "31eb7ae1a07fa5ee"
  },
  {
   "cell_type": "markdown",
   "source": [
    "## Globbing"
   ],
   "metadata": {
    "collapsed": false
   },
   "id": "3fb0ac3928dd06ae"
  },
  {
   "cell_type": "code",
   "execution_count": 10,
   "outputs": [
    {
     "data": {
      "text/plain": "<generator object Path.glob at 0x7f32e84ba460>"
     },
     "execution_count": 10,
     "metadata": {},
     "output_type": "execute_result"
    }
   ],
   "source": [
    "project_dir.glob('pattern')"
   ],
   "metadata": {
    "collapsed": false,
    "ExecuteTime": {
     "end_time": "2023-12-11T11:16:55.274696014Z",
     "start_time": "2023-12-11T11:16:55.186766203Z"
    }
   },
   "id": "15d0c9f1c6db9998"
  },
  {
   "cell_type": "code",
   "execution_count": 11,
   "outputs": [
    {
     "data": {
      "text/plain": "[PosixPath('project/main'), PosixPath('project/tests')]"
     },
     "execution_count": 11,
     "metadata": {},
     "output_type": "execute_result"
    }
   ],
   "source": [
    "# Make list of all matches\n",
    "list(project_dir.glob('*'))"
   ],
   "metadata": {
    "collapsed": false,
    "ExecuteTime": {
     "end_time": "2023-12-11T11:16:55.274928941Z",
     "start_time": "2023-12-11T11:16:55.186968483Z"
    }
   },
   "id": "7c5f05a40d252d03"
  },
  {
   "cell_type": "code",
   "execution_count": 12,
   "outputs": [
    {
     "name": "stdout",
     "output_type": "stream",
     "text": [
      "project/tests\n"
     ]
    }
   ],
   "source": [
    "# Iterate over matches\n",
    "for match in project_dir.glob('test*'):\n",
    "    print(match)"
   ],
   "metadata": {
    "collapsed": false,
    "ExecuteTime": {
     "end_time": "2023-12-11T11:16:55.275219536Z",
     "start_time": "2023-12-11T11:16:55.187093928Z"
    }
   },
   "id": "e5762f563c364973"
  },
  {
   "cell_type": "code",
   "execution_count": 13,
   "outputs": [
    {
     "name": "stdout",
     "output_type": "stream",
     "text": [
      "project/main/file1.py\n",
      "project/main/file2.py\n",
      "project/main/submain1/file5.py\n",
      "project/main/submain1/submain2/file6.py\n",
      "project/tests/test1.py\n",
      "project/tests/test2.py\n"
     ]
    }
   ],
   "source": [
    "# Recursive globbing\n",
    "for file in project_dir.rglob('*.py'):\n",
    "    print(file)"
   ],
   "metadata": {
    "collapsed": false,
    "ExecuteTime": {
     "end_time": "2023-12-11T11:16:55.275549676Z",
     "start_time": "2023-12-11T11:16:55.187208914Z"
    }
   },
   "id": "4348e5585fabcacb"
  },
  {
   "cell_type": "markdown",
   "source": [
    "## File Operations"
   ],
   "metadata": {
    "collapsed": false
   },
   "id": "1823885128305fb6"
  },
  {
   "cell_type": "code",
   "execution_count": 14,
   "outputs": [
    {
     "name": "stdout",
     "output_type": "stream",
     "text": [
      "[PosixPath('project/../test.txt')]\n"
     ]
    }
   ],
   "source": [
    "text_files = list((project_dir / '..').glob('*.txt'))\n",
    "print(text_files)"
   ],
   "metadata": {
    "collapsed": false,
    "ExecuteTime": {
     "end_time": "2023-12-11T11:16:55.275867562Z",
     "start_time": "2023-12-11T11:16:55.187409680Z"
    }
   },
   "id": "ad92308f35b8e989"
  },
  {
   "cell_type": "code",
   "execution_count": 15,
   "outputs": [
    {
     "name": "stdout",
     "output_type": "stream",
     "text": [
      "project/../test.txt\n"
     ]
    }
   ],
   "source": [
    "test_file = text_files[0]\n",
    "print(test_file)"
   ],
   "metadata": {
    "collapsed": false,
    "ExecuteTime": {
     "end_time": "2023-12-11T11:16:55.276258496Z",
     "start_time": "2023-12-11T11:16:55.191809638Z"
    }
   },
   "id": "c0ac4a8819bcf13d"
  },
  {
   "cell_type": "code",
   "execution_count": 16,
   "outputs": [
    {
     "name": "stdout",
     "output_type": "stream",
     "text": [
      "project/../test.txt\n",
      "project/..\n",
      "/home/malte/Wolke/Studium/9_Semester/CodeCoffe/project/../test.txt\n",
      "/home/malte/Wolke/Studium/9_Semester/CodeCoffe/test.txt\n",
      "test.txt\n",
      "test\n",
      ".txt\n"
     ]
    }
   ],
   "source": [
    "print(test_file)  # Relative path\n",
    "print(test_file.parent)  # Parent directory\n",
    "print(test_file.absolute())  # Absolute path\n",
    "print(test_file.resolve())  # Resolves symlinks and . and .. (returns absolute path)\n",
    "print(test_file.name)  # Name of the file with extension\n",
    "print(test_file.stem)  # File name without extension\n",
    "print(test_file.suffix)  # File extension"
   ],
   "metadata": {
    "collapsed": false,
    "ExecuteTime": {
     "end_time": "2023-12-11T11:16:55.278028868Z",
     "start_time": "2023-12-11T11:16:55.197491851Z"
    }
   },
   "id": "edfa42e8a2c45321"
  },
  {
   "cell_type": "code",
   "execution_count": 17,
   "outputs": [
    {
     "name": "stdout",
     "output_type": "stream",
     "text": [
      "We're no strangers to love\n",
      "You know the rules and so do I (do I)\n",
      "A full commitment's what I'm thinking of\n",
      "You wouldn't get this from any other guy\n",
      "\n",
      "I just wanna tell you how I'm feeling\n",
      "Gotta make you understand\n",
      "\n",
      "Never gonna give you up\n",
      "Never gonna let you down\n",
      "Never gonna run around and desert you\n",
      "Never gonna make you cry\n",
      "Never gonna say goodbye\n",
      "Never gonna tell a lie and hurt you\n",
      "\n",
      "We've known each other for so long\n",
      "Your heart's been aching, but you're too shy to say it (say it)\n",
      "Inside, we both know what's been going on (going on)\n",
      "We know the game and we're gonna play it\n",
      "\n",
      "And if you ask me how I'm feeling\n",
      "Don't tell me you're too blind to see\n",
      "\n",
      "Never gonna give you up\n",
      "Never gonna let you down\n",
      "Never gonna run around and desert you\n",
      "Never gonna make you cry\n",
      "Never gonna say goodbye\n",
      "Never gonna tell a lie and hurt you\n",
      "\n",
      "Never gonna give you up\n",
      "Never gonna let you down\n",
      "Never gonna run around and desert you\n",
      "Never gonna make you cry\n",
      "Never gonna say goodbye\n",
      "Never gonna tell a lie and hurt you\n",
      "\n",
      "(Ooh, give you up)\n",
      "(Ooh, give you up)\n",
      "(Ooh) Never gonna give, never gonna give (give you up)\n",
      "(Ooh) Never gonna give, never gonna give (give you up)\n",
      "\n",
      "We've known each other for so long\n",
      "Your heart's been aching, but you're too shy to say it (to say it)\n",
      "Inside, we both know what's been going on (going on)\n",
      "We know the game and we're gonna play it\n",
      "\n",
      "I just wanna tell you how I'm feeling\n",
      "Gotta make you understand\n",
      "\n",
      "Never gonna give you up\n",
      "Never gonna let you down\n",
      "Never gonna run around and desert you\n",
      "Never gonna make you cry\n",
      "Never gonna say goodbye\n",
      "Never gonna tell a lie and hurt you\n",
      "\n",
      "Never gonna give you up\n",
      "Never gonna let you down\n",
      "Never gonna run around and desert you\n",
      "Never gonna make you cry\n",
      "Never gonna say goodbye\n",
      "Never gonna tell a lie and hurt you\n",
      "\n",
      "Never gonna give you up\n",
      "Never gonna let you down\n",
      "Never gonna run around and desert you\n",
      "Never gonna make you cry\n",
      "Never gonna say goodbye\n",
      "Never gonna tell a lie and hurt you\n"
     ]
    }
   ],
   "source": [
    "if test_file.is_file():\n",
    "    with test_file.open('r') as f:\n",
    "        # with open(test_file, 'r') as f:\n",
    "        print(f.read())"
   ],
   "metadata": {
    "collapsed": false,
    "ExecuteTime": {
     "end_time": "2023-12-11T11:16:55.279991221Z",
     "start_time": "2023-12-11T11:16:55.219196202Z"
    }
   },
   "id": "42013c5b8450015d"
  },
  {
   "cell_type": "code",
   "execution_count": 18,
   "outputs": [
    {
     "name": "stdout",
     "output_type": "stream",
     "text": [
      "project/other_test.txt.bak\n",
      "other_test.txt.bak\n",
      "other_test.txt\n",
      ".bak\n"
     ]
    }
   ],
   "source": [
    "# Can only handle one file extension \n",
    "other_test_file = project_dir / 'other_test.txt.bak'\n",
    "print(other_test_file)\n",
    "print(other_test_file.name)  # Includes all extensions\n",
    "print(other_test_file.stem)  # Includes first extension\n",
    "print(other_test_file.suffix)  # Only last extension"
   ],
   "metadata": {
    "collapsed": false,
    "ExecuteTime": {
     "end_time": "2023-12-11T11:16:55.280320910Z",
     "start_time": "2023-12-11T11:16:55.219435882Z"
    }
   },
   "id": "d39587c39cff0143"
  },
  {
   "cell_type": "code",
   "execution_count": 19,
   "outputs": [
    {
     "name": "stdout",
     "output_type": "stream",
     "text": [
      "project/../new_test.txt\n",
      "project/../new_test.txt\n",
      "project/../test.md\n"
     ]
    }
   ],
   "source": [
    "print(test_file.with_name('new_test.txt'))  # Same path with new file name\n",
    "print(test_file.with_stem('new_test'))  # Same path with new stem\n",
    "print(test_file.with_suffix('.md'))  # Same path with new suffix"
   ],
   "metadata": {
    "collapsed": false,
    "ExecuteTime": {
     "end_time": "2023-12-11T11:16:55.280535102Z",
     "start_time": "2023-12-11T11:16:55.219579852Z"
    }
   },
   "id": "ac75e636b1a43374"
  },
  {
   "cell_type": "code",
   "execution_count": 20,
   "outputs": [
    {
     "data": {
      "text/plain": "PosixPath('/home/malte')"
     },
     "execution_count": 20,
     "metadata": {},
     "output_type": "execute_result"
    }
   ],
   "source": [
    "# Can resolve ~ for home directory (not sure if this works on Windows)\n",
    "Path('~').expanduser()"
   ],
   "metadata": {
    "collapsed": false,
    "ExecuteTime": {
     "end_time": "2023-12-11T11:16:55.280775453Z",
     "start_time": "2023-12-11T11:16:55.219715797Z"
    }
   },
   "id": "93f0370802cab234"
  },
  {
   "cell_type": "code",
   "execution_count": 21,
   "outputs": [
    {
     "name": "stdout",
     "output_type": "stream",
     "text": [
      "/home/malte/Wolke/Studium/9_Semester/CodeCoffe/$HOME\n",
      "$HOME\n"
     ]
    }
   ],
   "source": [
    "# Can't resolve environment variables\n",
    "print(Path('$HOME').resolve())\n",
    "print(Path('$HOME').expanduser())"
   ],
   "metadata": {
    "collapsed": false,
    "ExecuteTime": {
     "end_time": "2023-12-11T11:16:55.281058664Z",
     "start_time": "2023-12-11T11:16:55.223219482Z"
    }
   },
   "id": "2ccfb75c20f40cea"
  }
 ],
 "metadata": {
  "kernelspec": {
   "display_name": "Python 3",
   "language": "python",
   "name": "python3"
  },
  "language_info": {
   "codemirror_mode": {
    "name": "ipython",
    "version": 2
   },
   "file_extension": ".py",
   "mimetype": "text/x-python",
   "name": "python",
   "nbconvert_exporter": "python",
   "pygments_lexer": "ipython2",
   "version": "2.7.6"
  }
 },
 "nbformat": 4,
 "nbformat_minor": 5
}
