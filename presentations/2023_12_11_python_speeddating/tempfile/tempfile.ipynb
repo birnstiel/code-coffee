{
 "cells": [
  {
   "cell_type": "markdown",
   "id": "857c8dd2-3ad5-47ce-942d-50b06a3f255a",
   "metadata": {},
   "source": [
    "# Tempfile"
   ]
  },
  {
   "cell_type": "markdown",
   "id": "b516aa23-a8a8-482e-8e1d-0f721561a495",
   "metadata": {},
   "source": [
    "## Temporary directory"
   ]
  },
  {
   "cell_type": "code",
   "execution_count": null,
   "id": "2502d835-314d-4bd3-ba34-3319f8081deb",
   "metadata": {},
   "outputs": [],
   "source": [
    "import tempfile"
   ]
  },
  {
   "cell_type": "code",
   "execution_count": null,
   "id": "4150503e-6253-454d-adec-bc80ed5a53bc",
   "metadata": {},
   "outputs": [],
   "source": [
    "tmpdir = tempfile.mkdtemp()"
   ]
  },
  {
   "cell_type": "code",
   "execution_count": null,
   "id": "a83794f2-4c28-4e31-80f9-a14f11206a46",
   "metadata": {},
   "outputs": [],
   "source": [
    "tmpdir"
   ]
  },
  {
   "cell_type": "code",
   "execution_count": null,
   "id": "56bdf4ab-c58f-4f5f-9a97-4b17e874d092",
   "metadata": {},
   "outputs": [],
   "source": [
    "import shutil"
   ]
  },
  {
   "cell_type": "code",
   "execution_count": null,
   "id": "190d8bbe-f458-4bbc-be6d-8735675462dc",
   "metadata": {},
   "outputs": [],
   "source": [
    "shutil.rmtree(tmpdir)"
   ]
  },
  {
   "cell_type": "code",
   "execution_count": null,
   "id": "d65e30ab-7012-4f1c-8512-5d82b21a6d91",
   "metadata": {},
   "outputs": [],
   "source": [
    "with tempfile.TemporaryDirectory() as tmpdir:\n",
    "    print(tmpdir)"
   ]
  },
  {
   "cell_type": "markdown",
   "id": "677253de-8704-4a39-b850-e1e4cf93bd09",
   "metadata": {},
   "source": [
    "## Temporary file"
   ]
  },
  {
   "cell_type": "code",
   "execution_count": null,
   "id": "7ce363c0-a351-44dd-bf61-a5e6e2fb5787",
   "metadata": {},
   "outputs": [],
   "source": [
    "with tempfile.TemporaryFile() as tmpfile:\n",
    "    tmpfile.write(b\"Hello world!\")\n",
    "    tmpfile.seek(0)\n",
    "    txt = tmpfile.read()"
   ]
  },
  {
   "cell_type": "code",
   "execution_count": null,
   "id": "2ef7c178-ada6-4e69-b257-19a1f7824107",
   "metadata": {},
   "outputs": [],
   "source": [
    "txt"
   ]
  }
 ],
 "metadata": {
  "kernelspec": {
   "display_name": "ml",
   "language": "python",
   "name": "ml"
  },
  "language_info": {
   "codemirror_mode": {
    "name": "ipython",
    "version": 3
   },
   "file_extension": ".py",
   "mimetype": "text/x-python",
   "name": "python",
   "nbconvert_exporter": "python",
   "pygments_lexer": "ipython3",
   "version": "3.10.8"
  }
 },
 "nbformat": 4,
 "nbformat_minor": 5
}
