{
 "cells": [
  {
   "cell_type": "markdown",
   "id": "92b1b88b-6270-4aea-88a4-1c2fe049ce5c",
   "metadata": {
    "editable": true,
    "slideshow": {
     "slide_type": "slide"
    },
    "tags": []
   },
   "source": [
    "# tqdm"
   ]
  },
  {
   "cell_type": "markdown",
   "id": "c32849a4-f4cc-40f8-989f-734379820b43",
   "metadata": {
    "editable": true,
    "slideshow": {
     "slide_type": ""
    },
    "tags": []
   },
   "source": [
    "There are different front ends, I basically always use the one from `auto` which works in both the notebook and the terminal."
   ]
  },
  {
   "cell_type": "code",
   "execution_count": null,
   "id": "6a1f218f-6018-49fc-af0e-4f04b7d03483",
   "metadata": {
    "editable": true,
    "slideshow": {
     "slide_type": ""
    },
    "tags": []
   },
   "outputs": [],
   "source": [
    "from tqdm.auto import tqdm\n",
    "import time"
   ]
  },
  {
   "cell_type": "markdown",
   "id": "421ba953-7aa8-448e-869d-30063285e111",
   "metadata": {
    "editable": true,
    "slideshow": {
     "slide_type": "subslide"
    },
    "tags": []
   },
   "source": [
    "Loop that doesn't tell you how far along it is"
   ]
  },
  {
   "cell_type": "code",
   "execution_count": null,
   "id": "e82a3af9-3667-4ab0-ac12-92259b9901ce",
   "metadata": {
    "editable": true,
    "slideshow": {
     "slide_type": ""
    },
    "tags": []
   },
   "outputs": [],
   "source": [
    "for i in range(50):\n",
    "    time.sleep(0.1)"
   ]
  },
  {
   "cell_type": "markdown",
   "id": "f2fc6127-ebaa-480f-8c99-07014eeeb064",
   "metadata": {
    "editable": true,
    "slideshow": {
     "slide_type": "subslide"
    },
    "tags": []
   },
   "source": [
    "Fixed! Only add `tqdm(...)` around your iterable"
   ]
  },
  {
   "cell_type": "code",
   "execution_count": null,
   "id": "22475b46-3a14-4e88-a083-67d9e8b20b47",
   "metadata": {
    "editable": true,
    "slideshow": {
     "slide_type": ""
    },
    "tags": []
   },
   "outputs": [],
   "source": [
    "for i in tqdm(range(50)):    \n",
    "    time.sleep(0.1)"
   ]
  },
  {
   "cell_type": "code",
   "execution_count": null,
   "id": "b7497ff2-3db6-4bfb-895e-0d283e6b97ed",
   "metadata": {
    "editable": true,
    "slideshow": {
     "slide_type": ""
    },
    "tags": []
   },
   "outputs": [],
   "source": [
    "for i in tqdm(range(50)):\n",
    "    if i > 10: break\n",
    "    time.sleep(0.1)"
   ]
  },
  {
   "cell_type": "markdown",
   "id": "7cb82632-10d7-40cf-9bb3-54613a219ac4",
   "metadata": {
    "editable": true,
    "slideshow": {
     "slide_type": "subslide"
    },
    "tags": []
   },
   "source": [
    "This is what it looks like on the terminal, here I also set the name of the loop to \"progress\""
   ]
  },
  {
   "cell_type": "code",
   "execution_count": null,
   "id": "d93fbf36-4d70-4dcc-85cf-d4d86346c3ad",
   "metadata": {
    "editable": true,
    "slideshow": {
     "slide_type": ""
    },
    "tags": []
   },
   "outputs": [],
   "source": [
    "%%file tqdm_demo.py\n",
    "from tqdm.auto import tqdm\n",
    "import time\n",
    "for i in tqdm(range(50), desc='progress'):\n",
    "    time.sleep(0.1)"
   ]
  },
  {
   "cell_type": "markdown",
   "id": "3809d676-8bdd-4931-9b29-50e621f5fb6b",
   "metadata": {
    "editable": true,
    "slideshow": {
     "slide_type": "slide"
    },
    "tags": []
   },
   "source": [
    "# Other options\n",
    "We can also wrap it around `enumerate`, but then it doesn't know  the length"
   ]
  },
  {
   "cell_type": "code",
   "execution_count": null,
   "id": "211a858d-5b53-4d98-96a7-77968a342d5e",
   "metadata": {
    "editable": true,
    "slideshow": {
     "slide_type": ""
    },
    "tags": []
   },
   "outputs": [],
   "source": [
    "for i,l in tqdm(enumerate(['a', 'b', 'c', 'd'])):\n",
    "    time.sleep(0.5)"
   ]
  },
  {
   "cell_type": "markdown",
   "id": "35e99ff4-a446-4c1b-92cd-eb1bc3d131a0",
   "metadata": {
    "editable": true,
    "slideshow": {
     "slide_type": "subslide"
    },
    "tags": []
   },
   "source": [
    "... so we have to tell it to get a proper progress bar."
   ]
  },
  {
   "cell_type": "code",
   "execution_count": null,
   "id": "18ccbcfc-906c-4396-a67c-050349767f40",
   "metadata": {},
   "outputs": [],
   "source": [
    "for i,l in tqdm(enumerate(['a', 'b', 'c', 'd']), total=4):\n",
    "    time.sleep(0.5)"
   ]
  },
  {
   "cell_type": "markdown",
   "id": "b62109be-3bca-4c09-acd9-f6b9d591dd70",
   "metadata": {
    "editable": true,
    "slideshow": {
     "slide_type": "subslide"
    },
    "tags": []
   },
   "source": [
    "... or in this case switch the order:"
   ]
  },
  {
   "cell_type": "code",
   "execution_count": null,
   "id": "70133516-ada3-480a-a7eb-4598f9b47baf",
   "metadata": {
    "editable": true,
    "slideshow": {
     "slide_type": ""
    },
    "tags": []
   },
   "outputs": [],
   "source": [
    "for i,l in enumerate(tqdm(['a', 'b', 'c', 'd'])):\n",
    "    time.sleep(0.5)"
   ]
  },
  {
   "cell_type": "markdown",
   "id": "2a4473d6-0304-469c-ad69-df7e5ae5d6ab",
   "metadata": {
    "editable": true,
    "slideshow": {
     "slide_type": "subslide"
    },
    "tags": []
   },
   "source": [
    "Nested loops also work: top one is the outer one, the others the inner loops"
   ]
  },
  {
   "cell_type": "code",
   "execution_count": null,
   "id": "03890fe2-42a3-4afc-a065-a5bc579fee6d",
   "metadata": {},
   "outputs": [],
   "source": [
    "for i in tqdm(range(5), desc='outer loop'):\n",
    "    for j in tqdm(range(5), desc=f'inner loop #{i+1}'):\n",
    "        time.sleep(0.2)"
   ]
  },
  {
   "cell_type": "markdown",
   "id": "4bb0a8b8-ef4f-417f-8269-8a82414150f2",
   "metadata": {
    "editable": true,
    "slideshow": {
     "slide_type": ""
    },
    "tags": []
   },
   "source": [
    "But it might be nicer to have this show still just two bars, one for the outer, one for the inner one. Add keyword `leave=False` for the inner one."
   ]
  },
  {
   "cell_type": "code",
   "execution_count": null,
   "id": "ca88a2be-ea0f-4d7f-9979-34aa10c71d3a",
   "metadata": {},
   "outputs": [],
   "source": [
    "for i in tqdm(range(10), desc='outer loop'):\n",
    "    for j in tqdm(range(10), desc='inner loop', leave=False):\n",
    "        time.sleep(0.05)"
   ]
  }
 ],
 "metadata": {
  "kernelspec": {
   "display_name": "Python 3 (ipykernel)",
   "language": "python",
   "name": "python3"
  },
  "language_info": {
   "codemirror_mode": {
    "name": "ipython",
    "version": 3
   },
   "file_extension": ".py",
   "mimetype": "text/x-python",
   "name": "python",
   "nbconvert_exporter": "python",
   "pygments_lexer": "ipython3",
   "version": "3.10.12"
  }
 },
 "nbformat": 4,
 "nbformat_minor": 5
}
