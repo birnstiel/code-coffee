{
 "cells": [
  {
   "cell_type": "markdown",
   "metadata": {},
   "source": [
    "# Processing PDFs using Python"
   ]
  },
  {
   "cell_type": "markdown",
   "metadata": {},
   "source": [
    "# Imports"
   ]
  },
  {
   "cell_type": "code",
   "execution_count": null,
   "metadata": {},
   "outputs": [],
   "source": [
    "import re"
   ]
  },
  {
   "cell_type": "markdown",
   "metadata": {},
   "source": [
    "main package used here:"
   ]
  },
  {
   "cell_type": "code",
   "execution_count": null,
   "metadata": {},
   "outputs": [],
   "source": [
    "import PyPDF2"
   ]
  },
  {
   "cell_type": "markdown",
   "metadata": {},
   "source": [
    "alternatives to get pdf text"
   ]
  },
  {
   "cell_type": "code",
   "execution_count": null,
   "metadata": {},
   "outputs": [],
   "source": [
    "import textract\n",
    "import tika"
   ]
  },
  {
   "cell_type": "markdown",
   "metadata": {},
   "source": [
    "# Read PDFs"
   ]
  },
  {
   "cell_type": "code",
   "execution_count": null,
   "metadata": {},
   "outputs": [],
   "source": [
    "file = 'lorem_ipsum.pdf'"
   ]
  },
  {
   "cell_type": "markdown",
   "metadata": {},
   "source": [
    "## Get file info"
   ]
  },
  {
   "cell_type": "code",
   "execution_count": null,
   "metadata": {},
   "outputs": [],
   "source": [
    "with open(file, 'rb') as fid:\n",
    "    pdf = PyPDF2.PdfReader(fid)\n",
    "    info = pdf.metadata\n",
    "    n_pages = len(pdf.pages)\n",
    "\n",
    "    print(f\"\"\"\n",
    "        filename: {str(file)},\n",
    "        author:   {info.author},\n",
    "        creator:  {info.creator},\n",
    "        producer: {info.producer},\n",
    "        subject:  {info.subject},\n",
    "        title:    {info.title},\n",
    "        pages:    {n_pages}\"\"\")"
   ]
  },
  {
   "cell_type": "markdown",
   "metadata": {},
   "source": [
    "## Read text"
   ]
  },
  {
   "cell_type": "markdown",
   "metadata": {},
   "source": [
    "read the contents of the file and display the first 20 lines"
   ]
  },
  {
   "cell_type": "markdown",
   "metadata": {},
   "source": [
    "### Using `PyPDF2`"
   ]
  },
  {
   "cell_type": "code",
   "execution_count": null,
   "metadata": {},
   "outputs": [],
   "source": [
    "text = ''\n",
    "with open(file, 'rb') as pdfFileObject:\n",
    "    reader = PyPDF2.PdfReader(pdfFileObject)\n",
    "    count = len(reader.pages)\n",
    "    for i in range(count):\n",
    "        page = reader.pages[i]\n",
    "        text += page.extract_text()"
   ]
  },
  {
   "cell_type": "markdown",
   "metadata": {},
   "source": [
    "### Using `tika`\n",
    "\n",
    "This needs some time to start up the first time"
   ]
  },
  {
   "cell_type": "code",
   "execution_count": null,
   "metadata": {},
   "outputs": [],
   "source": [
    "from tika import parser\n",
    "raw = parser.from_file(str(file))\n",
    "text = raw['content']"
   ]
  },
  {
   "cell_type": "markdown",
   "metadata": {},
   "source": [
    "### Using `textract`"
   ]
  },
  {
   "cell_type": "code",
   "execution_count": null,
   "metadata": {},
   "outputs": [],
   "source": [
    "import textract\n",
    "text = textract.process(str(file)).decode()"
   ]
  },
  {
   "cell_type": "markdown",
   "metadata": {},
   "source": [
    "### Printing it"
   ]
  },
  {
   "cell_type": "code",
   "execution_count": null,
   "metadata": {},
   "outputs": [],
   "source": [
    "text = re.sub(r'\\n\\s*\\n', '\\n\\n', text)\n",
    "print(text)"
   ]
  },
  {
   "cell_type": "markdown",
   "metadata": {},
   "source": [
    "## Word count"
   ]
  },
  {
   "cell_type": "code",
   "execution_count": null,
   "metadata": {},
   "outputs": [],
   "source": [
    "print(f\"\"\"words: {len(text.split())}\n",
    "characters: {len(''.join(text.split()))}\"\"\")"
   ]
  },
  {
   "cell_type": "markdown",
   "metadata": {},
   "source": [
    "# Edit PDFs"
   ]
  },
  {
   "cell_type": "markdown",
   "metadata": {},
   "source": [
    "## Split PDF"
   ]
  },
  {
   "cell_type": "code",
   "execution_count": null,
   "metadata": {},
   "outputs": [],
   "source": [
    "pdf_reader = PyPDF2.PdfReader(str(file))\n",
    "pdf_writer = PyPDF2.PdfWriter()\n",
    "\n",
    "for page in [1]:\n",
    "    pdf_writer.add_page(pdf_reader.pages[page])\n",
    "\n",
    "with open('output.pdf', 'wb') as output_pdf:\n",
    "    pdf_writer.write(output_pdf)"
   ]
  },
  {
   "cell_type": "code",
   "execution_count": null,
   "metadata": {},
   "outputs": [],
   "source": [
    "!open output.pdf"
   ]
  },
  {
   "cell_type": "markdown",
   "metadata": {},
   "source": [
    "## Write on PDF"
   ]
  },
  {
   "cell_type": "markdown",
   "metadata": {},
   "source": [
    "slightly more involved. Here's a function that might work for you"
   ]
  },
  {
   "cell_type": "code",
   "execution_count": null,
   "metadata": {},
   "outputs": [],
   "source": [
    "def overwrite_PDF(inputfile, outputfile, x, y, text, fontsize=14, color=(0, 0, 0), angle=0):\n",
    "    \"\"\"Writes text on a pdf.\n",
    "\n",
    "    Arguments:\n",
    "    ----------\n",
    "    inputfile : str \n",
    "        path of the existing PDF on which we write\n",
    "\n",
    "    outputfile : str\n",
    "    \n",
    "        path/name of the output file into which we write\n",
    "\n",
    "    x, y : int\n",
    "        position on the PDF page  in cm\n",
    "\n",
    "    text : str\n",
    "\n",
    "    fontsize : int\n",
    "        font size in pt\n",
    "\n",
    "    color : tuple\n",
    "        rgb tuple on a 0 ... 1 scale for each value\n",
    "\n",
    "    angle : float\n",
    "        rotate text by this many degree\n",
    "\n",
    "    \"\"\"\n",
    "    from reportlab.pdfgen import canvas\n",
    "    from reportlab.lib.pagesizes import A4\n",
    "    from reportlab.lib.units import cm\n",
    "    import io\n",
    "\n",
    "    packet = io.BytesIO()\n",
    "\n",
    "    # create a new PDF with Reportlab\n",
    "\n",
    "    can = canvas.Canvas(packet, pagesize=A4)\n",
    "    can.setFont(\"Helvetica\", fontsize)\n",
    "    can.setFillColorRGB(*color)\n",
    "\n",
    "    can.saveState()\n",
    "    can.translate(x * cm, y * cm)\n",
    "    can.rotate(angle)\n",
    "    can.drawCentredString(0, 0, text)\n",
    "    can.restoreState()\n",
    "    can.save()\n",
    "\n",
    "    # move to the beginning of the StringIO buffer\n",
    "    packet.seek(0)\n",
    "    new_pdf = PyPDF2.PdfReader(packet)\n",
    "\n",
    "    # read your existing PDF\n",
    "    existing_pdf = PyPDF2.PdfReader(open(inputfile, \"rb\"))\n",
    "    output = PyPDF2.PdfWriter()\n",
    "    # add the \"watermark\" (which is the new pdf) on the existing page\n",
    "    page = existing_pdf.pages[0]\n",
    "    page.merge_page(new_pdf.pages[0])\n",
    "    output.add_page(page)\n",
    "    # finally, write \"output\" to a real file\n",
    "    outputStream = open(outputfile, \"wb\")\n",
    "    output.write(outputStream)\n",
    "    outputStream.close()"
   ]
  },
  {
   "cell_type": "code",
   "execution_count": null,
   "metadata": {},
   "outputs": [],
   "source": [
    "overwrite_PDF('output.pdf', 'output_stamped.pdf', 10, 16, 'COPY', fontsize=50, color=(0.9, 0, 0), angle=45)\n",
    "!open output_stamped.pdf"
   ]
  },
  {
   "cell_type": "markdown",
   "metadata": {},
   "source": [
    "## Merge PDFs"
   ]
  },
  {
   "cell_type": "code",
   "execution_count": null,
   "metadata": {},
   "outputs": [],
   "source": [
    "files = ['output.pdf', 'output_stamped.pdf']"
   ]
  },
  {
   "cell_type": "code",
   "execution_count": null,
   "metadata": {},
   "outputs": [],
   "source": [
    "pdf_writer = PyPDF2.PdfWriter()\n",
    "\n",
    "for file in files:\n",
    "    pdf = PyPDF2.PdfReader(str(file))\n",
    "    n_pages = len(pdf.pages)\n",
    "\n",
    "    for page in pdf.pages:\n",
    "        pdf_writer.add_page(page)\n",
    "\n",
    "with open('output_merged.pdf', 'wb') as output_pdf:\n",
    "    pdf_writer.write(output_pdf)"
   ]
  },
  {
   "cell_type": "code",
   "execution_count": null,
   "metadata": {},
   "outputs": [],
   "source": [
    "!open output_merged.pdf"
   ]
  }
 ],
 "metadata": {
  "kernelspec": {
   "display_name": "Python 3 (ipykernel)",
   "language": "python",
   "name": "python3"
  },
  "language_info": {
   "codemirror_mode": {
    "name": "ipython",
    "version": 3
   },
   "file_extension": ".py",
   "mimetype": "text/x-python",
   "name": "python",
   "nbconvert_exporter": "python",
   "pygments_lexer": "ipython3",
   "version": "3.10.12"
  }
 },
 "nbformat": 4,
 "nbformat_minor": 4
}
