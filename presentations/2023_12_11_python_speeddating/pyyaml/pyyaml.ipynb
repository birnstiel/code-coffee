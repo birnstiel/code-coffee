{
 "cells": [
  {
   "cell_type": "markdown",
   "id": "9e4edc0c-6ccf-4c3e-95b0-b116468cc983",
   "metadata": {},
   "source": [
    "## PyYAML"
   ]
  },
  {
   "cell_type": "code",
   "execution_count": null,
   "id": "8ddfbb3e-0941-4c93-8ae7-0cd4e73eca24",
   "metadata": {},
   "outputs": [],
   "source": [
    "import yaml"
   ]
  },
  {
   "cell_type": "code",
   "execution_count": null,
   "id": "37fe4f1e-89eb-4e2c-9cba-6a7a51b16295",
   "metadata": {},
   "outputs": [],
   "source": [
    "with open(\"file.yaml\", \"r\") as file:\n",
    "    yamlfile = yaml.safe_load(file)"
   ]
  },
  {
   "cell_type": "code",
   "execution_count": null,
   "id": "3e9defcd-7e1a-4aa9-ab60-6aa048c43edd",
   "metadata": {},
   "outputs": [],
   "source": [
    "yamlfile[\"dictionary\"]"
   ]
  },
  {
   "cell_type": "code",
   "execution_count": null,
   "id": "66e1f999-2180-4eb6-b9a3-80dd58da0ee4",
   "metadata": {},
   "outputs": [],
   "source": [
    "yamlfile[\"list\"]"
   ]
  }
 ],
 "metadata": {
  "kernelspec": {
   "display_name": "ml",
   "language": "python",
   "name": "ml"
  },
  "language_info": {
   "codemirror_mode": {
    "name": "ipython",
    "version": 3
   },
   "file_extension": ".py",
   "mimetype": "text/x-python",
   "name": "python",
   "nbconvert_exporter": "python",
   "pygments_lexer": "ipython3",
   "version": "3.10.8"
  }
 },
 "nbformat": 4,
 "nbformat_minor": 5
}
