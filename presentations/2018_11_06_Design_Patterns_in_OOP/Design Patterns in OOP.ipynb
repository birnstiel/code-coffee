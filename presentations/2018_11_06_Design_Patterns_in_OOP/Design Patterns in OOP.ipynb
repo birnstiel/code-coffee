{
 "cells": [
  {
   "cell_type": "code",
   "execution_count": 1,
   "metadata": {},
   "outputs": [],
   "source": [
    "#include <assert.h>\n",
    "#include <list>\n",
    "#include <iostream>\n",
    "using namespace std;"
   ]
  },
  {
   "cell_type": "markdown",
   "metadata": {},
   "source": [
    "# Design Patterns in OOP\n",
    "<img style=\"float: right;\" src=\"./GOF.jpg\" width=\"400\">\n",
    "\n",
    "Design patterns are commonly used code structures used in designing and writing computer code.  Although patterns can apply to a wide range of coding paradigms and size scales (e.g. individual functions up to the entire code design), in this talk I'll concentrate on patterns for object-oriented programming.\n",
    "\n",
    "The book ‘Design Patterns’ is the classic reference on this topic.  No need to buy this book, since their ideas (and subsequent developments in the last 25 years) are available online : \n",
    "- https://en.wikipedia.org/wiki/Software_design_pattern\n",
    "- https://sourcemaking.com/design_patterns\n",
    "- https://refactoring.guru/design-patterns\n",
    "- http://gameprogrammingpatterns.com/contents.html"
   ]
  },
  {
   "cell_type": "markdown",
   "metadata": {},
   "source": [
    "# What is Object-Oriented Programming??\n",
    "Object oriented programming is a programming paradigm where code units are modeled as if they were physical entities with physical properties (i.e. variables that define their properties) and can do things (i.e. their functions/methods). \n",
    "- A __class__ is the code definition of an object\n",
    "- An __instance of a class__ is called an __object__\n",
    "- You can create many instances of an class, i.e. many objects of the same type\n",
    "  - e.g. in an SPH code, each particle could be an object (with class 'SphParticle')\n",
    "  - in a grid code, each cell could be an object (with class 'Cell')\n",
    "  - in a game, each enemy soldier or bullet you shoot or coin you collect could be an object"
   ]
  },
  {
   "cell_type": "markdown",
   "metadata": {},
   "source": [
    "# Inheritance\n",
    "Inheritance is a simple way of encouraging and allowing code re-use as well as allowing many powerful features that allow you to craft flexible code for multiple purposes.  We can create __child classes__ that can inherit the properties (i.e. variables and functions) from its parent, as well as : \n",
    "- ADDING new properties (e.g. more variables and functions)\n",
    "- REPLACING functionality with new code"
   ]
  },
  {
   "cell_type": "code",
   "execution_count": 2,
   "metadata": {
    "scrolled": true
   },
   "outputs": [],
   "source": [
    "class Animal\n",
    "{\n",
    "public:\n",
    "    string name;\n",
    "    \n",
    "    Animal(string _name=\"John Doe\") : name(_name) {};\n",
    "    virtual ~Animal() {};\n",
    "    \n",
    "    virtual void Name() {cout << \"I am \" << name << endl;}\n",
    "    virtual void Eat(string food) {cout << \"Eating \" << food << endl;}\n",
    "    virtual void Happy() {cout << \"I am happy\" << endl;}\n",
    "};"
   ]
  },
  {
   "cell_type": "code",
   "execution_count": 3,
   "metadata": {},
   "outputs": [
    {
     "name": "stdout",
     "output_type": "stream",
     "text": [
      "I am John Doe\n",
      "Eating bone\n",
      "I am happy\n"
     ]
    }
   ],
   "source": [
    "Animal animal;\n",
    "animal.Name();\n",
    "animal.Eat(\"bone\");\n",
    "animal.Happy();"
   ]
  },
  {
   "cell_type": "code",
   "execution_count": 4,
   "metadata": {},
   "outputs": [],
   "source": [
    "class Dog : public Animal\n",
    "{\n",
    "public:\n",
    "\n",
    "    Dog(string _name=\"Fido\") : Animal(_name) {};\n",
    "    void Eat(string food)\n",
    "    {\n",
    "        if (food == \"bone\") {cout << \"Yummy!\" << endl;}\n",
    "        else {cout << \"Yuk!\" << endl;}\n",
    "    }\n",
    "    void Happy() {cout << \"Woof!\" << endl;}\n",
    "};"
   ]
  },
  {
   "cell_type": "code",
   "execution_count": 5,
   "metadata": {},
   "outputs": [
    {
     "name": "stdout",
     "output_type": "stream",
     "text": [
      "I am Fido\n",
      "Yummy!\n",
      "Yuk!\n",
      "Woof!\n"
     ]
    }
   ],
   "source": [
    "Dog dog;\n",
    "dog.Name();\n",
    "dog.Eat(\"bone\");\n",
    "dog.Eat(\"Fish\");\n",
    "dog.Happy();"
   ]
  },
  {
   "cell_type": "code",
   "execution_count": 6,
   "metadata": {},
   "outputs": [],
   "source": [
    "class Cat : public Animal\n",
    "{\n",
    "public:\n",
    "\n",
    "    Cat(string _name=\"Tom\") : Animal(_name) {};\n",
    "    void Eat(string food)\n",
    "    {\n",
    "        if (food == \"fish\") {cout << \"Yummy!\" << endl;}\n",
    "        else {cout << \"Yuk!\" << endl;}\n",
    "    }\n",
    "    void Happy() {cout << \"Purr!\" << endl;}\n",
    "};"
   ]
  },
  {
   "cell_type": "code",
   "execution_count": 7,
   "metadata": {},
   "outputs": [
    {
     "name": "stdout",
     "output_type": "stream",
     "text": [
      "I am Garfield\n",
      "Yuk!\n",
      "Yummy!\n",
      "Purr!\n"
     ]
    }
   ],
   "source": [
    "Cat cat(\"Garfield\");\n",
    "cat.Name();\n",
    "cat.Eat(\"bone\");\n",
    "cat.Eat(\"fish\");\n",
    "cat.Happy();"
   ]
  },
  {
   "cell_type": "markdown",
   "metadata": {},
   "source": [
    "We can always instantiate a base class to one of the child classes.  Even though the type is 'Animal', it will call all of the 'Dog' class functions"
   ]
  },
  {
   "cell_type": "code",
   "execution_count": 8,
   "metadata": {},
   "outputs": [
    {
     "name": "stdout",
     "output_type": "stream",
     "text": [
      "I am Lassie\n",
      "Yuk!\n",
      "Woof!\n"
     ]
    }
   ],
   "source": [
    "Animal *dog2 = new Dog(\"Lassie\");\n",
    "dog2->Name();\n",
    "dog2->Eat(\"tuna\");\n",
    "dog2->Happy();\n",
    "delete dog2;"
   ]
  },
  {
   "cell_type": "markdown",
   "metadata": {},
   "source": [
    "# Inheritance vs Composition\n",
    "One common design problem in OOP is whether to use inheritance to create new classes, or whether to use composition\n",
    "- As a rule of thumb, composition is preferable to inheritance\n",
    "- If new functions/data are to be added, use composition\n",
    "- If functionality has to be over-ridden/replaced, then inheritance is required"
   ]
  },
  {
   "cell_type": "markdown",
   "metadata": {},
   "source": [
    "# Encapsulation\n",
    "In OOP, it is often considered good practice to ‘hide your data’\n",
    "- The variables in a class should be private access\n",
    "- A series of ‘get’ functions can be implemented to allow read access from outside\n",
    "- If you want to allow a variable to be writeable, then implement a corresponding ‘set’ function\n",
    "\n",
    "N.B. This is not possible in Python since all variables have public access"
   ]
  },
  {
   "cell_type": "code",
   "execution_count": 9,
   "metadata": {},
   "outputs": [],
   "source": [
    "class BadOopClass\n",
    "{\n",
    "public:\n",
    "  int someData;\n",
    "};"
   ]
  },
  {
   "cell_type": "code",
   "execution_count": 10,
   "metadata": {},
   "outputs": [],
   "source": [
    "class GoodOopClass\n",
    "{\n",
    "private:\n",
    "  int someData;\n",
    "\n",
    "public:\n",
    "  int GetSomeData() {return someData;}\n",
    "  void SetSomeData(int newData)\n",
    "  {\n",
    "      assert(newData > 0 && newData < 100);\n",
    "      someData = newData;\n",
    "  }\n",
    "};"
   ]
  },
  {
   "cell_type": "code",
   "execution_count": 11,
   "metadata": {},
   "outputs": [
    {
     "name": "stdout",
     "output_type": "stream",
     "text": [
      "2\n"
     ]
    }
   ],
   "source": [
    "BadOopClass data1;\n",
    "data1.someData = 2;\n",
    "cout << data1.someData << endl;"
   ]
  },
  {
   "cell_type": "code",
   "execution_count": 12,
   "metadata": {},
   "outputs": [
    {
     "name": "stdout",
     "output_type": "stream",
     "text": [
      "5\n"
     ]
    }
   ],
   "source": [
    "GoodOopClass data2;\n",
    "data2.SetSomeData(5);\n",
    "cout << data2.GetSomeData() << endl;"
   ]
  },
  {
   "cell_type": "markdown",
   "metadata": {},
   "source": [
    "# What is a Design Pattern, and why should I care?\n",
    "- A Design Pattern is a very common code design solution that reoccurs precisely because it’s a good and robust solution to some coding problem\n",
    "- It’s useful to learn about them because often you’ll find there’s a design pattern that is directly relevant to some code you’re trying to write\n",
    "- Better to learn a little about these ideas and design better code from the start rather than (slowly) reinvent the wheel\n",
    "- Also, using them gives your code a familiar design to other people who may read your code (assuming they know about design patterns)\n",
    "- In the original Design Patterns book, there were 3 main categories : \n",
    "  - __Creational__ : How to create complex objects, or families of objects\n",
    "  - __Structural__ : How to construct class/object hierarchies\n",
    "  - __Behavioural__ : How different objects interact with each other\n",
    "- We will discuss some of the more commonly used design patterns (or at least the ones I use regularly) including examples of how and why they are used"
   ]
  },
  {
   "cell_type": "markdown",
   "metadata": {},
   "source": [
    "# Strategy (Behavioural)\n",
    "- Consider a problem where there are multiple equally valid algorithmic solutions and you wish to use one of these solutions at some arbitrary point in the code\n",
    "- Or maybe something more trivial/superficial, such as having different graphical effects for the same functionality (e.g. different mouse pointers and effects)\n",
    "- __Naive solution__ : Use if-else statements to select which algorithm to use at the appropriate point in the code\n",
    "- Let's consider a simple example where we wish to run one of a selection of applications in some environment, say a mobile phone"
   ]
  },
  {
   "cell_type": "code",
   "execution_count": 13,
   "metadata": {},
   "outputs": [],
   "source": [
    "class MoviePlayer1\n",
    "{\n",
    "private:\n",
    "    int volume;\n",
    "    int brightness;\n",
    "    \n",
    "public:\n",
    "    void LoadMovie() {cout << \"Loading movie ...\" << endl;}\n",
    "    void PlayMovie() {cout << \"Playing movie\" << endl;}\n",
    "    void EndMovie() {cout << \"Fin!\" << endl;}\n",
    "    void Volume(int newVolume) {volume = newVolume;}\n",
    "    void Brightness(int newBrightness) {brightness = newBrightness;}\n",
    "};"
   ]
  },
  {
   "cell_type": "code",
   "execution_count": 14,
   "metadata": {},
   "outputs": [],
   "source": [
    "class MegaGame1\n",
    "{\n",
    "private:\n",
    "    int score;\n",
    "    \n",
    "public:\n",
    "    void InitialiseGame() {cout << \"Setting up game ...\" << endl;}\n",
    "    void PlayGame() {cout << \"Playing game ...\" << endl;}\n",
    "    void Victory() {cout << \"You win!\" << endl;}\n",
    "    void Defeat() {cout << \"You lose!\" << endl;}\n",
    "    void EndGame()\n",
    "    {\n",
    "        if (score > 0) Victory();\n",
    "        else Defeat();\n",
    "    }\n",
    "};"
   ]
  },
  {
   "cell_type": "code",
   "execution_count": 15,
   "metadata": {},
   "outputs": [],
   "source": [
    "void RunApplication1(string appName)\n",
    "{\n",
    "    // Pointers for objects\n",
    "    MoviePlayer1 *player;\n",
    "    MegaGame1 *game;\n",
    "\n",
    "    // Create objects\n",
    "    if (appName == \"game\")\n",
    "    {\n",
    "        game = new MegaGame1();\n",
    "    }\n",
    "    if (appName == \"player\")\n",
    "    {\n",
    "        player = new MoviePlayer1();\n",
    "    }\n",
    "\n",
    "    // Set-up\n",
    "    if (appName == \"game\") {\n",
    "        game->InitialiseGame();\n",
    "    }\n",
    "    else if (appName == \"player\")\n",
    "    {\n",
    "        player->LoadMovie();\n",
    "    }\n",
    "\n",
    "    // Run app\n",
    "    if (appName == \"game\") {\n",
    "        game->PlayGame();\n",
    "    }\n",
    "    else if (appName == \"player\")\n",
    "    {\n",
    "        player->PlayMovie();\n",
    "    }\n",
    "\n",
    "    // Terminate app\n",
    "    if (appName == \"game\") {\n",
    "        game->EndGame();\n",
    "    }\n",
    "    else if (appName == \"player\")\n",
    "    {\n",
    "        player->EndMovie();\n",
    "    }\n",
    "\n",
    "    // Destroy the app object\n",
    "    if (appName == \"game\")\n",
    "    {\n",
    "        delete game;\n",
    "    }\n",
    "    else if (appName == \"player\")\n",
    "    {\n",
    "        delete player;\n",
    "    }\n",
    "}"
   ]
  },
  {
   "cell_type": "code",
   "execution_count": 16,
   "metadata": {},
   "outputs": [
    {
     "name": "stdout",
     "output_type": "stream",
     "text": [
      "Setting up game ...\n",
      "Playing game ...\n",
      "You lose!\n"
     ]
    }
   ],
   "source": [
    "RunApplication1(\"game\");"
   ]
  },
  {
   "cell_type": "code",
   "execution_count": 17,
   "metadata": {},
   "outputs": [],
   "source": [
    "void RunApplication2(string appName)\n",
    "{\n",
    "    if (appName == \"player\")\n",
    "    {\n",
    "        MoviePlayer1 *player = new MoviePlayer1();\n",
    "        player->LoadMovie();\n",
    "        player->PlayMovie();\n",
    "        player->EndMovie();\n",
    "        delete player;\n",
    "    }\n",
    "    else if (appName == \"game\")\n",
    "    {\n",
    "        MegaGame1 *game = new MegaGame1();\n",
    "        game->InitialiseGame();\n",
    "        game->PlayGame();\n",
    "        game->Victory();\n",
    "        delete game;\n",
    "    }\n",
    "}"
   ]
  },
  {
   "cell_type": "code",
   "execution_count": 18,
   "metadata": {},
   "outputs": [
    {
     "name": "stdout",
     "output_type": "stream",
     "text": [
      "Setting up game ...\n",
      "Playing game ...\n",
      "You win!\n"
     ]
    }
   ],
   "source": [
    "RunApplication2(\"game\");"
   ]
  },
  {
   "cell_type": "markdown",
   "metadata": {},
   "source": [
    "Why is that bad design?\n",
    "- Pollutes code with if-else statements everywhere\n",
    "- If you want to add a new option, you need to hunt down every if-else and add your new option (easy to miss one out)\n",
    "- Every new addition may have a completely different design which requires understanding to get it to work"
   ]
  },
  {
   "cell_type": "markdown",
   "metadata": {},
   "source": [
    "__Better solution__ : \n",
    "- Have an abstract base class that __defines an interface__ (i.e. function names and which parameters they take).  Each child class then provides implementations for these functions\n",
    "- The strategy pattern is similae to the OOP concept of “writing to an interface, not an implementation”\n",
    "- i.e. you should write your classes to have functions that access allow a consistent access"
   ]
  },
  {
   "cell_type": "code",
   "execution_count": 19,
   "metadata": {
    "scrolled": true
   },
   "outputs": [],
   "source": [
    "class BaseClass\n",
    "{\n",
    "public:\n",
    "    virtual void SomeFunction() = 0;\n",
    "};"
   ]
  },
  {
   "cell_type": "code",
   "execution_count": 20,
   "metadata": {},
   "outputs": [],
   "source": [
    "class ChildClass : public BaseClass\n",
    "{\n",
    "public:\n",
    "    virtual void SomeFunction() {cout << \"Hello from ChildClass\" << endl;}\n",
    "};"
   ]
  },
  {
   "cell_type": "code",
   "execution_count": 21,
   "metadata": {},
   "outputs": [
    {
     "name": "stdout",
     "output_type": "stream",
     "text": [
      "Hello from ChildClass\n"
     ]
    }
   ],
   "source": [
    "BaseClass* obj = new ChildClass();\n",
    "obj->SomeFunction();"
   ]
  },
  {
   "cell_type": "markdown",
   "metadata": {},
   "source": [
    "Let's return to our original example of running various apps on a mobile phone.  Let's construct a generic Application class that forms the interface that all outside programs must use to access and run the app"
   ]
  },
  {
   "cell_type": "code",
   "execution_count": 22,
   "metadata": {},
   "outputs": [],
   "source": [
    "class App2\n",
    "{\n",
    "private:\n",
    "    bool quitFlag = false;\n",
    "    string name;\n",
    "    \n",
    "public:\n",
    "    App2(string _name) : name(_name) {};\n",
    "    virtual ~App2() {};\n",
    "    \n",
    "    virtual void Setup() = 0;\n",
    "    virtual void Run() = 0;\n",
    "    virtual void Shutdown() = 0;\n",
    "    \n",
    "    bool Quitting() {return quitFlag;}\n",
    "    string GetName() {return name;}\n",
    "    void SetQuitFlag() {quitFlag = true;}\n",
    "};"
   ]
  },
  {
   "cell_type": "code",
   "execution_count": 23,
   "metadata": {},
   "outputs": [],
   "source": [
    "class MoviePlayer2 : public App2\n",
    "{\n",
    "public:\n",
    "    MoviePlayer2() : App2(\"player\") {};\n",
    "    \n",
    "    virtual void Setup() {cout << \"Setting up player ...\" << endl;}\n",
    "    virtual void Run() {cout << \"Watching movie ...\" << endl;}\n",
    "    virtual void Shutdown() {cout << \"Fin!\" << endl;}\n",
    "};"
   ]
  },
  {
   "cell_type": "code",
   "execution_count": 24,
   "metadata": {},
   "outputs": [],
   "source": [
    "class MegaGame2 : public App2\n",
    "{\n",
    "public:\n",
    "    MegaGame2() : App2(\"MegaGame\") {};\n",
    "    \n",
    "    virtual void Setup() {cout << \"Setting up game ...\" << endl;}\n",
    "    virtual void Run() {cout << \"Playing game ...\" << endl;}\n",
    "    virtual void Shutdown() {cout << \"You win! Goodbye!\" << endl;}\n",
    "};"
   ]
  },
  {
   "cell_type": "code",
   "execution_count": 25,
   "metadata": {},
   "outputs": [
    {
     "name": "stdout",
     "output_type": "stream",
     "text": [
      "MegaGame\n",
      "Setting up game ...\n",
      "Playing game ...\n",
      "You win! Goodbye!\n"
     ]
    }
   ],
   "source": [
    "App2 *app = new MegaGame2();\n",
    "cout << app->GetName() << endl;\n",
    "app->Setup();\n",
    "app->Run();\n",
    "app->Shutdown();\n",
    "delete app;"
   ]
  },
  {
   "cell_type": "markdown",
   "metadata": {},
   "source": [
    "We can also use the strategy pattern for sub-systems inside a program (and not just the whole program itself)\n",
    "- For example, in GANDALF, we used the strategy pattern to select different tree algorithms\n",
    "- We simply defined an interface and created implementations for each tree\n",
    "\n",
    "<img src=\"./trees.png\" width=\"1000\">"
   ]
  },
  {
   "cell_type": "markdown",
   "metadata": {},
   "source": [
    "The Strategy pattern is just one solution to the problem of having related families of classes\n",
    "- The __Decorator pattern__ solves a similar problem but when the classes are nearly identical.\n",
    "  - Consider you have a core class that provides basic functionality but you wish to have a class with some extra features\n",
    "  - Rather than use inheritance, you can add new features via composition.  The new feature is seen as a 'decoration' on top of the core functionality\n",
    "- The __Template method__ shares some similarities with Strategy\n",
    "- The __Adapter pattern__ is a way to take an object or library and 'wrap' it with a consistent interface so it can be used in some other part of the code (i.e. a fancy name for a wrapper)"
   ]
  },
  {
   "cell_type": "markdown",
   "metadata": {},
   "source": [
    "# Factory (Creational)\n",
    "- What’s the best way to create a new object in an object-oriented code?  In C++ and Python, there are several basic methods\n",
    "- What if we wish to create an object from a family of objects (such as following the strategy pattern)?\n",
    "- __Naive solution__ : Use the constructor directly in the same function to create the object"
   ]
  },
  {
   "cell_type": "code",
   "execution_count": 26,
   "metadata": {},
   "outputs": [
    {
     "name": "stdout",
     "output_type": "stream",
     "text": [
      "I am Bob\n",
      "Woof!\n"
     ]
    }
   ],
   "source": [
    "Animal *pet;\n",
    "string petChoice = \"dog\";\n",
    "string petName = \"Bob\";\n",
    "\n",
    "if (petChoice == \"cat\")\n",
    "{\n",
    "    pet = new Cat(petName);\n",
    "}\n",
    "else if (petChoice == \"dog\")\n",
    "{\n",
    "    pet = new Dog(petName);\n",
    "}\n",
    "\n",
    "pet->Name();\n",
    "pet->Happy();\n",
    "\n",
    "delete pet;"
   ]
  },
  {
   "cell_type": "markdown",
   "metadata": {},
   "source": [
    "Why is that bad design?\n",
    "- If the object needs to be created in several places in the code, in could lead to duplicate code\n",
    "- If more class types need to be considered, then it might be easy to forgot them in different parts of the code\n",
    "- If the object construction is more complex (e.g. the object does not use new but recycles an older object), then this can lead to more complex code"
   ]
  },
  {
   "cell_type": "markdown",
   "metadata": {},
   "source": [
    "The acccepted method is to use what is called the __Factory Method__, which used a so-called factory function which returns the created object.\n",
    "- All object construction details are hidden away in the factory method (like a black-box function)\n",
    "- New child classes can easily be added \n",
    "- For the above Animal case, a factory function may look like this"
   ]
  },
  {
   "cell_type": "code",
   "execution_count": 27,
   "metadata": {},
   "outputs": [],
   "source": [
    "Animal* AnimalFactory(string animalType, string animalName)\n",
    "{\n",
    "    Animal *animal;\n",
    "    if (animalType == \"cat\")\n",
    "    {\n",
    "        animal = new Cat(animalName);\n",
    "    }\n",
    "    else if (petChoice == \"dog\")\n",
    "    {\n",
    "        animal = new Dog(animalName);\n",
    "    }\n",
    "    return animal;\n",
    "}"
   ]
  },
  {
   "cell_type": "code",
   "execution_count": 28,
   "metadata": {},
   "outputs": [
    {
     "name": "stdout",
     "output_type": "stream",
     "text": [
      "I am Einstein\n",
      "Woof!\n"
     ]
    }
   ],
   "source": [
    "Animal *pet2 = AnimalFactory(\"dog\", \"Einstein\");\n",
    "\n",
    "pet2->Name();\n",
    "pet2->Happy();\n",
    "\n",
    "delete pet2;"
   ]
  },
  {
   "cell_type": "markdown",
   "metadata": {},
   "source": [
    "- __Object pools__ are useful data structures related to factory methods (N.B. Object pools are considered a design patttern in their own right by some online resources)\n",
    "  - They are arrays containing large numbers of objects that can be requested by the user and effectively recycled.  \n",
    "  - When the object is not needed, rather than deallocate/delete them, they can be released back to the pool where they can be re-used again.  \n",
    "  - The function requesting the resource is effectively a factory function (coupled with an appropriate 'recycle' function of sorts)\n",
    "- The __Prototype__ method is an alternative method of creating new objects\n",
    "  - An object can 'duplicate' itself copying all of its features and data (similar to cell mitosis) as a way of generating large numbers of objects\n",
    "- The __Abstract Factory__ method is a way of creating families of related objects rather than just a single object\n",
    " - e.g. a car factory could produce a single car object, or generate separate engine, tyre and seat objects.  Each car factory (e.g. BMW, Audi, Fiat) would produce their own 'version' of the same objects.\n",
    " - Might be useful with the strategy method is related groups of algorithms and objects must be created"
   ]
  },
  {
   "cell_type": "markdown",
   "metadata": {},
   "source": [
    "# Combining patterns : Strategy + Factory\n",
    "Let's combine the two patterns to create our App object and then run it"
   ]
  },
  {
   "cell_type": "code",
   "execution_count": 29,
   "metadata": {},
   "outputs": [],
   "source": [
    "App2* App2Factory(string appName)\n",
    "{\n",
    "    App2 *app;\n",
    "    if (appName == \"player\")\n",
    "    {\n",
    "        app = new MoviePlayer2();\n",
    "    }\n",
    "    else if (appName == \"game\")\n",
    "    {\n",
    "        app = new MegaGame2();\n",
    "    }\n",
    "    return app;\n",
    "}"
   ]
  },
  {
   "cell_type": "code",
   "execution_count": 30,
   "metadata": {},
   "outputs": [],
   "source": [
    "void RunApplication4(string appName)\n",
    "{\n",
    "    App2 *app = App2Factory(appName);\n",
    "    app->Setup();\n",
    "    app->Run();\n",
    "    app->Shutdown();\n",
    "    delete app;\n",
    "}"
   ]
  },
  {
   "cell_type": "code",
   "execution_count": 31,
   "metadata": {},
   "outputs": [
    {
     "name": "stdout",
     "output_type": "stream",
     "text": [
      "Setting up player ...\n",
      "Watching movie ...\n",
      "Fin!\n"
     ]
    }
   ],
   "source": [
    "RunApplication4(\"player\");"
   ]
  },
  {
   "cell_type": "markdown",
   "metadata": {},
   "source": [
    "# Observer (Behavioural)\n",
    "\n",
    "- Let’s consider a system where one class (or many classes) needs to respond to changes in another class\n",
    "  - e.g. let's consider a game which comprises of many concurrent systems, all of which need to respond to input from the keyboard\n",
    "- __Naive solution__ : Game application checks if the button has been pressed and then informs all of the dependent objects of the button press"
   ]
  },
  {
   "cell_type": "code",
   "execution_count": 32,
   "metadata": {},
   "outputs": [],
   "source": [
    "class Audio1\n",
    "{\n",
    "public:\n",
    "    void PauseMusic() {cout << \"Pausing music\" << endl;}\n",
    "    void Quit() {cout << \"Quitting Audio\" << endl;}\n",
    "};"
   ]
  },
  {
   "cell_type": "code",
   "execution_count": 33,
   "metadata": {},
   "outputs": [],
   "source": [
    "class Renderer1\n",
    "{\n",
    "public:\n",
    "    void Quit() {cout << \"Quitting Renderer\" << endl;}  \n",
    "};"
   ]
  },
  {
   "cell_type": "code",
   "execution_count": 34,
   "metadata": {},
   "outputs": [],
   "source": [
    "void RunGame1()\n",
    "{\n",
    "    Audio1 *audio = new Audio1();\n",
    "    Renderer1 *renderer = new Renderer1();\n",
    "    \n",
    "    bool pauseKeyPress = true;\n",
    "    bool quitKeyPress = true;\n",
    "    \n",
    "    if (pauseKeyPress)\n",
    "    {\n",
    "        audio->PauseMusic();\n",
    "    }\n",
    "    \n",
    "    if (quitKeyPress)\n",
    "    {\n",
    "        audio->Quit();\n",
    "        renderer->Quit();\n",
    "    }\n",
    "    \n",
    "    delete renderer;\n",
    "    delete audio;\n",
    "}"
   ]
  },
  {
   "cell_type": "code",
   "execution_count": 35,
   "metadata": {},
   "outputs": [
    {
     "name": "stdout",
     "output_type": "stream",
     "text": [
      "Pausing music\n",
      "Quitting Audio\n",
      "Quitting Renderer\n"
     ]
    }
   ],
   "source": [
    "RunGame1();"
   ]
  },
  {
   "cell_type": "markdown",
   "metadata": {},
   "source": [
    "Why is this bad design?\n",
    "- The code that is in charge of reading the keyboard must also know the internal functions of the various classes that respond to the key press\n",
    "- Very tightly coupled classes are difficult to test and debug\n",
    "- Requires coders who work on the input manager to also know all other systems\n",
    "- More and more keys requires adding more and more checks leading to longer and difficult to read code\n",
    "\n",
    "N.B. It is possible to design this in different but equally bad ways\n",
    "- e.g. The Audio and Renderer classes read from the input directly themselves, but this muddles different systems again"
   ]
  },
  {
   "cell_type": "markdown",
   "metadata": {},
   "source": [
    "A more efficient and flexible solution is called the __Observer Pattern__\n",
    "- The basis of __event-driven__ programming\n",
    "- An Observer can monitor if a given event happens.  However, rather than polling the check itself, it is the responsibility of the event itself to notify the observers when something interesting happens\n",
    "- Observers must 'subscribe' to an event; otherwise the event will be broadcast to nothing at all\n",
    "- In some books and codes, Observers are called 'Listeners' (but the meaning is essentially the same)"
   ]
  },
  {
   "cell_type": "code",
   "execution_count": 36,
   "metadata": {},
   "outputs": [],
   "source": [
    "class Observer\n",
    "{\n",
    "public:\n",
    "    virtual void OnEvent(string eventName) = 0;\n",
    "}"
   ]
  },
  {
   "cell_type": "code",
   "execution_count": 37,
   "metadata": {},
   "outputs": [],
   "source": [
    "class Event\n",
    "{\n",
    "private:\n",
    "    string name;\n",
    "    list<Observer*> observerList;\n",
    "    \n",
    "public:\n",
    "    Event(string _name) : name(_name) {};\n",
    "    \n",
    "    void AddObserver(Observer *observer) {observerList.push_back(observer);}\n",
    "    void NotifyObservers()\n",
    "    {\n",
    "        for (Observer* observer : observerList)\n",
    "        {\n",
    "            observer->OnEvent(name);\n",
    "        }\n",
    "    }\n",
    "};"
   ]
  },
  {
   "cell_type": "markdown",
   "metadata": {},
   "source": [
    "Let's now modify our Game system classes so that they can respond to events"
   ]
  },
  {
   "cell_type": "code",
   "execution_count": 38,
   "metadata": {},
   "outputs": [],
   "source": [
    "class Audio2 : public Observer\n",
    "{\n",
    "private:\n",
    "    void PauseMusic() {cout << \"Pausing music\" << endl;}\n",
    "    void Quit() {cout << \"Quitting Audio\" << endl;}\n",
    "    \n",
    "public:\n",
    "    virtual void OnEvent(string eventName)\n",
    "    {\n",
    "        if (eventName == \"pause\")\n",
    "        {\n",
    "            PauseMusic();\n",
    "        }\n",
    "        else if (eventName == \"quit\")\n",
    "        {\n",
    "            Quit();\n",
    "        }\n",
    "    }\n",
    "};"
   ]
  },
  {
   "cell_type": "code",
   "execution_count": 39,
   "metadata": {},
   "outputs": [],
   "source": [
    "class Renderer2 : public Observer\n",
    "{\n",
    "private:\n",
    "    void Quit() {cout << \"Quitting Renderer\" << endl;}\n",
    "    \n",
    "public:\n",
    "    virtual void OnEvent(string eventName)\n",
    "    {\n",
    "        if (eventName == \"quit\")\n",
    "        {\n",
    "            Quit();\n",
    "        }\n",
    "    }\n",
    "};"
   ]
  },
  {
   "cell_type": "code",
   "execution_count": 40,
   "metadata": {},
   "outputs": [],
   "source": [
    "void RunGame2()\n",
    "{\n",
    "    Audio2 *audio = new Audio2();\n",
    "    Renderer2 *renderer = new Renderer2();\n",
    "    \n",
    "    // Create a pause event and register all observer objects\n",
    "    Event pauseEvent(\"pause\");\n",
    "    pauseEvent.AddObserver(audio);\n",
    "    \n",
    "    // Similarly, create a quit event and register all observers\n",
    "    Event quitEvent(\"quit\");\n",
    "    quitEvent.AddObserver(audio);\n",
    "    quitEvent.AddObserver(renderer);\n",
    "    \n",
    "    bool pauseKeyPress = true;\n",
    "    bool quitKeyPress = true;\n",
    "    \n",
    "    if (pauseKeyPress)\n",
    "    {\n",
    "        pauseEvent.NotifyObservers();\n",
    "    }\n",
    "    \n",
    "    if (quitKeyPress)\n",
    "    {\n",
    "        quitEvent.NotifyObservers();\n",
    "    }\n",
    "    \n",
    "    delete renderer;\n",
    "    delete audio;\n",
    "}"
   ]
  },
  {
   "cell_type": "code",
   "execution_count": 41,
   "metadata": {},
   "outputs": [
    {
     "name": "stdout",
     "output_type": "stream",
     "text": [
      "Pausing music\n",
      "Quitting Audio\n",
      "Quitting Renderer\n"
     ]
    }
   ],
   "source": [
    "RunGame2();"
   ]
  },
  {
   "cell_type": "markdown",
   "metadata": {},
   "source": [
    "Some other important advantages of using the Observer Pattern\n",
    "- The different classes/modules are decoupled from each other in the sense that we don't need to know anything about their internals, only whether they are observers or not.\n",
    "- This in turn leads to much better code design, in particular reducing 'Spaghetti Code'\n",
    "- You can in principle register as many observers to an event as you like (although having too many may not be so memory efficient).  You can therefore reduce the potential number of if-statements per step considerably\n",
    "- Only the 'OnEvent' function need be public; all other functions can be made private if required"
   ]
  },
  {
   "cell_type": "markdown",
   "metadata": {},
   "source": [
    "The observer pattern coupled with a related pattern, called the __Mediator Pattern__, can be used to reduce the coupling between systems\n",
    "- The Mediator is an intermediate connecting class that allows the different systems to talk to each other without directly calling each other\n",
    "- One form of the mediator pattern is a so-called Event Queue, where events are sent not directly to observers but to the intermediate event queue, which then sends them on to interested systems\n",
    "- One can think of it like a central post office which controls all messages and passes them on to anyone who subscribed to it"
   ]
  }
 ],
 "metadata": {
  "kernelspec": {
   "display_name": "C++14",
   "language": "C++14",
   "name": "xeus-cling-cpp14"
  },
  "language_info": {
   "codemirror_mode": "text/x-c++src",
   "file_extension": ".cpp",
   "mimetype": "text/x-c++src",
   "name": "c++",
   "version": "-std=c++14"
  }
 },
 "nbformat": 4,
 "nbformat_minor": 2
}
