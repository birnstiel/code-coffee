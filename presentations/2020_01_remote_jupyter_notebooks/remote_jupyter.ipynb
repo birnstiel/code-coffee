{
 "cells": [
  {
   "cell_type": "markdown",
   "metadata": {
    "slideshow": {
     "slide_type": "slide"
    }
   },
   "source": [
    "# Remote connection to jupyter notebooks\n",
    "\n",
    "<span style=\"font-size:small;color:gray;\">\n",
    "<a href=\"https://nbviewer.jupyter.org/github/birnstiel/jupyter-intro/blob/master/jupyter-intro.ipynb\">go here for Jupyter Notebook intro</a>\n",
    "</span>"
   ]
  },
  {
   "cell_type": "markdown",
   "metadata": {
    "slideshow": {
     "slide_type": "slide"
    }
   },
   "source": [
    "# Why"
   ]
  },
  {
   "cell_type": "markdown",
   "metadata": {
    "slideshow": {
     "slide_type": "fragment"
    }
   },
   "source": [
    "Say you have lots of data on a remote machine:\n",
    "\n",
    "\n",
    "- working locally may be hard (little disk-space) ...\n",
    "- or impossible (little memory)\n",
    "- you have to manage both machines"
   ]
  },
  {
   "cell_type": "markdown",
   "metadata": {
    "slideshow": {
     "slide_type": "fragment"
    }
   },
   "source": [
    "Working remotely is the solution, but comes with its own challenges, mainly the **connection**:\n",
    "\n",
    "> when connecting through SSH, connection might be lost $\\rightarrow$ need to start again "
   ]
  },
  {
   "cell_type": "markdown",
   "metadata": {
    "slideshow": {
     "slide_type": "fragment"
    }
   },
   "source": [
    "Better solution: have the kernel / namespace / ... running on the remote machine but being able to reconnect to it.\n",
    "    \n",
    "$\\rightarrow$ this can be done for the terminal (see later), but is conveniently done with a *notebook server*"
   ]
  },
  {
   "cell_type": "markdown",
   "metadata": {
    "slideshow": {
     "slide_type": "slide"
    }
   },
   "source": [
    "## On the host"
   ]
  },
  {
   "cell_type": "markdown",
   "metadata": {
    "slideshow": {
     "slide_type": "slide"
    }
   },
   "source": [
    "### Set a password"
   ]
  },
  {
   "cell_type": "markdown",
   "metadata": {},
   "source": [
    "Most importantly, we want to set a password. You can do that by calling\n",
    "\n",
    "    > jupyter notebook password\n",
    "    \n",
    "enter a password twice. The hash of the password is written into a configuration file as well:\n",
    "\n",
    "    [NotebookPasswordApp] Wrote hashed password to /Users/USERNAME/.jupyter/jupyter_notebook_config.json"
   ]
  },
  {
   "cell_type": "markdown",
   "metadata": {},
   "source": [
    "Not setting a password will cause jupyter to generate a token each time that you need to pass when logging in."
   ]
  },
  {
   "cell_type": "markdown",
   "metadata": {
    "slideshow": {
     "slide_type": "slide"
    }
   },
   "source": [
    "### Use https"
   ]
  },
  {
   "cell_type": "markdown",
   "metadata": {},
   "source": [
    "To make the communication more secure, we want to communicate with the server using https. The easiest way is to use a self-made certificate. The downside is that browsers will warn you about this and that some operating systems or applications might not work with it (e.g. iOS)."
   ]
  },
  {
   "cell_type": "markdown",
   "metadata": {},
   "source": [
    "To generate those use this command:\n",
    "    \n",
    "    > openssl req -x509 -nodes -days 365 -newkey rsa:2048 -keyout mykey.key -out mycert.pem\n",
    "  "
   ]
  },
  {
   "cell_type": "markdown",
   "metadata": {
    "slideshow": {
     "slide_type": "subslide"
    }
   },
   "source": [
    "This will ask you some questions. What you put in doesn't really matter.\n",
    "    \n",
    "\n",
    "    Generating a RSA private key\n",
    "    ..............................................................................................................+++++\n",
    "    ...............................................................+++++\n",
    "    writing new private key to 'mykey.key'\n",
    "    -----\n",
    "    You are about to be asked to enter information that will be incorporated\n",
    "    into your certificate request.\n",
    "    What you are about to enter is what is called a Distinguished Name or a DN.\n",
    "    There are quite a few fields but you can leave some blank\n",
    "    For some fields there will be a default value,\n",
    "    If you enter '.', the field will be left blank.\n",
    "    -----\n",
    "    Country Name (2 letter code) [AU]:<span style=\"color:red\">DE</span>\n",
    "    State or Province Name (full name) [Some-State]:<span style=\"color:red\">BY</span>\n",
    "    Locality Name (eg, city) []:<span style=\"color:red\">Munich</span>\n",
    "    Organization Name (eg, company) [Internet Widgits Pty Ltd]:<span style=\"color:red\">LMU</span>\n",
    "    Organizational Unit Name (eg, section) []:<span style=\"color:red\">USM</span>\n",
    "    Common Name (e.g. server FQDN or YOUR name) []:<span style=\"color:red\">Til Birnstiel</span>\n",
    "    Email Address []:til.birnstiel@lmu.de\n",
    "\n",
    "\n",
    "The created files `mycert.pem` and `mykey.key` are in the current directory. You can put them somewhere useful, but then use absolute pathes to point to them."
   ]
  },
  {
   "cell_type": "markdown",
   "metadata": {
    "slideshow": {
     "slide_type": "slide"
    }
   },
   "source": [
    "### Start the server"
   ]
  },
  {
   "cell_type": "markdown",
   "metadata": {},
   "source": [
    "The server should be running for a while, therefore I recommend to use `screen` or `tmux` to run it in the background and to be able to log out without terminating the server."
   ]
  },
  {
   "cell_type": "markdown",
   "metadata": {
    "slideshow": {
     "slide_type": "fragment"
    }
   },
   "source": [
    "#### `screen`\n",
    "    screen -S notebook\n",
    "    [start the notebook]\n",
    "    [press CTRL+A D to detach]"
   ]
  },
  {
   "cell_type": "markdown",
   "metadata": {
    "slideshow": {
     "slide_type": "fragment"
    }
   },
   "source": [
    "#### `tmux`\n",
    "\n",
    "    tmux\n",
    "    [start the notebook]\n",
    "    [press CTRL-B D to detach]"
   ]
  },
  {
   "cell_type": "markdown",
   "metadata": {
    "slideshow": {
     "slide_type": "subslide"
    }
   },
   "source": [
    "We want to start the server using a couple of settings. We can do this in the command line:\n",
    "    \n",
    "    \n",
    "    jupyter notebook --ip='0.0.0.0' --certfile=mycert.pem --keyfile=mykey.key --no-browser --port=8888\n",
    "    \n",
    "\n",
    "Here, we:\n",
    "\n",
    "- start a notebook server\n",
    "- tell the server to listen to local connections. If your machine is visible to the internet, use it's global IP instead.\n",
    "- encrypt the traffic using our certificate/key\n",
    "- not start the browser (since we want to connect from somewhere else)\n",
    "- we use port 8888. That's the default for jupiter, so leaving this out will not change something. But if you use a machine with more users trying to set up servers, you need to find one that is not in use. Leaving out the `--port` will cause jupyter to select the next available port (8889, 8890), but you need to then note that port."
   ]
  },
  {
   "cell_type": "markdown",
   "metadata": {},
   "source": [
    "I recommend to start the server in the home directory so that you have access to all your files. If you store your certificate/key somewhere else you need to give the appropriate path like `--certfile=/path/to/mycert.pem`."
   ]
  },
  {
   "cell_type": "markdown",
   "metadata": {
    "slideshow": {
     "slide_type": "subslide"
    }
   },
   "source": [
    "### Using a config file"
   ]
  },
  {
   "cell_type": "markdown",
   "metadata": {},
   "source": [
    "Instead of using this long command, you can also store your default settings in the configuration file. Here's the contents of `~/.jupyter/jupyter_notebook_config.py`:\n",
    "\n",
    "\tc.NotebookApp.certfile = u'/home/moon/USERNAME/jupyter_certs/jupyter/certs/ssl.cert.pem'\n",
    "\tc.NotebookApp.keyfile  = u'/home/moon/USERNAME/jupyter_certs/jupyter/private/ssl.key.pem'\n",
    "\tc.NotebookApp.ip = '129.187.204.168'\n",
    "\tc.NotebookApp.password = u'sha1:XXXXXXXXXXXXXXXXXXXXXXXXXXXXX'\n",
    "\tc.NotebookApp.open_browser = False\n",
    "\tc.NotebookApp.port = 8888\n",
    "\n",
    "Here, I set the IP to be the externally visible IP of the server. This way, just invoking `jupyter notebook` should be enough.\n",
    "\n",
    "A template configuration file can be created by calling\n",
    "\n",
    "    jupyter notebook --generate-config\n",
    "\n",
    "    Writing default config to: /Users/USERNAME/.jupyter/jupyter_notebook_config.py"
   ]
  },
  {
   "cell_type": "markdown",
   "metadata": {
    "slideshow": {
     "slide_type": "slide"
    }
   },
   "source": [
    "# Connect"
   ]
  },
  {
   "cell_type": "markdown",
   "metadata": {},
   "source": [
    "That was all we had to do on the remote host. We can now log out and try to connect. Again there are different ways:"
   ]
  },
  {
   "cell_type": "markdown",
   "metadata": {
    "slideshow": {
     "slide_type": "fragment"
    }
   },
   "source": [
    "- if your machine is globally visible, you can just go to a browser and enter\n",
    "\n",
    "        https://remote-server.de:8888\n",
    "    \n",
    "    where 8888 would be replaced with the port you are using."
   ]
  },
  {
   "cell_type": "markdown",
   "metadata": {
    "slideshow": {
     "slide_type": "subslide"
    }
   },
   "source": [
    "    \n",
    "- if your machine is not directly accessible, you can use an SSH tunnel to connect.\n",
    "\n",
    "        ssh -N -L 9999:localhost:8888 USERNAME@remote-server.de\n",
    "        \n",
    "    This command will not return the prompt or produce output. Again, you could keep it running in a `screen` session. This will open a tunnel from your local port 9999 (or whatever you want to use) to the port 8888 on the remote machine (where your server is running). Now you should be able to open this address in your browser:\n",
    "    \n",
    "        https://localhost:9999\n",
    "      "
   ]
  },
  {
   "cell_type": "markdown",
   "metadata": {
    "slideshow": {
     "slide_type": "fragment"
    }
   },
   "source": [
    "  \n",
    "**In both cases:** make sure you use `https` in the address if you use the certificats. `http` will not work and vice versa."
   ]
  },
  {
   "cell_type": "markdown",
   "metadata": {
    "slideshow": {
     "slide_type": "slide"
    }
   },
   "source": [
    "# Extras"
   ]
  },
  {
   "cell_type": "markdown",
   "metadata": {
    "slideshow": {
     "slide_type": "subslide"
    }
   },
   "source": [
    "### going through a Login Machine"
   ]
  },
  {
   "cell_type": "markdown",
   "metadata": {},
   "source": [
    "If you cannot login directly to your machine, you need to tunnel to it:\n",
    "    \n",
    "    ssh -L 9999:TARGETHOSTNAME:8888 -N USERNAME@LOGINMACHINE.de\n",
    "\n",
    "So this means:\n",
    "\n",
    "    ____________________________       __________________      __________________________\n",
    "    | your computer, Port 9999 |  ---> |  LOGINMACHINE  | ---> | TARGET HOST, Port 8888 |\n",
    "    ____________________________       __________________      __________________________\n",
    "                                        visible to world        hidden behind LOGINMACHINE"
   ]
  },
  {
   "cell_type": "markdown",
   "metadata": {
    "slideshow": {
     "slide_type": "subslide"
    }
   },
   "source": [
    "### Remote terminal only"
   ]
  },
  {
   "cell_type": "markdown",
   "metadata": {},
   "source": [
    "If you prefer working just in the IPython console, you can do that also remotely\n",
    "\n",
    "1. start a kernel\n",
    "\n",
    "        ipython kernel\n",
    "        \n",
    "\tnote the `kernel-XXXX.json` name that is printed to screen. It contains the connection info.\n",
    "\n",
    "2. on local machine, download that file:\n",
    "\n",
    "        scp USER@REMOTEMACHINE.de:~/.ipython/profile_default/security/kernel-*.json .\n",
    "\t\t\n",
    "\tif it's not there, it's in `jupyter --runtime-dir`\n",
    "\t\t\n",
    "\tand then connect to the right kernel file if there are several\n",
    "\t\n",
    "\t\tjupyter qtconsole --existing /Users/USERNAME/kernel-XXXXX.json --ssh USERNAME@REMOTEMACHINE.de"
   ]
  },
  {
   "cell_type": "markdown",
   "metadata": {
    "slideshow": {
     "slide_type": "subslide"
    }
   },
   "source": [
    "### Jupyter Lab"
   ]
  },
  {
   "cell_type": "markdown",
   "metadata": {},
   "source": [
    "If you haven't tried it yet, replace\n",
    "\n",
    "    jupyter notebook\n",
    "    \n",
    "with\n",
    "\n",
    "    jupyter lab\n",
    "\n",
    "Jupyter Lab is a single browser-window interface to a notebook server. It's much more user-friendly and a much cleaner interface. <span style=\"color:rgb(50,50,50)\">Just interactive figures do not work so well yet.</span>\n",
    "\n",
    "It's part of anaconda already, or you quickly install it with `pip install jupyterlab`."
   ]
  },
  {
   "cell_type": "markdown",
   "metadata": {},
   "source": [
    "<img src=\"https://jupyterlab.readthedocs.io/en/stable/_images/jupyterlab.png\" width=50%/>"
   ]
  },
  {
   "cell_type": "markdown",
   "metadata": {
    "slideshow": {
     "slide_type": "subslide"
    }
   },
   "source": [
    "### Jupyter Hub"
   ]
  },
  {
   "cell_type": "markdown",
   "metadata": {},
   "source": [
    "For multi-user environments, I recommend having a look at [Jupyter Hub](https://jupyter.org/hub). This is a structure on top of the notebook server where (for example) every user of the machine can start their own server. One can also allow other users to register/log in, for example for classes or tutorials. Setup can be challenging. Simplest setup is probably [this one](http://tljh.jupyter.org/en/latest/)."
   ]
  },
  {
   "cell_type": "markdown",
   "metadata": {
    "slideshow": {
     "slide_type": "subslide"
    }
   },
   "source": [
    "### iOS\n",
    "\n",
    "There is an app for jupyter. It works great if you have a keyboard, apart from the missing <kbd>ESC</kbd> Key. To get it running you need to either use SSH forwarding, or follow these instructions to install a self-signed certificate on your iOS device:\n",
    "\n",
    "    https://juno.sh/ssl-self-signed-cert/"
   ]
  },
  {
   "cell_type": "markdown",
   "metadata": {
    "slideshow": {
     "slide_type": "subslide"
    }
   },
   "source": [
    "### Browser Tab"
   ]
  },
  {
   "cell_type": "markdown",
   "metadata": {},
   "source": [
    "I found it helpful to rename the browser tab if I am connected to several notebook servers in different tabs. You can do that by executing this in one of the notebook cells:\n",
    "```javascript\n",
    "%%javascript  \n",
    "document.title='GustlLab'\n",
    "```"
   ]
  },
  {
   "cell_type": "code",
   "execution_count": null,
   "metadata": {
    "slideshow": {
     "slide_type": "skip"
    }
   },
   "outputs": [],
   "source": [
    "!jupyter nbconvert --to slides --post serve remote_jupyter.ipynb"
   ]
  }
 ],
 "metadata": {
  "kernelspec": {
   "display_name": "Python 3",
   "language": "python",
   "name": "python3"
  },
  "language_info": {
   "codemirror_mode": {
    "name": "ipython",
    "version": 3
   },
   "file_extension": ".py",
   "mimetype": "text/x-python",
   "name": "python",
   "nbconvert_exporter": "python",
   "pygments_lexer": "ipython3",
   "version": "3.7.4"
  }
 },
 "nbformat": 4,
 "nbformat_minor": 4
}
