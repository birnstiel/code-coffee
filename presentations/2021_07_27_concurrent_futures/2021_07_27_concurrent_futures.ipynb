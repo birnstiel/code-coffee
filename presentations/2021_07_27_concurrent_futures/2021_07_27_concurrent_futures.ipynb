{
 "cells": [
  {
   "cell_type": "markdown",
   "metadata": {},
   "source": [
    "# A \"Baby\" Example \n",
    "\n",
    "In this notebook, I show a very stripped-down version of the methodology I use to do some processes in parallel using concurrent.futures. This is based on the example in Corey Schafer's video on YouTube (see Resources slide for vid and timestamp). \n",
    "\n",
    "I first show a process done in serial: I wait a successive number of seconds and then print the elapsed time. I then parallelize this process, which should take a fraction of the time."
   ]
  },
  {
   "cell_type": "code",
   "execution_count": 23,
   "metadata": {},
   "outputs": [],
   "source": [
    "# Let's get all our imports out of the way\n",
    "import concurrent.futures\n",
    "import time"
   ]
  },
  {
   "cell_type": "markdown",
   "metadata": {},
   "source": [
    "## Serial version "
   ]
  },
  {
   "cell_type": "code",
   "execution_count": 31,
   "metadata": {},
   "outputs": [
    {
     "output_type": "stream",
     "name": "stdout",
     "text": [
      "Sleeping 0 seconds\n",
      "Sleeping 1 seconds\n",
      "Sleeping 2 seconds\n",
      "Sleeping 3 seconds\n",
      "Sleeping 4 seconds\n",
      "Sleeping 5 seconds\n",
      "Sleeping 6 seconds\n",
      "Sleeping 7 seconds\n",
      "Sleeping 8 seconds\n",
      "Sleeping 9 seconds\n",
      "Sleeping 10 seconds\n",
      "CPU times: user 24.7 ms, sys: 0 ns, total: 24.7 ms\n",
      "Wall time: 55.1 s\n"
     ]
    }
   ],
   "source": [
    "%%time\n",
    "\n",
    "# Create a range of times you want to wait\n",
    "max     = 10\n",
    "elapsed = range(max + 1)\n",
    "\n",
    "# Time how long it takes to sleep: 1 + 2 + 3 + ... + 10 sec\n",
    "# Should take: 55 seconds\n",
    "for second in elapsed:\n",
    "    print(f'Sleeping {second} seconds')\n",
    "    time.sleep(second)"
   ]
  },
  {
   "cell_type": "markdown",
   "metadata": {},
   "source": [
    "## Parallel version"
   ]
  },
  {
   "cell_type": "code",
   "execution_count": 49,
   "metadata": {},
   "outputs": [],
   "source": [
    "# Create a function meant to be done in parallel\n",
    "def hurry_up_and_wait(elapsed):\n",
    "    # \"Extract\" the relevant time\n",
    "    second = elapsed\n",
    "\n",
    "    # Sleep \n",
    "    time.sleep(second)\n",
    "    \n",
    "    # Return the result\n",
    "    return f'Slept {second} seconds'\n"
   ]
  },
  {
   "cell_type": "code",
   "execution_count": 50,
   "metadata": {},
   "outputs": [
    {
     "output_type": "stream",
     "name": "stdout",
     "text": [
      "Slept 0 seconds\n",
      "Slept 1 seconds\n",
      "Slept 2 seconds\n",
      "Slept 3 seconds\n",
      "Slept 4 seconds\n",
      "Slept 5 seconds\n",
      "Slept 6 seconds\n",
      "Slept 7 seconds\n",
      "Slept 8 seconds\n",
      "Slept 9 seconds\n",
      "Slept 10 seconds\n",
      "CPU times: user 0 ns, sys: 1.83 s, total: 1.83 s\n",
      "Wall time: 12.2 s\n"
     ]
    }
   ],
   "source": [
    "%%time\n",
    "# Specify the type of Excutor to use (ProcessPool) and how many workers (10)\n",
    "with concurrent.futures.ProcessPoolExecutor(max_workers = 10) as executor:\n",
    "    max     = 10\n",
    "    elapsed = range(0, max + 1)  \n",
    "    \n",
    "    # Map the parameter list to number of processors specified in executor   \n",
    "    results = executor.map(hurry_up_and_wait, elapsed)\n",
    "\n",
    "    # See the results in order \n",
    "    for result in results:\n",
    "        print(result)\n"
   ]
  },
  {
   "cell_type": "code",
   "execution_count": null,
   "metadata": {},
   "outputs": [],
   "source": []
  }
 ],
 "metadata": {
  "kernelspec": {
   "name": "python3",
   "display_name": "Python 3.8.3 64-bit"
  },
  "language_info": {
   "codemirror_mode": {
    "name": "ipython",
    "version": 3
   },
   "file_extension": ".py",
   "mimetype": "text/x-python",
   "name": "python",
   "nbconvert_exporter": "python",
   "pygments_lexer": "ipython3",
   "version": "3.8.3"
  },
  "orig_nbformat": 2,
  "interpreter": {
   "hash": "446f61908ace175feaf903f3617829454fead436afbe00184b1dfcdb6b315f40"
  }
 },
 "nbformat": 4,
 "nbformat_minor": 2
}