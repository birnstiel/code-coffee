{
 "cells": [
  {
   "cell_type": "markdown",
   "metadata": {},
   "source": [
    "![](https://logovectordl.com/wp-content/uploads/2020/11/julia-computing-logo-vector.png)\n",
    "\n",
    "# Julia 1.7"
   ]
  },
  {
   "cell_type": "markdown",
   "metadata": {},
   "source": [
    "# What is Julia?\n",
    "\n",
    "A dynamically typed, just-in-time (JIT) compiled programming language.\n",
    "\n",
    "Focus:\n",
    "- Fast and easy development\n",
    "- High Performance Computing (HPC)\n",
    "- Parallelisation\n",
    "- Scalability\n",
    "- Visualisation\n",
    "- STEM\n",
    "- Machine Learning\n",
    "\n",
    "Modern Language features:\n",
    "- Excellent package system\n",
    "- Portable environments\n",
    "- Built-in Documentation and Testing system\n",
    "- Metaprogramming (code that generates new code)\n",
    "- Very good interplay with git\n",
    "\n",
    "\n",
    "## Why should I care?\n",
    "\n",
    "One possible solution to the Two-Language Problem"
   ]
  },
  {
   "cell_type": "markdown",
   "metadata": {},
   "source": [
    "### \"Typical\" C/C++, Fortran workflow:\n",
    "\n",
    "- Delevopment (Language 1)\n",
    "    - Optimal performance (almost) out of the box\n",
    "    - Can be slow progress\n",
    "    - Tedious for small tasks\n",
    "- Analysis (Language 2)\n",
    "    - Post-processing of results\n",
    "    - Plotting\n",
    "    - etc."
   ]
  },
  {
   "cell_type": "markdown",
   "metadata": {},
   "source": [
    "### \"Typical\" Python workflow: \n",
    "\n",
    "- Development (Language 1)\n",
    "    - Quick and easy!\n",
    "    - Pure Python (VERY slow)\n",
    "    - Numpy/Pandas (aka. C/C++ backend)\n",
    "- Performance improvement (Language 2)\n",
    "    - Replace performance-relevant code with C/C++, Fortran\n",
    "    - (alternative: Add Numba decorators)"
   ]
  },
  {
   "cell_type": "markdown",
   "metadata": {},
   "source": [
    "### \"Typical\" Julia workflow:\n",
    "\n",
    "- Development (Language 1)\n",
    "    - Quick and easy!\n",
    "    - Pure Julia (already quite fast)\n",
    "- Performance improvement (Language 1)\n",
    "    - remove safety-nets (quick)\n",
    "    - make parallel (quick)\n",
    "- Analysis (Language 1)\n",
    "    - Post-processing\n",
    "    - Plotting\n",
    "    - etc."
   ]
  },
  {
   "cell_type": "markdown",
   "metadata": {},
   "source": [
    "# Syntax"
   ]
  },
  {
   "cell_type": "markdown",
   "metadata": {},
   "source": [
    "## IO"
   ]
  },
  {
   "cell_type": "code",
   "execution_count": 2,
   "metadata": {},
   "outputs": [
    {
     "name": "stdout",
     "output_type": "stream",
     "text": [
      "Hello, World!\n",
      "Hello, World!\n",
      "x = 1.0\n"
     ]
    }
   ],
   "source": [
    "print(\"Hello, World!\\n\")    # optional line-break\n",
    "println(\"Hello, World!\")    # line-break included\n",
    "\n",
    "x = 1.0\n",
    "println(\"x = $x\")           # use (unformatted) variable in string"
   ]
  },
  {
   "cell_type": "code",
   "execution_count": 3,
   "metadata": {},
   "outputs": [
    {
     "data": {
      "text/plain": [
       "\"003\""
      ]
     },
     "metadata": {},
     "output_type": "display_data"
    }
   ],
   "source": [
    "# formatted output\n",
    "using Printf     # import package\n",
    "\n",
    "i = 3\n",
    "@sprintf(\"%03i\", i)   # macro"
   ]
  },
  {
   "cell_type": "markdown",
   "metadata": {},
   "source": [
    "## Variables"
   ]
  },
  {
   "cell_type": "code",
   "execution_count": 4,
   "metadata": {},
   "outputs": [
    {
     "name": "stdout",
     "output_type": "stream",
     "text": [
      "Float64\n",
      "Int64\n",
      "Bool\n",
      "k = 3.0 (Float64)\n",
      "Bool\n"
     ]
    }
   ],
   "source": [
    "# optionally typed -> default is 64-bit!\n",
    "x = 1.0\n",
    "y = 2\n",
    "z = true\n",
    "\n",
    "println(typeof(x))\n",
    "println(typeof(y))\n",
    "println(typeof(z))\n",
    "\n",
    "k = x + y\n",
    "println(\"k = $k ($(typeof(k)))\")\n",
    "\n",
    "# dynamically typed -> variables can change type\n",
    "x = true\n",
    "println(typeof(x))"
   ]
  },
  {
   "cell_type": "code",
   "execution_count": 5,
   "metadata": {},
   "outputs": [
    {
     "name": "stdout",
     "output_type": "stream",
     "text": [
      "Float32\n",
      "Float32\n",
      "Float32\n"
     ]
    }
   ],
   "source": [
    "# force type in declaration\n",
    "x = 1.0f0\n",
    "y = Float32(1.0)    # parse to function\n",
    "z = 1.0 |> Float32  # pipe to function\n",
    "\n",
    "println(typeof(x))\n",
    "println(typeof(y))\n",
    "println(typeof(z))"
   ]
  },
  {
   "cell_type": "code",
   "execution_count": 6,
   "metadata": {},
   "outputs": [
    {
     "name": "stdout",
     "output_type": "stream",
     "text": [
      "Float32\n"
     ]
    }
   ],
   "source": [
    "# force type in function\n",
    "function declare_f32(x)\n",
    "    y::Float32 = x\n",
    "    return y\n",
    "end\n",
    "x = declare_f32(1.0)\n",
    "println(typeof(x))"
   ]
  },
  {
   "cell_type": "code",
   "execution_count": 7,
   "metadata": {},
   "outputs": [
    {
     "name": "stdout",
     "output_type": "stream",
     "text": [
      "Float32\n"
     ]
    }
   ],
   "source": [
    "# variable types in function arguments are optional\n",
    "function declare_f64_to_f32(x::Float64)\n",
    "    y::Float32 = x\n",
    "    return y\n",
    "end\n",
    "x = declare_f64_to_f32(1.0)\n",
    "println(typeof(x))"
   ]
  },
  {
   "cell_type": "markdown",
   "metadata": {},
   "source": [
    "## Utf-8 support"
   ]
  },
  {
   "cell_type": "code",
   "execution_count": 8,
   "metadata": {},
   "outputs": [
    {
     "name": "stdout",
     "output_type": "stream",
     "text": [
      "2π = 6.283185307179586\n",
      "12.566370614359172\n",
      "false\n"
     ]
    }
   ],
   "source": [
    "# utf support with LaTeX syntax\n",
    "# constants \n",
    "println(\"2π = $(2π)\")  \n",
    "\n",
    "# variable\n",
    "ξ = 1.0\n",
    "Δ = 4π * ξ\n",
    "println(Δ)\n",
    "\n",
    "# emoticons -> the cake is a lie\n",
    "🥧 = false\n",
    "println(🥧)"
   ]
  },
  {
   "cell_type": "markdown",
   "metadata": {},
   "source": [
    "## Loops"
   ]
  },
  {
   "cell_type": "code",
   "execution_count": 10,
   "metadata": {},
   "outputs": [
    {
     "name": "stdout",
     "output_type": "stream",
     "text": [
      "i = 1\n",
      "i = 2\n",
      "i = 3\n",
      "i = 4\n",
      "i = 5\n",
      "i = 6\n",
      "i = 7\n",
      "i = 8\n",
      "i = 9\n",
      "i = 10\n"
     ]
    }
   ],
   "source": [
    "# standard for loop\n",
    "for i = 1:10\n",
    "    println(\"i = $i\")   # indentation not relevant!\n",
    "end                     # end is used instead"
   ]
  },
  {
   "cell_type": "code",
   "execution_count": 13,
   "metadata": {},
   "outputs": [
    {
     "name": "stdout",
     "output_type": "stream",
     "text": [
      "val = 1\n",
      "val = 4\n",
      "val = 6\n",
      "val = 8\n"
     ]
    }
   ],
   "source": [
    "# loop over entries\n",
    "values = [1, 4, 6, 8]\n",
    "for val ∈ values  # equivalent to 'for val in values'\n",
    "    println(\"val = $val\")\n",
    "end"
   ]
  },
  {
   "cell_type": "code",
   "execution_count": 14,
   "metadata": {},
   "outputs": [
    {
     "name": "stdout",
     "output_type": "stream",
     "text": [
      "i = 1, j = 1\n",
      "i = 1, j = 2\n",
      "i = 1, j = 3\n",
      "i = 2, j = 1\n",
      "i = 2, j = 2\n",
      "i = 2, j = 3\n"
     ]
    }
   ],
   "source": [
    "# nested loops can be written in one line\n",
    "for i = 1:2, j = 1:3\n",
    "    println(\"i = $i, j = $j\")\n",
    "end"
   ]
  },
  {
   "cell_type": "markdown",
   "metadata": {},
   "source": [
    "## If statements\n",
    "\n",
    "### Logic statements can be bracketing"
   ]
  },
  {
   "cell_type": "code",
   "execution_count": 69,
   "metadata": {},
   "outputs": [
    {
     "name": "stdout",
     "output_type": "stream",
     "text": [
      "x is not in range!\n"
     ]
    }
   ],
   "source": [
    "x = 5.0\n",
    "\n",
    "if 1.0 <= x <= 3.0\n",
    "    println(\"x is in range!\")\n",
    "else\n",
    "    println(\"x is not in range!\")\n",
    "end\n"
   ]
  },
  {
   "cell_type": "markdown",
   "metadata": {},
   "source": [
    "## Arrays\n",
    "\n",
    "### Trigger warning: Julia is 1-indexed"
   ]
  },
  {
   "cell_type": "code",
   "execution_count": 17,
   "metadata": {},
   "outputs": [
    {
     "name": "stdout",
     "output_type": "stream",
     "text": [
      "1.0\n"
     ]
    },
    {
     "data": {
      "text/plain": [
       "3-element Vector{Float64}:\n",
       " 6.89818897568316e-310\n",
       " 6.89818897568316e-310\n",
       " 5.0e-324"
      ]
     },
     "metadata": {},
     "output_type": "display_data"
    }
   ],
   "source": [
    "# Vectors\n",
    "a = [1.0, 2.0, 3.0]            # \"by hand\"\n",
    "b = zeros(3)                   # bulk definition\n",
    "c = ones(3)\n",
    "\n",
    "println(c[1])\n",
    "\n",
    "# define datatype\n",
    "d = Vector{Float64}(undef, 3)  # pure memory allocation (faster!)\n",
    "e = Array{Float64,1}(undef, 3) # 1D Array is equivalent to Vector"
   ]
  },
  {
   "cell_type": "markdown",
   "metadata": {},
   "source": [
    "## Matrices\n",
    "\n",
    "### Trigger warning: Julia is column major order, like Fortran!"
   ]
  },
  {
   "cell_type": "code",
   "execution_count": 18,
   "metadata": {},
   "outputs": [
    {
     "data": {
      "text/plain": [
       "3×3 Matrix{Float64}:\n",
       " 1.5e-323      5.4e-323      6.4e-323\n",
       " 5.0e-324      1.0e-323      1.0e-323\n",
       " 6.36599e-314  6.36599e-314  6.36599e-314"
      ]
     },
     "metadata": {},
     "output_type": "display_data"
    }
   ],
   "source": [
    "A = [ 1.0 2.0 3.0\n",
    "      4.0 5.0 6.0 \n",
    "      7.0 8.0 9.0 ]                # \"by hand\"\n",
    "\n",
    "B = zeros(3,3)                     # in bulk\n",
    "C = ones(3,3)\n",
    "\n",
    "D = Matrix{Float64}(undef, 3, 3)   # pure memory allocation (faster!)\n",
    "E = Array{Float64,2}(undef, 3, 3)  # 2D Array is equivalent to Matrix"
   ]
  },
  {
   "cell_type": "code",
   "execution_count": 23,
   "metadata": {},
   "outputs": [
    {
     "name": "stdout",
     "output_type": "stream",
     "text": [
      "[1.0 2.0 2.0; 1.0 2.0 2.0; 1.0 2.0 2.0]\n"
     ]
    },
    {
     "data": {
      "text/plain": [
       "3×3 Matrix{Float64}:\n",
       " 1.0   8.0  14.0\n",
       " 2.0  10.0  16.0\n",
       " 3.0  12.0  18.0"
      ]
     },
     "metadata": {},
     "output_type": "display_data"
    }
   ],
   "source": [
    "# assign element wise\n",
    "B .= 2.0\n",
    "@. B = 2.0\n",
    "B[:,1] .= 1.0\n",
    "\n",
    "println(B)\n",
    "\n",
    "# transposed multiplication\n",
    "A' .* B"
   ]
  },
  {
   "cell_type": "markdown",
   "metadata": {},
   "source": [
    "## Functions"
   ]
  },
  {
   "cell_type": "code",
   "execution_count": 24,
   "metadata": {},
   "outputs": [
    {
     "data": {
      "text/plain": [
       "g (generic function with 1 method)"
      ]
     },
     "metadata": {},
     "output_type": "display_data"
    }
   ],
   "source": [
    "# inline functions\n",
    "f(a, b) = a + b\n",
    "\n",
    "# standard function\n",
    "function g(a, b)\n",
    "    a + b   # return optional!\n",
    "end"
   ]
  },
  {
   "cell_type": "code",
   "execution_count": 26,
   "metadata": {},
   "outputs": [
    {
     "data": {
      "text/plain": [
       "3.0"
      ]
     },
     "metadata": {},
     "output_type": "display_data"
    }
   ],
   "source": [
    "g(1.0, 2.0)"
   ]
  },
  {
   "cell_type": "code",
   "execution_count": 27,
   "metadata": {},
   "outputs": [
    {
     "data": {
      "text/plain": [
       "g (generic function with 2 methods)"
      ]
     },
     "metadata": {},
     "output_type": "display_data"
    }
   ],
   "source": [
    "# optionally typed! -> \"multiple dispatch\"\n",
    "g(a::Complex, b::Complex) = println(\"I'm adding complex numbers! \\n$(a + b)\")"
   ]
  },
  {
   "cell_type": "code",
   "execution_count": 28,
   "metadata": {},
   "outputs": [
    {
     "name": "stdout",
     "output_type": "stream",
     "text": [
      "I'm adding complex numbers! \n",
      "3.0 + 1.0im\n"
     ]
    },
    {
     "data": {
      "text/plain": [
       "3.0"
      ]
     },
     "metadata": {},
     "output_type": "display_data"
    }
   ],
   "source": [
    "# define complex numbers\n",
    "c1 = 1.0 + 0im\n",
    "c2 = 2.0 + 1.0im\n",
    "\n",
    "# call function for complex numbers\n",
    "g(c1, c2)\n",
    "\n",
    "# call function for all other numbers\n",
    "g(1.0, 2.0)"
   ]
  },
  {
   "cell_type": "code",
   "execution_count": 64,
   "metadata": {},
   "outputs": [
    {
     "data": {
      "text/plain": [
       "h (generic function with 1 method)"
      ]
     },
     "metadata": {},
     "output_type": "display_data"
    }
   ],
   "source": [
    "# definition for only a specific datatype\n",
    "h(a::Int64, b::Int64) = a + b"
   ]
  },
  {
   "cell_type": "code",
   "execution_count": 66,
   "metadata": {},
   "outputs": [
    {
     "data": {
      "text/plain": [
       "3"
      ]
     },
     "metadata": {},
     "output_type": "display_data"
    }
   ],
   "source": [
    "# this works\n",
    "h(1, 2)"
   ]
  },
  {
   "cell_type": "code",
   "execution_count": 67,
   "metadata": {},
   "outputs": [
    {
     "ename": "MethodError",
     "evalue": "MethodError: no method matching h(::Float64, ::Float64)",
     "output_type": "error",
     "traceback": [
      "MethodError: no method matching h(::Float64, ::Float64)\n",
      "\n",
      "Stacktrace:\n",
      "  [1] top-level scope\n",
      "    @ /e/ocean2/users/lboess/Code_Coffee/Jan_22/presentation.ipynb:2\n",
      "  [2] eval\n",
      "    @ ./boot.jl:373 [inlined]\n",
      "  [3] include_string(mapexpr::typeof(REPL.softscope), mod::Module, code::String, filename::String)\n",
      "    @ Base ./loading.jl:1196\n",
      "  [4] #invokelatest#2\n",
      "    @ ./essentials.jl:716 [inlined]\n",
      "  [5] invokelatest\n",
      "    @ ./essentials.jl:714 [inlined]\n",
      "  [6] (::VSCodeServer.var\"#150#151\"{VSCodeServer.NotebookRunCellArguments, String})()\n",
      "    @ VSCodeServer ~/.vscode-server/extensions/julialang.language-julia-1.5.9/scripts/packages/VSCodeServer/src/serve_notebook.jl:18\n",
      "  [7] withpath(f::VSCodeServer.var\"#150#151\"{VSCodeServer.NotebookRunCellArguments, String}, path::String)\n",
      "    @ VSCodeServer ~/.vscode-server/extensions/julialang.language-julia-1.5.9/scripts/packages/VSCodeServer/src/repl.jl:185\n",
      "  [8] notebook_runcell_request(conn::VSCodeServer.JSONRPC.JSONRPCEndpoint{Base.PipeEndpoint, Base.PipeEndpoint}, params::VSCodeServer.NotebookRunCellArguments)\n",
      "    @ VSCodeServer ~/.vscode-server/extensions/julialang.language-julia-1.5.9/scripts/packages/VSCodeServer/src/serve_notebook.jl:14\n",
      "  [9] dispatch_msg(x::VSCodeServer.JSONRPC.JSONRPCEndpoint{Base.PipeEndpoint, Base.PipeEndpoint}, dispatcher::VSCodeServer.JSONRPC.MsgDispatcher, msg::Dict{String, Any})\n",
      "    @ VSCodeServer.JSONRPC ~/.vscode-server/extensions/julialang.language-julia-1.5.9/scripts/packages/JSONRPC/src/typed.jl:67\n",
      " [10] serve_notebook(pipename::String; crashreporting_pipename::String)\n",
      "    @ VSCodeServer ~/.vscode-server/extensions/julialang.language-julia-1.5.9/scripts/packages/VSCodeServer/src/serve_notebook.jl:94\n",
      " [11] top-level scope\n",
      "    @ ~/.vscode-server/extensions/julialang.language-julia-1.5.9/scripts/notebook/notebook.jl:12\n",
      " [12] include(mod::Module, _path::String)\n",
      "    @ Base ./Base.jl:418\n",
      " [13] exec_options(opts::Base.JLOptions)\n",
      "    @ Base ./client.jl:292\n",
      " [14] _start()\n",
      "    @ Base ./client.jl:495"
     ]
    }
   ],
   "source": [
    "# this doesn't work\n",
    "h(1.0, 2.0)"
   ]
  },
  {
   "cell_type": "code",
   "execution_count": 62,
   "metadata": {},
   "outputs": [
    {
     "name": "stdout",
     "output_type": "stream",
     "text": [
      "MethodInstance for f(::Float64, ::Float64)\n",
      "  from f(a, b) in Main at /e/ocean2/users/lboess/Code_Coffee/Jan_22/presentation.ipynb:2\n",
      "Arguments\n",
      "  #self#\u001b[36m::Core.Const(f)\u001b[39m\n",
      "  a\u001b[36m::Float64\u001b[39m\n",
      "  b\u001b[36m::Float64\u001b[39m\n",
      "Body\u001b[36m::Float64\u001b[39m\n",
      "\u001b[90m1 ─\u001b[39m %1 = (a + b)\u001b[36m::Float64\u001b[39m\n",
      "\u001b[90m└──\u001b[39m      return %1\n",
      "\n"
     ]
    }
   ],
   "source": [
    "# check for type stability\n",
    "@code_warntype f(1.0, 2.0)"
   ]
  },
  {
   "cell_type": "code",
   "execution_count": 63,
   "metadata": {},
   "outputs": [
    {
     "name": "stdout",
     "output_type": "stream",
     "text": [
      "\t\u001b[0m.text\n",
      "\u001b[90m; ┌ @ presentation.ipynb:2 within `f`\u001b[39m\n",
      "\u001b[90m; │┌ @ float.jl:399 within `+`\u001b[39m\n",
      "\t\u001b[96m\u001b[1mvaddsd\u001b[22m\u001b[39m\t\u001b[0m%xmm1\u001b[0m, \u001b[0m%xmm0\u001b[0m, \u001b[0m%xmm0\n",
      "\u001b[90m; │└\u001b[39m\n",
      "\t\u001b[96m\u001b[1mretq\u001b[22m\u001b[39m\n",
      "\t\u001b[96m\u001b[1mnopw\u001b[22m\u001b[39m\t\u001b[0m%cs\u001b[0m:\u001b[33m(\u001b[39m\u001b[0m%rax\u001b[0m,\u001b[0m%rax\u001b[33m)\u001b[39m\n",
      "\u001b[90m; └\u001b[39m\n"
     ]
    }
   ],
   "source": [
    "# look at assembler code\n",
    "@code_native f(1.0, 2.0)"
   ]
  },
  {
   "cell_type": "code",
   "execution_count": 29,
   "metadata": {},
   "outputs": [
    {
     "data": {
      "text/plain": [
       "6.0"
      ]
     },
     "metadata": {},
     "output_type": "display_data"
    }
   ],
   "source": [
    "# also utf support\n",
    "Σ(x) = sum(x)    # \"function overload\"\n",
    "\n",
    "data = [1.0, 2.0, 3.0]\n",
    "Σ(data)"
   ]
  },
  {
   "cell_type": "markdown",
   "metadata": {},
   "source": [
    "# Ecosystem\n",
    "## Shell\n",
    "\n",
    "In REPL type \" ; \"\n",
    "\n",
    "In code use:"
   ]
  },
  {
   "cell_type": "code",
   "execution_count": 30,
   "metadata": {},
   "outputs": [
    {
     "data": {
      "text/plain": [
       "\"/e/ocean2/users/lboess/Code_Coffee/Jan_22\""
      ]
     },
     "metadata": {},
     "output_type": "display_data"
    }
   ],
   "source": [
    "cd(@__DIR__)    # change to directory of current file\n",
    "pwd()           "
   ]
  },
  {
   "cell_type": "markdown",
   "metadata": {},
   "source": [
    "## Package Manager\n",
    "\n",
    "In REPL type \" ] \"\n",
    "\n",
    "In code use:"
   ]
  },
  {
   "cell_type": "markdown",
   "metadata": {},
   "source": [
    "```julia\n",
    "using Pkg\n",
    "Pkg.add(\"CairoMakie\")\n",
    "```"
   ]
  },
  {
   "cell_type": "markdown",
   "metadata": {},
   "source": [
    "## Environments"
   ]
  },
  {
   "cell_type": "code",
   "execution_count": 31,
   "metadata": {},
   "outputs": [
    {
     "name": "stderr",
     "output_type": "stream",
     "text": [
      "\u001b[32m\u001b[1m  Activating\u001b[22m\u001b[39m project at `/e/ocean2/users/lboess/Code_Coffee/Jan_22`\n"
     ]
    }
   ],
   "source": [
    "using Pkg\n",
    "Pkg.activate(\".\")\n",
    "Pkg.instantiate()  # installs all packages for you that I used in the talk"
   ]
  },
  {
   "cell_type": "code",
   "execution_count": 32,
   "metadata": {},
   "outputs": [
    {
     "name": "stdout",
     "output_type": "stream",
     "text": [
      "\u001b[32m\u001b[1m      Status\u001b[22m\u001b[39m `/e/ocean2/users/lboess/Code_Coffee/Jan_22/Project.toml` (empty project)\n"
     ]
    }
   ],
   "source": [
    "Pkg.status()"
   ]
  },
  {
   "cell_type": "code",
   "execution_count": 33,
   "metadata": {},
   "outputs": [
    {
     "name": "stderr",
     "output_type": "stream",
     "text": [
      "\u001b[32m\u001b[1m    Updating\u001b[22m\u001b[39m registry at `~/.julia/registries/General.toml`\n",
      "\u001b[32m\u001b[1m   Resolving\u001b[22m\u001b[39m package versions...\n",
      "\u001b[32m\u001b[1m    Updating\u001b[22m\u001b[39m `/e/ocean2/users/lboess/Code_Coffee/Jan_22/Project.toml`\n",
      " \u001b[90m [826b50da] \u001b[39m\u001b[92m+ GadgetIO v0.5.8\u001b[39m\n",
      "\u001b[32m\u001b[1m    Updating\u001b[22m\u001b[39m `/e/ocean2/users/lboess/Code_Coffee/Jan_22/Manifest.toml`\n",
      " \u001b[90m [a4c015fc] \u001b[39m\u001b[92m+ ANSIColoredPrinters v0.0.1\u001b[39m\n",
      " \u001b[90m [1520ce14] \u001b[39m\u001b[92m+ AbstractTrees v0.3.4\u001b[39m\n",
      " \u001b[90m [ffbed154] \u001b[39m\u001b[92m+ DocStringExtensions v0.8.6\u001b[39m\n",
      " \u001b[90m [e30172f5] \u001b[39m\u001b[92m+ Documenter v0.27.10\u001b[39m\n",
      " \u001b[90m [35a29f4d] \u001b[39m\u001b[92m+ DocumenterTools v0.1.13\u001b[39m\n",
      " \u001b[90m [826b50da] \u001b[39m\u001b[92m+ GadgetIO v0.5.8\u001b[39m\n",
      " \u001b[90m [708ec375] \u001b[39m\u001b[92m+ Gumbo v0.8.0\u001b[39m\n",
      " \u001b[90m [b5f81e59] \u001b[39m\u001b[92m+ IOCapture v0.2.2\u001b[39m\n",
      " \u001b[90m [692b3bcd] \u001b[39m\u001b[92m+ JLLWrappers v1.3.0\u001b[39m\n",
      " \u001b[90m [682c06a0] \u001b[39m\u001b[92m+ JSON v0.21.2\u001b[39m\n",
      " \u001b[90m [69de0a69] \u001b[39m\u001b[92m+ Parsers v2.1.3\u001b[39m\n",
      " \u001b[90m [21216c6a] \u001b[39m\u001b[92m+ Preferences v1.2.3\u001b[39m\n",
      " \u001b[90m [92933f4c] \u001b[39m\u001b[92m+ ProgressMeter v1.7.1\u001b[39m\n",
      " \u001b[90m [322a6be2] \u001b[39m\u001b[92m+ Sass v0.2.0\u001b[39m\n",
      " \u001b[90m [528830af] \u001b[39m\u001b[92m+ Gumbo_jll v0.10.2+0\u001b[39m\n",
      " \u001b[90m [47bcb7c8] \u001b[39m\u001b[92m+ libsass_jll v3.5.5+0\u001b[39m\n",
      " \u001b[90m [0dad84c5] \u001b[39m\u001b[92m+ ArgTools\u001b[39m\n",
      " \u001b[90m [56f22d72] \u001b[39m\u001b[92m+ Artifacts\u001b[39m\n",
      " \u001b[90m [2a0f44e3] \u001b[39m\u001b[92m+ Base64\u001b[39m\n",
      " \u001b[90m [ade2ca70] \u001b[39m\u001b[92m+ Dates\u001b[39m\n",
      " \u001b[90m [8bb1440f] \u001b[39m\u001b[92m+ DelimitedFiles\u001b[39m\n",
      " \u001b[90m [8ba89e20] \u001b[39m\u001b[92m+ Distributed\u001b[39m\n",
      " \u001b[90m [f43a241f] \u001b[39m\u001b[92m+ Downloads\u001b[39m\n",
      " \u001b[90m [7b1f6079] \u001b[39m\u001b[92m+ FileWatching\u001b[39m\n",
      " \u001b[90m [b77e0a4c] \u001b[39m\u001b[92m+ InteractiveUtils\u001b[39m\n",
      " \u001b[90m [b27032c2] \u001b[39m\u001b[92m+ LibCURL\u001b[39m\n",
      " \u001b[90m [76f85450] \u001b[39m\u001b[92m+ LibGit2\u001b[39m\n",
      " \u001b[90m [8f399da3] \u001b[39m\u001b[92m+ Libdl\u001b[39m\n",
      " \u001b[90m [37e2e46d] \u001b[39m\u001b[92m+ LinearAlgebra\u001b[39m\n",
      " \u001b[90m [56ddb016] \u001b[39m\u001b[92m+ Logging\u001b[39m\n",
      " \u001b[90m [d6f4376e] \u001b[39m\u001b[92m+ Markdown\u001b[39m\n",
      " \u001b[90m [a63ad114] \u001b[39m\u001b[92m+ Mmap\u001b[39m\n",
      " \u001b[90m [ca575930] \u001b[39m\u001b[92m+ NetworkOptions\u001b[39m\n",
      " \u001b[90m [44cfe95a] \u001b[39m\u001b[92m+ Pkg\u001b[39m\n",
      " \u001b[90m [de0858da] \u001b[39m\u001b[92m+ Printf\u001b[39m\n",
      " \u001b[90m [3fa0cd96] \u001b[39m\u001b[92m+ REPL\u001b[39m\n",
      " \u001b[90m [9a3f8284] \u001b[39m\u001b[92m+ Random\u001b[39m\n",
      " \u001b[90m [ea8e919c] \u001b[39m\u001b[92m+ SHA\u001b[39m\n",
      " \u001b[90m [9e88b42a] \u001b[39m\u001b[92m+ Serialization\u001b[39m\n",
      " \u001b[90m [6462fe0b] \u001b[39m\u001b[92m+ Sockets\u001b[39m\n",
      " \u001b[90m [fa267f1f] \u001b[39m\u001b[92m+ TOML\u001b[39m\n",
      " \u001b[90m [a4e569a6] \u001b[39m\u001b[92m+ Tar\u001b[39m\n",
      " \u001b[90m [8dfed614] \u001b[39m\u001b[92m+ Test\u001b[39m\n",
      " \u001b[90m [cf7118a7] \u001b[39m\u001b[92m+ UUIDs\u001b[39m\n",
      " \u001b[90m [4ec0a83e] \u001b[39m\u001b[92m+ Unicode\u001b[39m\n",
      " \u001b[90m [e66e0078] \u001b[39m\u001b[92m+ CompilerSupportLibraries_jll\u001b[39m\n",
      " \u001b[90m [deac9b47] \u001b[39m\u001b[92m+ LibCURL_jll\u001b[39m\n",
      " \u001b[90m [29816b5a] \u001b[39m\u001b[92m+ LibSSH2_jll\u001b[39m\n",
      " \u001b[90m [c8ffd9c3] \u001b[39m\u001b[92m+ MbedTLS_jll\u001b[39m\n",
      " \u001b[90m [14a3606d] \u001b[39m\u001b[92m+ MozillaCACerts_jll\u001b[39m\n",
      " \u001b[90m [4536629a] \u001b[39m\u001b[92m+ OpenBLAS_jll\u001b[39m\n",
      " \u001b[90m [83775a58] \u001b[39m\u001b[92m+ Zlib_jll\u001b[39m\n",
      " \u001b[90m [8e850b90] \u001b[39m\u001b[92m+ libblastrampoline_jll\u001b[39m\n",
      " \u001b[90m [8e850ede] \u001b[39m\u001b[92m+ nghttp2_jll\u001b[39m\n",
      " \u001b[90m [3f19e933] \u001b[39m\u001b[92m+ p7zip_jll\u001b[39m\n"
     ]
    }
   ],
   "source": [
    "Pkg.add(\"GadgetIO\")"
   ]
  },
  {
   "cell_type": "code",
   "execution_count": 34,
   "metadata": {},
   "outputs": [
    {
     "name": "stdout",
     "output_type": "stream",
     "text": [
      "\u001b[32m\u001b[1m      Status\u001b[22m\u001b[39m `/e/ocean2/users/lboess/Code_Coffee/Jan_22/Project.toml`\n",
      " \u001b[90m [826b50da] \u001b[39mGadgetIO v0.5.8\n"
     ]
    }
   ],
   "source": [
    "Pkg.status()"
   ]
  },
  {
   "cell_type": "markdown",
   "metadata": {},
   "source": [
    "## This creates 2 files:\n",
    "\n",
    "### Project.toml"
   ]
  },
  {
   "cell_type": "markdown",
   "metadata": {},
   "source": [
    "```julia\n",
    "[deps]\n",
    "GadgetIO = \"826b50da-1eb7-48f3-bd4b-d2350582c309\"\n",
    "```"
   ]
  },
  {
   "cell_type": "markdown",
   "metadata": {},
   "source": [
    "### Manifest.toml"
   ]
  },
  {
   "cell_type": "markdown",
   "metadata": {},
   "source": [
    "```julia\n",
    "\n",
    "julia_version = \"1.7.1\"\n",
    "manifest_format = \"2.0\"\n",
    "\n",
    "[...]\n",
    "\n",
    "[[deps.GadgetIO]]\n",
    "deps = [\"Dates\", \"DelimitedFiles\", \"Documenter\", \"DocumenterTools\", \"Downloads\", \"LinearAlgebra\", \"Printf\", \"ProgressMeter\", \"Test\"]\n",
    "git-tree-sha1 = \"2bdce0369aecda24f6da5af11e67873cd93355f1\"\n",
    "uuid = \"826b50da-1eb7-48f3-bd4b-d2350582c309\"\n",
    "version = \"0.5.8\"\n",
    "\n",
    "[...]\n",
    "\n",
    "[[deps.ProgressMeter]]\n",
    "deps = [\"Distributed\", \"Printf\"]\n",
    "git-tree-sha1 = \"afadeba63d90ff223a6a48d2009434ecee2ec9e8\"\n",
    "uuid = \"92933f4c-e287-5a05-a399-4b506db050ca\"\n",
    "version = \"1.7.1\"\n",
    "\n",
    "[[deps.REPL]]\n",
    "deps = [\"InteractiveUtils\", \"Markdown\", \"Sockets\", \"Unicode\"]\n",
    "uuid = \"3fa0cd96-eef1-5676-8a61-b3b8758bbffb\"\n",
    "\n",
    "[[deps.SHA]]\n",
    "uuid = \"ea8e919c-243c-51af-8825-aaa63cd721ce\"\n",
    "\n",
    "[[deps.Test]]\n",
    "deps = [\"InteractiveUtils\", \"Logging\", \"Random\", \"Serialization\"]\n",
    "uuid = \"8dfed614-e22c-5e08-85e1-65c5234f0b40\"\n",
    "\n",
    "[...]\n",
    "\n",
    "```"
   ]
  },
  {
   "cell_type": "markdown",
   "metadata": {},
   "source": [
    "## Portability:\n",
    "\n",
    "You can send the entire folder to someone and just add the lines\n",
    "\n",
    "```julia\n",
    "using Pkg\n",
    "Pkg.activate(\".\")\n",
    "Pkg.instantiate()\n",
    "```\n",
    "to the top of your `.jl` file. \n",
    "\n",
    "This will automatically install all required packages, down to the last commit."
   ]
  },
  {
   "cell_type": "markdown",
   "metadata": {},
   "source": [
    "### Cleanup"
   ]
  },
  {
   "cell_type": "code",
   "execution_count": 35,
   "metadata": {},
   "outputs": [
    {
     "name": "stderr",
     "output_type": "stream",
     "text": [
      "\u001b[32m\u001b[1m    Updating\u001b[22m\u001b[39m `/e/ocean2/users/lboess/Code_Coffee/Jan_22/Project.toml`\n",
      " \u001b[90m [826b50da] \u001b[39m\u001b[91m- GadgetIO v0.5.8\u001b[39m\n",
      "\u001b[32m\u001b[1m    Updating\u001b[22m\u001b[39m `/e/ocean2/users/lboess/Code_Coffee/Jan_22/Manifest.toml`\n",
      " \u001b[90m [a4c015fc] \u001b[39m\u001b[91m- ANSIColoredPrinters v0.0.1\u001b[39m\n",
      " \u001b[90m [1520ce14] \u001b[39m\u001b[91m- AbstractTrees v0.3.4\u001b[39m\n",
      " \u001b[90m [ffbed154] \u001b[39m\u001b[91m- DocStringExtensions v0.8.6\u001b[39m\n",
      " \u001b[90m [e30172f5] \u001b[39m\u001b[91m- Documenter v0.27.10\u001b[39m\n",
      " \u001b[90m [35a29f4d] \u001b[39m\u001b[91m- DocumenterTools v0.1.13\u001b[39m\n",
      " \u001b[90m [826b50da] \u001b[39m\u001b[91m- GadgetIO v0.5.8\u001b[39m\n",
      " \u001b[90m [708ec375] \u001b[39m\u001b[91m- Gumbo v0.8.0\u001b[39m\n",
      " \u001b[90m [b5f81e59] \u001b[39m\u001b[91m- IOCapture v0.2.2\u001b[39m\n",
      " \u001b[90m [692b3bcd] \u001b[39m\u001b[91m- JLLWrappers v1.3.0\u001b[39m\n",
      " \u001b[90m [682c06a0] \u001b[39m\u001b[91m- JSON v0.21.2\u001b[39m\n",
      " \u001b[90m [69de0a69] \u001b[39m\u001b[91m- Parsers v2.1.3\u001b[39m\n",
      " \u001b[90m [21216c6a] \u001b[39m\u001b[91m- Preferences v1.2.3\u001b[39m\n",
      " \u001b[90m [92933f4c] \u001b[39m\u001b[91m- ProgressMeter v1.7.1\u001b[39m\n",
      " \u001b[90m [322a6be2] \u001b[39m\u001b[91m- Sass v0.2.0\u001b[39m\n",
      " \u001b[90m [528830af] \u001b[39m\u001b[91m- Gumbo_jll v0.10.2+0\u001b[39m\n",
      " \u001b[90m [47bcb7c8] \u001b[39m\u001b[91m- libsass_jll v3.5.5+0\u001b[39m\n",
      " \u001b[90m [0dad84c5] \u001b[39m\u001b[91m- ArgTools\u001b[39m\n",
      " \u001b[90m [56f22d72] \u001b[39m\u001b[91m- Artifacts\u001b[39m\n",
      " \u001b[90m [2a0f44e3] \u001b[39m\u001b[91m- Base64\u001b[39m\n",
      " \u001b[90m [ade2ca70] \u001b[39m\u001b[91m- Dates\u001b[39m\n",
      " \u001b[90m [8bb1440f] \u001b[39m\u001b[91m- DelimitedFiles\u001b[39m\n",
      " \u001b[90m [8ba89e20] \u001b[39m\u001b[91m- Distributed\u001b[39m\n",
      " \u001b[90m [f43a241f] \u001b[39m\u001b[91m- Downloads\u001b[39m\n",
      " \u001b[90m [7b1f6079] \u001b[39m\u001b[91m- FileWatching\u001b[39m\n",
      " \u001b[90m [b77e0a4c] \u001b[39m\u001b[91m- InteractiveUtils\u001b[39m\n",
      " \u001b[90m [b27032c2] \u001b[39m\u001b[91m- LibCURL\u001b[39m\n",
      " \u001b[90m [76f85450] \u001b[39m\u001b[91m- LibGit2\u001b[39m\n",
      " \u001b[90m [8f399da3] \u001b[39m\u001b[91m- Libdl\u001b[39m\n",
      " \u001b[90m [37e2e46d] \u001b[39m\u001b[91m- LinearAlgebra\u001b[39m\n",
      " \u001b[90m [56ddb016] \u001b[39m\u001b[91m- Logging\u001b[39m\n",
      " \u001b[90m [d6f4376e] \u001b[39m\u001b[91m- Markdown\u001b[39m\n",
      " \u001b[90m [a63ad114] \u001b[39m\u001b[91m- Mmap\u001b[39m\n",
      " \u001b[90m [ca575930] \u001b[39m\u001b[91m- NetworkOptions\u001b[39m\n",
      " \u001b[90m [44cfe95a] \u001b[39m\u001b[91m- Pkg\u001b[39m\n",
      " \u001b[90m [de0858da] \u001b[39m\u001b[91m- Printf\u001b[39m\n",
      " \u001b[90m [3fa0cd96] \u001b[39m\u001b[91m- REPL\u001b[39m\n",
      " \u001b[90m [9a3f8284] \u001b[39m\u001b[91m- Random\u001b[39m\n",
      " \u001b[90m [ea8e919c] \u001b[39m\u001b[91m- SHA\u001b[39m\n",
      " \u001b[90m [9e88b42a] \u001b[39m\u001b[91m- Serialization\u001b[39m\n",
      " \u001b[90m [6462fe0b] \u001b[39m\u001b[91m- Sockets\u001b[39m\n",
      " \u001b[90m [fa267f1f] \u001b[39m\u001b[91m- TOML\u001b[39m\n",
      " \u001b[90m [a4e569a6] \u001b[39m\u001b[91m- Tar\u001b[39m\n",
      " \u001b[90m [8dfed614] \u001b[39m\u001b[91m- Test\u001b[39m\n",
      " \u001b[90m [cf7118a7] \u001b[39m\u001b[91m- UUIDs\u001b[39m\n",
      " \u001b[90m [4ec0a83e] \u001b[39m\u001b[91m- Unicode\u001b[39m\n",
      " \u001b[90m [e66e0078] \u001b[39m\u001b[91m- CompilerSupportLibraries_jll\u001b[39m\n",
      " \u001b[90m [deac9b47] \u001b[39m\u001b[91m- LibCURL_jll\u001b[39m\n",
      " \u001b[90m [29816b5a] \u001b[39m\u001b[91m- LibSSH2_jll\u001b[39m\n",
      " \u001b[90m [c8ffd9c3] \u001b[39m\u001b[91m- MbedTLS_jll\u001b[39m\n",
      " \u001b[90m [14a3606d] \u001b[39m\u001b[91m- MozillaCACerts_jll\u001b[39m\n",
      " \u001b[90m [4536629a] \u001b[39m\u001b[91m- OpenBLAS_jll\u001b[39m\n",
      " \u001b[90m [83775a58] \u001b[39m\u001b[91m- Zlib_jll\u001b[39m\n",
      " \u001b[90m [8e850b90] \u001b[39m\u001b[91m- libblastrampoline_jll\u001b[39m\n",
      " \u001b[90m [8e850ede] \u001b[39m\u001b[91m- nghttp2_jll\u001b[39m\n",
      " \u001b[90m [3f19e933] \u001b[39m\u001b[91m- p7zip_jll\u001b[39m\n"
     ]
    }
   ],
   "source": [
    "Pkg.rm(\"GadgetIO\")"
   ]
  },
  {
   "cell_type": "code",
   "execution_count": 36,
   "metadata": {},
   "outputs": [
    {
     "name": "stdout",
     "output_type": "stream",
     "text": [
      "\u001b[32m\u001b[1m      Status\u001b[22m\u001b[39m `/e/ocean2/users/lboess/Code_Coffee/Jan_22/Project.toml` (empty project)\n"
     ]
    }
   ],
   "source": [
    "Pkg.status()"
   ]
  },
  {
   "cell_type": "markdown",
   "metadata": {},
   "source": [
    "```julia\n",
    "# return to default environment\n",
    "Pkg.activate()   # without function arguments\n",
    "Pkg.status()\n",
    "```"
   ]
  },
  {
   "cell_type": "markdown",
   "metadata": {},
   "source": [
    "# Functional Programming\n",
    "\n",
    "## (OOP is dead, longe live OOP)"
   ]
  },
  {
   "cell_type": "markdown",
   "metadata": {},
   "source": [
    "### Object-Oriented Programming (OOP)\n",
    "\n",
    "Define objects that hold specific data and methods that perform specific operations."
   ]
  },
  {
   "cell_type": "code",
   "execution_count": null,
   "metadata": {},
   "outputs": [],
   "source": [
    "# simple Python example\n",
    "class Circle:\n",
    "\n",
    "    # data relevant for class\n",
    "    center = [0.0, 0.0]\n",
    "    radius = 0.0\n",
    "    # ...\n",
    "\n",
    "    # constructor of class\n",
    "    def __init__(center=[0.0, 0.0], radius=0.0):\n",
    "        self.center = center\n",
    "        self.radius = radius\n",
    "        # ...\n",
    "\n",
    "    # methods\n",
    "    def area(self):\n",
    "        return np.pi * self.radius**2\n",
    "\n",
    "    def center_plus5(self):\n",
    "        return self.center + 5"
   ]
  },
  {
   "cell_type": "code",
   "execution_count": null,
   "metadata": {},
   "outputs": [],
   "source": [
    "# simple Python example\n",
    "class Square:\n",
    "\n",
    "    # data relevant for class\n",
    "    center = [0.0, 0.0]\n",
    "    side = 0.0\n",
    "    # ...\n",
    "\n",
    "    # constructor of class\n",
    "    def __init__(center=[0.0, 0.0], side=0.0):\n",
    "        self.center = center\n",
    "        self.side = side\n",
    "        # ...\n",
    "\n",
    "    # methods\n",
    "    def area(self):\n",
    "        return self.side**2\n",
    "\n",
    "    # re-implementation (if no logical inheritance possible)\n",
    "    def center_plus5(self):\n",
    "        return self.center + 5"
   ]
  },
  {
   "cell_type": "markdown",
   "metadata": {},
   "source": [
    "## Functional programming\n",
    "\n",
    "Define objects that (only!) hold data and functions that (only!) operate on data"
   ]
  },
  {
   "cell_type": "markdown",
   "metadata": {},
   "source": [
    "### Data types"
   ]
  },
  {
   "cell_type": "code",
   "execution_count": 38,
   "metadata": {},
   "outputs": [],
   "source": [
    "# abstract type only for \"inheritance\"\n",
    "# -> type structure is based on set theory\n",
    "abstract type AbstractShape end"
   ]
  },
  {
   "cell_type": "code",
   "execution_count": 39,
   "metadata": {},
   "outputs": [],
   "source": [
    "# Circle as a subtype of AbstractShape\n",
    "# struct -> all data constant!\n",
    "struct Circle{T} <: AbstractShape\n",
    "    center::Vector{T}\n",
    "    radius::T\n",
    "end"
   ]
  },
  {
   "cell_type": "code",
   "execution_count": 40,
   "metadata": {},
   "outputs": [
    {
     "data": {
      "text/plain": [
       "Circle{Float64}([0.5, 1.0], 1.0)"
      ]
     },
     "metadata": {},
     "output_type": "display_data"
    }
   ],
   "source": [
    "# initialize Circle with values (\"constructor\" implicit)\n",
    "circle = Circle([0.5, 1.0], 1.0)"
   ]
  },
  {
   "cell_type": "code",
   "execution_count": 41,
   "metadata": {},
   "outputs": [
    {
     "data": {
      "text/plain": [
       "Square"
      ]
     },
     "metadata": {},
     "output_type": "display_data"
    }
   ],
   "source": [
    "# Square as a subtype of AbstractShape\n",
    "struct Square{T} <: AbstractShape\n",
    "    center::Vector{T}\n",
    "    side::T\n",
    "end\n",
    " \n",
    "# \"constructor\" of datatype, only required for special initialisation\n",
    "function Square(center::Vector{T} = [0.0, 0.0],\n",
    "                side::T = 1.0) where T\n",
    "    \n",
    "    return Square{T}(center, side)\n",
    "end"
   ]
  },
  {
   "cell_type": "code",
   "execution_count": 42,
   "metadata": {},
   "outputs": [
    {
     "data": {
      "text/plain": [
       "1.0"
      ]
     },
     "metadata": {},
     "output_type": "display_data"
    }
   ],
   "source": [
    "# initialize Circle with custom default behaviour\n",
    "square = Square()\n",
    "square.side"
   ]
  },
  {
   "cell_type": "code",
   "execution_count": 43,
   "metadata": {},
   "outputs": [
    {
     "ename": "MethodError",
     "evalue": "MethodError: no method matching Circle()\nClosest candidates are:\n  Circle(!Matched::Vector{T}, !Matched::T) where T at /e/ocean2/users/lboess/Code_Coffee/Jan_22/presentation.ipynb:4",
     "output_type": "error",
     "traceback": [
      "MethodError: no method matching Circle()\n",
      "Closest candidates are:\n",
      "  Circle(!Matched::Vector{T}, !Matched::T) where T at /e/ocean2/users/lboess/Code_Coffee/Jan_22/presentation.ipynb:4\n",
      "\n",
      "Stacktrace:\n",
      "  [1] top-level scope\n",
      "    @ /e/ocean2/users/lboess/Code_Coffee/Jan_22/presentation.ipynb:1\n",
      "  [2] eval\n",
      "    @ ./boot.jl:373 [inlined]\n",
      "  [3] include_string(mapexpr::typeof(REPL.softscope), mod::Module, code::String, filename::String)\n",
      "    @ Base ./loading.jl:1196\n",
      "  [4] #invokelatest#2\n",
      "    @ ./essentials.jl:716 [inlined]\n",
      "  [5] invokelatest\n",
      "    @ ./essentials.jl:714 [inlined]\n",
      "  [6] (::VSCodeServer.var\"#150#151\"{VSCodeServer.NotebookRunCellArguments, String})()\n",
      "    @ VSCodeServer ~/.vscode-server/extensions/julialang.language-julia-1.5.9/scripts/packages/VSCodeServer/src/serve_notebook.jl:18\n",
      "  [7] withpath(f::VSCodeServer.var\"#150#151\"{VSCodeServer.NotebookRunCellArguments, String}, path::String)\n",
      "    @ VSCodeServer ~/.vscode-server/extensions/julialang.language-julia-1.5.9/scripts/packages/VSCodeServer/src/repl.jl:185\n",
      "  [8] notebook_runcell_request(conn::VSCodeServer.JSONRPC.JSONRPCEndpoint{Base.PipeEndpoint, Base.PipeEndpoint}, params::VSCodeServer.NotebookRunCellArguments)\n",
      "    @ VSCodeServer ~/.vscode-server/extensions/julialang.language-julia-1.5.9/scripts/packages/VSCodeServer/src/serve_notebook.jl:14\n",
      "  [9] dispatch_msg(x::VSCodeServer.JSONRPC.JSONRPCEndpoint{Base.PipeEndpoint, Base.PipeEndpoint}, dispatcher::VSCodeServer.JSONRPC.MsgDispatcher, msg::Dict{String, Any})\n",
      "    @ VSCodeServer.JSONRPC ~/.vscode-server/extensions/julialang.language-julia-1.5.9/scripts/packages/JSONRPC/src/typed.jl:67\n",
      " [10] serve_notebook(pipename::String; crashreporting_pipename::String)\n",
      "    @ VSCodeServer ~/.vscode-server/extensions/julialang.language-julia-1.5.9/scripts/packages/VSCodeServer/src/serve_notebook.jl:94\n",
      " [11] top-level scope\n",
      "    @ ~/.vscode-server/extensions/julialang.language-julia-1.5.9/scripts/notebook/notebook.jl:12\n",
      " [12] include(mod::Module, _path::String)\n",
      "    @ Base ./Base.jl:418\n",
      " [13] exec_options(opts::Base.JLOptions)\n",
      "    @ Base ./client.jl:292\n",
      " [14] _start()\n",
      "    @ Base ./client.jl:495"
     ]
    }
   ],
   "source": [
    "circle_default = Circle()"
   ]
  },
  {
   "cell_type": "code",
   "execution_count": 44,
   "metadata": {},
   "outputs": [],
   "source": [
    "# structs that can be modified\n",
    "mutable struct MutableSquare{T} <: AbstractShape\n",
    "    center::Vector{T}\n",
    "    side::T\n",
    "end"
   ]
  },
  {
   "cell_type": "code",
   "execution_count": 45,
   "metadata": {},
   "outputs": [
    {
     "ename": "ErrorException",
     "evalue": "setfield!: immutable struct of type Square cannot be changed",
     "output_type": "error",
     "traceback": [
      "setfield!: immutable struct of type Square cannot be changed\n",
      "\n",
      "Stacktrace:\n",
      "  [1] setproperty!(x::Square{Float64}, f::Symbol, v::Float64)\n",
      "    @ Base ./Base.jl:43\n",
      "  [2] top-level scope\n",
      "    @ /e/ocean2/users/lboess/Code_Coffee/Jan_22/presentation.ipynb:3\n",
      "  [3] eval\n",
      "    @ ./boot.jl:373 [inlined]\n",
      "  [4] include_string(mapexpr::typeof(REPL.softscope), mod::Module, code::String, filename::String)\n",
      "    @ Base ./loading.jl:1196\n",
      "  [5] #invokelatest#2\n",
      "    @ ./essentials.jl:716 [inlined]\n",
      "  [6] invokelatest\n",
      "    @ ./essentials.jl:714 [inlined]\n",
      "  [7] (::VSCodeServer.var\"#150#151\"{VSCodeServer.NotebookRunCellArguments, String})()\n",
      "    @ VSCodeServer ~/.vscode-server/extensions/julialang.language-julia-1.5.9/scripts/packages/VSCodeServer/src/serve_notebook.jl:18\n",
      "  [8] withpath(f::VSCodeServer.var\"#150#151\"{VSCodeServer.NotebookRunCellArguments, String}, path::String)\n",
      "    @ VSCodeServer ~/.vscode-server/extensions/julialang.language-julia-1.5.9/scripts/packages/VSCodeServer/src/repl.jl:185\n",
      "  [9] notebook_runcell_request(conn::VSCodeServer.JSONRPC.JSONRPCEndpoint{Base.PipeEndpoint, Base.PipeEndpoint}, params::VSCodeServer.NotebookRunCellArguments)\n",
      "    @ VSCodeServer ~/.vscode-server/extensions/julialang.language-julia-1.5.9/scripts/packages/VSCodeServer/src/serve_notebook.jl:14\n",
      " [10] dispatch_msg(x::VSCodeServer.JSONRPC.JSONRPCEndpoint{Base.PipeEndpoint, Base.PipeEndpoint}, dispatcher::VSCodeServer.JSONRPC.MsgDispatcher, msg::Dict{String, Any})\n",
      "    @ VSCodeServer.JSONRPC ~/.vscode-server/extensions/julialang.language-julia-1.5.9/scripts/packages/JSONRPC/src/typed.jl:67\n",
      " [11] serve_notebook(pipename::String; crashreporting_pipename::String)\n",
      "    @ VSCodeServer ~/.vscode-server/extensions/julialang.language-julia-1.5.9/scripts/packages/VSCodeServer/src/serve_notebook.jl:94\n",
      " [12] top-level scope\n",
      "    @ ~/.vscode-server/extensions/julialang.language-julia-1.5.9/scripts/notebook/notebook.jl:12\n",
      " [13] include(mod::Module, _path::String)\n",
      "    @ Base ./Base.jl:418\n",
      " [14] exec_options(opts::Base.JLOptions)\n",
      "    @ Base ./client.jl:292\n",
      " [15] _start()\n",
      "    @ Base ./client.jl:495"
     ]
    }
   ],
   "source": [
    "# immutable square -> fields can't be edited\n",
    "i_square = Square()\n",
    "i_square.side = 2.0"
   ]
  },
  {
   "cell_type": "code",
   "execution_count": 46,
   "metadata": {},
   "outputs": [
    {
     "data": {
      "text/plain": [
       "2.0"
      ]
     },
     "metadata": {},
     "output_type": "display_data"
    }
   ],
   "source": [
    "# mutable square -> fields can be edited\n",
    "m_square = MutableSquare([0.0, 0.0], 1.0)\n",
    "m_square.side = 2.0\n",
    "m_square.side"
   ]
  },
  {
   "cell_type": "markdown",
   "metadata": {},
   "source": [
    "## Functions\n",
    "\n",
    "### Multiple Dispatch"
   ]
  },
  {
   "cell_type": "code",
   "execution_count": 47,
   "metadata": {},
   "outputs": [
    {
     "data": {
      "text/plain": [
       "3.141592653589793"
      ]
     },
     "metadata": {},
     "output_type": "display_data"
    }
   ],
   "source": [
    "# For Circle\n",
    "function area(circle::Circle)\n",
    "    π*circle.radius^2\n",
    "end\n",
    "area(circle)"
   ]
  },
  {
   "cell_type": "code",
   "execution_count": 48,
   "metadata": {},
   "outputs": [
    {
     "data": {
      "text/plain": [
       "1.0"
      ]
     },
     "metadata": {},
     "output_type": "display_data"
    }
   ],
   "source": [
    "# for square\n",
    "function area(square::Square)\n",
    "    square.side^2\n",
    "end\n",
    "area(square)"
   ]
  },
  {
   "cell_type": "code",
   "execution_count": 49,
   "metadata": {},
   "outputs": [
    {
     "name": "stdout",
     "output_type": "stream",
     "text": [
      "circle: [5.5, 6.0]\n",
      "square: [5.0, 5.0]\n"
     ]
    }
   ],
   "source": [
    "# for both\n",
    "function center_plus5(shape::AbstractShape)\n",
    "    # element-wise operation (helper macro)\n",
    "    @. shape.center + 5.0\n",
    "end\n",
    "\n",
    "println(\"circle: \", center_plus5(circle))\n",
    "println(\"square: \", center_plus5(square))"
   ]
  },
  {
   "cell_type": "markdown",
   "metadata": {},
   "source": [
    "```julia\n",
    "struct Square{T} <: AbstractShape\n",
    "    center::Vector{T}\n",
    "    side::T\n",
    "end\n",
    "```"
   ]
  },
  {
   "cell_type": "code",
   "execution_count": 50,
   "metadata": {},
   "outputs": [
    {
     "name": "stdout",
     "output_type": "stream",
     "text": [
      "2.0 cm\n",
      "4.0 cm^2\n",
      "4.201060161156609e-43 kpc^2\n"
     ]
    }
   ],
   "source": [
    "# datatype T is arbitrary!\n",
    "# Example with units:\n",
    "using Unitful\n",
    "units_square = Square([0.0u\"cm\", 0.0u\"cm\"], 2.0u\"cm\")\n",
    "\n",
    "println(units_square.side)\n",
    "\n",
    "A = area(units_square)\n",
    "println(A)\n",
    "\n",
    "using UnitfulAstro      # for astronomy units\n",
    "A_kpc = A |> u\"kpc^2\"   # convert to kpc^2\n",
    "println(A_kpc)"
   ]
  },
  {
   "cell_type": "markdown",
   "metadata": {},
   "source": [
    "# What I like\n",
    "\n",
    "## (just-in-time) Compiled Language -> Performance\n",
    "\n",
    "### (Estimate pi example)"
   ]
  },
  {
   "cell_type": "code",
   "execution_count": null,
   "metadata": {},
   "outputs": [],
   "source": [
    "using SPHKernels\n",
    "\n",
    "function add_loop(N::Int64)\n",
    "    \n",
    "    # define kernel function\n",
    "    k = WendlandC6()\n",
    "    # define position array\n",
    "    x = [0.1, 0.0, 0.0]\n",
    "    # store value\n",
    "    count = 0.0\n",
    "\n",
    "    # run loop\n",
    "    for i = 1:N\n",
    "        # shift x-position\n",
    "        x[1] += 1.e-3 * x[1]\n",
    "        # calculate distance\n",
    "        r = √( x[1]^2 + x[2]^2 + x[3]^2 )\n",
    "        # add kernel value at distance r\n",
    "        count += 𝒲(k, r, 1.0)\n",
    "    end\n",
    "    count\n",
    "end"
   ]
  },
  {
   "cell_type": "code",
   "execution_count": null,
   "metadata": {},
   "outputs": [],
   "source": [
    "N = 1_000_000\n",
    "\n",
    "# usually: 1st function call slow (includes compile time)\n",
    "@time add_loop(N)\n",
    "# 2nd function call fast\n",
    "@time add_loop(N)\n",
    "\n",
    "# but: jupyter seems to compile the cell on execution"
   ]
  },
  {
   "cell_type": "markdown",
   "metadata": {},
   "source": [
    "![](https://julialang.org/assets/benchmarks/benchmarks.svg)"
   ]
  },
  {
   "cell_type": "markdown",
   "metadata": {},
   "source": [
    "## Development -> Production"
   ]
  },
  {
   "cell_type": "code",
   "execution_count": null,
   "metadata": {},
   "outputs": [],
   "source": [
    "# useful tool for performance improvements\n",
    "using BenchmarkTools"
   ]
  },
  {
   "cell_type": "code",
   "execution_count": null,
   "metadata": {},
   "outputs": [],
   "source": [
    "# Naive default\n",
    "function simple_add!(a)\n",
    "    for i = 1:length(a)\n",
    "        a[i] += 1.0\n",
    "    end\n",
    "end"
   ]
  },
  {
   "cell_type": "code",
   "execution_count": null,
   "metadata": {},
   "outputs": [],
   "source": [
    "# 255 -> does not fill an AVX512 register completely, so it will not vectorize by default\n",
    "a = zeros(255)\n",
    "# performance testing macro\n",
    "# runs the function N times and computes the mean execution time\n",
    "@btime simple_add!($a)"
   ]
  },
  {
   "cell_type": "code",
   "execution_count": null,
   "metadata": {},
   "outputs": [],
   "source": [
    "function inbounds_add!(a)\n",
    "    # switch of bounds check -> segmentation fault instead of error message if i > length(a)\n",
    "    @inbounds for i = 1:length(a)\n",
    "        a[i] += 1.0\n",
    "    end\n",
    "end"
   ]
  },
  {
   "cell_type": "code",
   "execution_count": null,
   "metadata": {},
   "outputs": [],
   "source": [
    "a = zeros(255)\n",
    "@btime inbounds_add!($a)"
   ]
  },
  {
   "cell_type": "code",
   "execution_count": null,
   "metadata": {},
   "outputs": [],
   "source": [
    "using LoopVectorization\n",
    "\n",
    "function avx_add!(a)\n",
    "    # enforce vectorization \n",
    "    @turbo for i = eachindex(a)\n",
    "        a[i] += 1.0\n",
    "    end\n",
    "end"
   ]
  },
  {
   "cell_type": "code",
   "execution_count": null,
   "metadata": {},
   "outputs": [],
   "source": [
    "a = zeros(255)\n",
    "@btime avx_add!($a)"
   ]
  },
  {
   "cell_type": "markdown",
   "metadata": {},
   "source": [
    "## Parallelisation\n",
    "\n",
    "### Shared Memory"
   ]
  },
  {
   "cell_type": "code",
   "execution_count": null,
   "metadata": {},
   "outputs": [],
   "source": [
    "using Base.Threads   # import threading library\n",
    "println(nthreads())  # number of allocated threads\n",
    "\n",
    "function threaded_add!(a)\n",
    "    # add macro in front of loop\n",
    "    @threads for i = 1:length(a)\n",
    "        @inbounds a[i] += 1.0\n",
    "    end\n",
    "end"
   ]
  },
  {
   "cell_type": "code",
   "execution_count": null,
   "metadata": {},
   "outputs": [],
   "source": [
    "a = zeros(255)\n",
    "# this will be slow, as is doesn't make sense to distribute such a small array over threads\n",
    "@btime threaded_add!($a)"
   ]
  },
  {
   "cell_type": "markdown",
   "metadata": {},
   "source": [
    "### Distributed Memory\n",
    "\n",
    "#### CC-NUMA"
   ]
  },
  {
   "cell_type": "markdown",
   "metadata": {},
   "source": [
    "```julia\n",
    "\"\"\" Native Julia parallelisation \"\"\"\n",
    "using Distributed\n",
    "# allocate cores\n",
    "addprocs(32)\n",
    "```\n"
   ]
  },
  {
   "cell_type": "markdown",
   "metadata": {},
   "source": [
    "#### Cluster"
   ]
  },
  {
   "cell_type": "markdown",
   "metadata": {},
   "source": [
    "```julia\n",
    "\"\"\" Julia implementation with SLURM / PBS / etc. \"\"\"\n",
    "using Distributed, ClusterManagers\n",
    "addprocs_slurm(512)\n",
    "```\n"
   ]
  },
  {
   "cell_type": "markdown",
   "metadata": {},
   "source": [
    "```julia\n",
    "\n",
    "\"\"\" MPI \"\"\"\n",
    "# MPI wrapper: https://github.com/JuliaParallel/MPI.jl\n",
    "using MPI\n",
    "\n",
    "MPI.Init()\n",
    "\n",
    "comm = MPI.COMM_WORLD\n",
    "print(\"Hello world, I am rank $(MPI.Comm_rank(comm)) of $(MPI.Comm_size(comm))\\n\")\n",
    "MPI.Barrier(comm)\n",
    "```\n"
   ]
  },
  {
   "cell_type": "markdown",
   "metadata": {},
   "source": [
    "```julia\n",
    "\n",
    "\"\"\" Alternative native Julia implementation \"\"\"\n",
    "# in + out of core parallelisation\n",
    "using Distributed; addprocs(8) # get us some workers\n",
    "using Dagger                   # https://github.com/JuliaParallel/Dagger.jl\n",
    "\n",
    "# do some stuff in parallel!\n",
    "a = Dagger.@spawn 1+3\n",
    "b = Dagger.@spawn rand(a, 4)\n",
    "c = Dagger.@spawn sum(b)\n",
    "fetch(c) # some number!\n",
    "```"
   ]
  },
  {
   "cell_type": "markdown",
   "metadata": {},
   "source": [
    "## Relationship to Python\n",
    "\n",
    "### PyCall"
   ]
  },
  {
   "cell_type": "code",
   "execution_count": 51,
   "metadata": {},
   "outputs": [
    {
     "data": {
      "text/plain": [
       "PyObject <module 'numpy' from '/home/moon/lboess/.local/lib/python3.6/site-packages/numpy/__init__.py'>"
      ]
     },
     "metadata": {},
     "output_type": "display_data"
    }
   ],
   "source": [
    "using PyCall\n",
    "# import any package by name\n",
    "np = pyimport(\"numpy\")"
   ]
  },
  {
   "cell_type": "code",
   "execution_count": 52,
   "metadata": {},
   "outputs": [
    {
     "data": {
      "text/plain": [
       "true"
      ]
     },
     "metadata": {},
     "output_type": "display_data"
    }
   ],
   "source": [
    "# numpy       julia\n",
    "np.sqrt(2) == √(2)"
   ]
  },
  {
   "cell_type": "markdown",
   "metadata": {},
   "source": [
    "### PyPlot"
   ]
  },
  {
   "cell_type": "code",
   "execution_count": 53,
   "metadata": {},
   "outputs": [
    {
     "name": "stderr",
     "output_type": "stream",
     "text": [
      "┌ Warning: `vendor()` is deprecated, use `BLAS.get_config()` and inspect the output instead\n",
      "│   caller = npyinitialize() at numpy.jl:67\n",
      "└ @ PyCall /home/moon/lboess/.julia/packages/PyCall/L0fLP/src/numpy.jl:67\n"
     ]
    },
    {
     "data": {
      "image/png": "[encoded data removed]",
      "text/plain": [
       "Figure(PyObject <Figure size 640x480 with 1 Axes>)"
      ]
     },
     "metadata": {},
     "output_type": "display_data"
    }
   ],
   "source": [
    "using PyPlot   # matplotlib wrapper for Julia\n",
    "\n",
    "# rcParams\n",
    "rc(\"font\", family = \"stixgeneral\")\n",
    "rc(\"mathtext\", fontset = \"stix\")\n",
    "\n",
    "fig = figure()\n",
    "\n",
    "subplot(1,1,1)\n",
    "    # get the current axis\n",
    "    ax = gca()\n",
    "\n",
    "    ax.set_xlim([0.0, 1.0])\n",
    "    ax.set_ylim([1.e-4, 1.0])\n",
    "    ax.set_yscale(\"log\")\n",
    "\n",
    "    xlabel(\"x\")\n",
    "    # L\"\" defines a LaTeX string\n",
    "    ylabel(L\"\\Sigma_\\odot\", fontsize=15)\n",
    "\n",
    "    scatter(rand(10), rand(10), label=\"example\")\n",
    "\n",
    "    legend(frameon=false, loc=\"lower right\")\n",
    "\n",
    "fig\n"
   ]
  },
  {
   "cell_type": "markdown",
   "metadata": {},
   "source": [
    "## Astro-Libraries\n",
    "\n",
    "[JuliaAstro](https://github.com/orgs/JuliaAstro/repositories)\n",
    "\n",
    "Packages for Cosmology, Transits, WCS, CCD reduction, ..."
   ]
  },
  {
   "cell_type": "markdown",
   "metadata": {},
   "source": [
    "# What I dislike\n",
    "\n",
    "## Startup time due to JIT compile"
   ]
  },
  {
   "cell_type": "code",
   "execution_count": 54,
   "metadata": {},
   "outputs": [
    {
     "name": "stdout",
     "output_type": "stream",
     "text": [
      "  9.286859 seconds (12.71 M allocations: 883.573 MiB, 5.96% gc time, 11.94% compilation time)\n"
     ]
    }
   ],
   "source": [
    "@time using CairoMakie"
   ]
  },
  {
   "cell_type": "code",
   "execution_count": 55,
   "metadata": {},
   "outputs": [
    {
     "data": {
      "image/png": "[encoded data removed]",
      "text/plain": [
       "Scene (800px, 600px):\n",
       "  18 Plots:\n",
       "    ├ Mesh{Tuple{GeometryBasics.Mesh{2, Float32, GeometryBasics.TriangleP{2, Float32, GeometryBasics.PointMeta{2, Float32, Point{2, Float32}, (:uv, :normals), Tuple{Vec{2, Float32}, Vec{3, Float32}}}}, GeometryBasics.FaceView{GeometryBasics.TriangleP{2, Float32, GeometryBasics.PointMeta{2, Float32, Point{2, Float32}, (:uv, :normals), Tuple{Vec{2, Float32}, Vec{3, Float32}}}}, GeometryBasics.PointMeta{2, Float32, Point{2, Float32}, (:uv, :normals), Tuple{Vec{2, Float32}, Vec{3, Float32}}}, GeometryBasics.NgonFace{3, GeometryBasics.OffsetInteger{-1, UInt32}}, StructArrays.StructVector{GeometryBasics.PointMeta{2, Float32, Point{2, Float32}, (:uv, :normals), Tuple{Vec{2, Float32}, Vec{3, Float32}}}, NamedTuple{(:position, :uv, :normals), Tuple{Vector{Point{2, Float32}}, Vector{Vec{2, Float32}}, Vector{Vec{3, Float32}}}}, Int64}, Vector{GeometryBasics.NgonFace{3, GeometryBasics.OffsetInteger{-1, UInt32}}}}}}}\n",
       "    ├ LineSegments{Tuple{Vector{Point{2, Float32}}}}\n",
       "    ├ LineSegments{Tuple{Vector{Point{2, Float32}}}}\n",
       "    ├ LineSegments{Tuple{Vector{Point{2, Float32}}}}\n",
       "    ├ LineSegments{Tuple{Vector{Point{2, Float32}}}}\n",
       "    ├ LineSegments{Tuple{Vector{Point{2, Float32}}}}\n",
       "    ├ LineSegments{Tuple{Vector{Point{2, Float32}}}}\n",
       "    ├ MakieCore.Text{Tuple{String}}\n",
       "    ├ Lines{Tuple{Vector{Point{2, Float32}}}}\n",
       "    ├ MakieCore.Text{Tuple{Vector{Tuple{AbstractString, Point{2, Float32}}}}}\n",
       "    ├ LineSegments{Tuple{Vector{Point{2, Float32}}}}\n",
       "    ├ LineSegments{Tuple{Vector{Point{2, Float32}}}}\n",
       "    ├ MakieCore.Text{Tuple{String}}\n",
       "    ├ Lines{Tuple{Vector{Point{2, Float32}}}}\n",
       "    ├ MakieCore.Text{Tuple{Vector{Tuple{AbstractString, Point{2, Float32}}}}}\n",
       "    ├ Lines{Tuple{Vector{Point{2, Float32}}}}\n",
       "    ├ Lines{Tuple{Vector{Point{2, Float32}}}}\n",
       "    └ MakieCore.Text{Tuple{String}}\n",
       "  1 Child Scene:\n",
       "    └ Scene (734px, 541px)"
      ]
     },
     "metadata": {},
     "output_type": "display_data"
    }
   ],
   "source": [
    "# time to first plot is LONG!\n",
    "fig = CairoMakie.Figure()\n",
    "Axis(fig[1, 1])\n",
    "\n",
    "density!(randn(200))\n",
    "fig"
   ]
  },
  {
   "cell_type": "code",
   "execution_count": 56,
   "metadata": {},
   "outputs": [
    {
     "data": {
      "image/png": "[encoded data removed]",
      "text/plain": [
       "Scene (800px, 600px):\n",
       "  18 Plots:\n",
       "    ├ Mesh{Tuple{GeometryBasics.Mesh{2, Float32, GeometryBasics.TriangleP{2, Float32, GeometryBasics.PointMeta{2, Float32, Point{2, Float32}, (:uv, :normals), Tuple{Vec{2, Float32}, Vec{3, Float32}}}}, GeometryBasics.FaceView{GeometryBasics.TriangleP{2, Float32, GeometryBasics.PointMeta{2, Float32, Point{2, Float32}, (:uv, :normals), Tuple{Vec{2, Float32}, Vec{3, Float32}}}}, GeometryBasics.PointMeta{2, Float32, Point{2, Float32}, (:uv, :normals), Tuple{Vec{2, Float32}, Vec{3, Float32}}}, GeometryBasics.NgonFace{3, GeometryBasics.OffsetInteger{-1, UInt32}}, StructArrays.StructVector{GeometryBasics.PointMeta{2, Float32, Point{2, Float32}, (:uv, :normals), Tuple{Vec{2, Float32}, Vec{3, Float32}}}, NamedTuple{(:position, :uv, :normals), Tuple{Vector{Point{2, Float32}}, Vector{Vec{2, Float32}}, Vector{Vec{3, Float32}}}}, Int64}, Vector{GeometryBasics.NgonFace{3, GeometryBasics.OffsetInteger{-1, UInt32}}}}}}}\n",
       "    ├ LineSegments{Tuple{Vector{Point{2, Float32}}}}\n",
       "    ├ LineSegments{Tuple{Vector{Point{2, Float32}}}}\n",
       "    ├ LineSegments{Tuple{Vector{Point{2, Float32}}}}\n",
       "    ├ LineSegments{Tuple{Vector{Point{2, Float32}}}}\n",
       "    ├ LineSegments{Tuple{Vector{Point{2, Float32}}}}\n",
       "    ├ LineSegments{Tuple{Vector{Point{2, Float32}}}}\n",
       "    ├ MakieCore.Text{Tuple{String}}\n",
       "    ├ Lines{Tuple{Vector{Point{2, Float32}}}}\n",
       "    ├ MakieCore.Text{Tuple{Vector{Tuple{AbstractString, Point{2, Float32}}}}}\n",
       "    ├ LineSegments{Tuple{Vector{Point{2, Float32}}}}\n",
       "    ├ LineSegments{Tuple{Vector{Point{2, Float32}}}}\n",
       "    ├ MakieCore.Text{Tuple{String}}\n",
       "    ├ Lines{Tuple{Vector{Point{2, Float32}}}}\n",
       "    ├ MakieCore.Text{Tuple{Vector{Tuple{AbstractString, Point{2, Float32}}}}}\n",
       "    ├ Lines{Tuple{Vector{Point{2, Float32}}}}\n",
       "    ├ Lines{Tuple{Vector{Point{2, Float32}}}}\n",
       "    └ MakieCore.Text{Tuple{String}}\n",
       "  1 Child Scene:\n",
       "    └ Scene (671px, 518px)"
      ]
     },
     "metadata": {},
     "output_type": "display_data"
    }
   ],
   "source": [
    "# next plot is significantly faster\n",
    "\n",
    "months = [\"January\", \"February\", \"March\", \"April\",\n",
    "    \"May\", \"June\", \"July\", \"August\", \"September\",\n",
    "    \"October\", \"November\", \"December\"]\n",
    "\n",
    "fig = CairoMakie.Figure()\n",
    "Axis(fig[1, 1], title = \"Fictive temperatures\",\n",
    "    yticks = ((1:12) ./ 4,  reverse(months)))\n",
    "\n",
    "for i in 12:-1:1\n",
    "    d = density!(randn(250) .- 2sin((i+3)/6*pi), offset = i / 4,\n",
    "        color = :x, colormap = :thermal, colorrange = (-5, 5),\n",
    "        strokewidth = 1, strokecolor = :black)\n",
    "    # this helps with layering in GLMakie\n",
    "    translate!(d, 0, 0, -0.1i)\n",
    "end\n",
    "fig"
   ]
  },
  {
   "cell_type": "markdown",
   "metadata": {},
   "source": [
    "## One Solution:\n",
    "\n",
    "Dynamically reload code with [Revise](https://timholy.github.io/Revise.jl/stable/).\n",
    "\n",
    "On the USM systems you need to add `export JULIA_REVISE_POLL=1` to your .bashrc!"
   ]
  },
  {
   "cell_type": "markdown",
   "metadata": {},
   "source": [
    "# Usage on USM systems"
   ]
  },
  {
   "cell_type": "markdown",
   "metadata": {},
   "source": [
    "- Installing Julia\n",
    "    - Download latest release [here](https://julialang.org/downloads/)\n",
    "    - Unpack .tar file with `tar -xvf <filename>`\n",
    "    - Add these environment variables to your .bashrc:\n",
    "        - `export JULIA_REVISE_POLL=1`                           (this checks imported packages based on time, not edits)\n",
    "        - `export JULIA_NUM_THREADS=<Nthreads>`                  (number of threads Julia is allowed to use)\n",
    "        - `export JULIA_HOME=~/julia-1.7.1/bin`  (location of the Julia binary)\n",
    "        - `export PATH=$JULIA_HOME:$PATH`                        (add binary to path)\n",
    "\n",
    "\n",
    "- Jupyter notebook:\n",
    "    - Install Julia\n",
    "    - Add package [IJulia](https://julialang.github.io/IJulia.jl/stable/manual/installation/)\n",
    "    - Open a notebook and select the julia kernel.\n",
    "    - Start coding!\n",
    "\n",
    "\n",
    "- VSCode:\n",
    "    - Install Julia\n",
    "    - Add Julia [extension](https://www.julia-vscode.org/)\n",
    "    - Create a `.jl` file and write some code.\n",
    "    - Run individual lines with `shift+enter`\n",
    "\n",
    "\n",
    "- REPL:\n",
    "    - Install Julia\n",
    "    - type `julia` in the terminal\n",
    "    - write code directly on the REPL, or: \n",
    "        - dynamically load code from a file with `using Revise; includet(\"path/to/file.jl\")`\n",
    "        - edit the file in an editor\n",
    "        - call the functions of the file from the REPL"
   ]
  },
  {
   "cell_type": "markdown",
   "metadata": {},
   "source": []
  }
 ],
 "metadata": {
  "kernelspec": {
   "display_name": "Julia 1.7.1",
   "language": "julia",
   "name": "julia-1.7"
  },
  "language_info": {
   "file_extension": ".jl",
   "mimetype": "application/julia",
   "name": "julia",
   "version": "1.7.1"
  },
  "orig_nbformat": 4
 },
 "nbformat": 4,
 "nbformat_minor": 2
}
